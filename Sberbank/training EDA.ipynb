{
 "cells": [
  {
   "cell_type": "code",
   "execution_count": 3,
   "metadata": {
    "collapsed": false
   },
   "outputs": [
    {
     "name": "stderr",
     "output_type": "stream",
     "text": [
      "/Users/rezarad/anaconda2/lib/python2.7/site-packages/sklearn/cross_validation.py:44: DeprecationWarning: This module was deprecated in version 0.18 in favor of the model_selection module into which all the refactored classes and functions are moved. Also note that the interface of the new CV iterators are different from that of this module. This module will be removed in 0.20.\n",
      "  \"This module will be removed in 0.20.\", DeprecationWarning)\n"
     ]
    }
   ],
   "source": [
    "import pandas as pd\n",
    "import matplotlib.pyplot as plt\n",
    "import matplotlib\n",
    "import seaborn as sns\n",
    "import numpy as np\n",
    "import scipy as sp\n",
    "import os\n",
    "import xgboost as xgb\n",
    "%matplotlib inline"
   ]
  },
  {
   "cell_type": "markdown",
   "metadata": {
    "collapsed": true
   },
   "source": [
    "Let's load the data into pandas dataframes"
   ]
  },
  {
   "cell_type": "code",
   "execution_count": 4,
   "metadata": {
    "collapsed": false,
    "scrolled": true
   },
   "outputs": [
    {
     "name": "stdout",
     "output_type": "stream",
     "text": [
      "(30471, 292)\n",
      "(7662, 291)\n",
      "(2484, 100)\n"
     ]
    },
    {
     "data": {
      "text/html": [
       "<div>\n",
       "<style>\n",
       "    .dataframe thead tr:only-child th {\n",
       "        text-align: right;\n",
       "    }\n",
       "\n",
       "    .dataframe thead th {\n",
       "        text-align: left;\n",
       "    }\n",
       "\n",
       "    .dataframe tbody tr th {\n",
       "        vertical-align: top;\n",
       "    }\n",
       "</style>\n",
       "<table border=\"1\" class=\"dataframe\">\n",
       "  <thead>\n",
       "    <tr style=\"text-align: right;\">\n",
       "      <th></th>\n",
       "      <th>id</th>\n",
       "      <th>timestamp</th>\n",
       "      <th>full_sq</th>\n",
       "      <th>life_sq</th>\n",
       "      <th>floor</th>\n",
       "      <th>max_floor</th>\n",
       "      <th>material</th>\n",
       "      <th>build_year</th>\n",
       "      <th>num_room</th>\n",
       "      <th>kitch_sq</th>\n",
       "      <th>...</th>\n",
       "      <th>cafe_count_5000_price_2500</th>\n",
       "      <th>cafe_count_5000_price_4000</th>\n",
       "      <th>cafe_count_5000_price_high</th>\n",
       "      <th>big_church_count_5000</th>\n",
       "      <th>church_count_5000</th>\n",
       "      <th>mosque_count_5000</th>\n",
       "      <th>leisure_count_5000</th>\n",
       "      <th>sport_count_5000</th>\n",
       "      <th>market_count_5000</th>\n",
       "      <th>price_doc</th>\n",
       "    </tr>\n",
       "  </thead>\n",
       "  <tbody>\n",
       "    <tr>\n",
       "      <th>0</th>\n",
       "      <td>1</td>\n",
       "      <td>2011-08-20</td>\n",
       "      <td>43</td>\n",
       "      <td>27.0</td>\n",
       "      <td>4.0</td>\n",
       "      <td>NaN</td>\n",
       "      <td>NaN</td>\n",
       "      <td>NaN</td>\n",
       "      <td>NaN</td>\n",
       "      <td>NaN</td>\n",
       "      <td>...</td>\n",
       "      <td>9</td>\n",
       "      <td>4</td>\n",
       "      <td>0</td>\n",
       "      <td>13</td>\n",
       "      <td>22</td>\n",
       "      <td>1</td>\n",
       "      <td>0</td>\n",
       "      <td>52</td>\n",
       "      <td>4</td>\n",
       "      <td>5850000</td>\n",
       "    </tr>\n",
       "    <tr>\n",
       "      <th>1</th>\n",
       "      <td>2</td>\n",
       "      <td>2011-08-23</td>\n",
       "      <td>34</td>\n",
       "      <td>19.0</td>\n",
       "      <td>3.0</td>\n",
       "      <td>NaN</td>\n",
       "      <td>NaN</td>\n",
       "      <td>NaN</td>\n",
       "      <td>NaN</td>\n",
       "      <td>NaN</td>\n",
       "      <td>...</td>\n",
       "      <td>15</td>\n",
       "      <td>3</td>\n",
       "      <td>0</td>\n",
       "      <td>15</td>\n",
       "      <td>29</td>\n",
       "      <td>1</td>\n",
       "      <td>10</td>\n",
       "      <td>66</td>\n",
       "      <td>14</td>\n",
       "      <td>6000000</td>\n",
       "    </tr>\n",
       "    <tr>\n",
       "      <th>2</th>\n",
       "      <td>3</td>\n",
       "      <td>2011-08-27</td>\n",
       "      <td>43</td>\n",
       "      <td>29.0</td>\n",
       "      <td>2.0</td>\n",
       "      <td>NaN</td>\n",
       "      <td>NaN</td>\n",
       "      <td>NaN</td>\n",
       "      <td>NaN</td>\n",
       "      <td>NaN</td>\n",
       "      <td>...</td>\n",
       "      <td>10</td>\n",
       "      <td>3</td>\n",
       "      <td>0</td>\n",
       "      <td>11</td>\n",
       "      <td>27</td>\n",
       "      <td>0</td>\n",
       "      <td>4</td>\n",
       "      <td>67</td>\n",
       "      <td>10</td>\n",
       "      <td>5700000</td>\n",
       "    </tr>\n",
       "    <tr>\n",
       "      <th>3</th>\n",
       "      <td>4</td>\n",
       "      <td>2011-09-01</td>\n",
       "      <td>89</td>\n",
       "      <td>50.0</td>\n",
       "      <td>9.0</td>\n",
       "      <td>NaN</td>\n",
       "      <td>NaN</td>\n",
       "      <td>NaN</td>\n",
       "      <td>NaN</td>\n",
       "      <td>NaN</td>\n",
       "      <td>...</td>\n",
       "      <td>11</td>\n",
       "      <td>2</td>\n",
       "      <td>1</td>\n",
       "      <td>4</td>\n",
       "      <td>4</td>\n",
       "      <td>0</td>\n",
       "      <td>0</td>\n",
       "      <td>26</td>\n",
       "      <td>3</td>\n",
       "      <td>13100000</td>\n",
       "    </tr>\n",
       "    <tr>\n",
       "      <th>4</th>\n",
       "      <td>5</td>\n",
       "      <td>2011-09-05</td>\n",
       "      <td>77</td>\n",
       "      <td>77.0</td>\n",
       "      <td>4.0</td>\n",
       "      <td>NaN</td>\n",
       "      <td>NaN</td>\n",
       "      <td>NaN</td>\n",
       "      <td>NaN</td>\n",
       "      <td>NaN</td>\n",
       "      <td>...</td>\n",
       "      <td>319</td>\n",
       "      <td>108</td>\n",
       "      <td>17</td>\n",
       "      <td>135</td>\n",
       "      <td>236</td>\n",
       "      <td>2</td>\n",
       "      <td>91</td>\n",
       "      <td>195</td>\n",
       "      <td>14</td>\n",
       "      <td>16331452</td>\n",
       "    </tr>\n",
       "  </tbody>\n",
       "</table>\n",
       "<p>5 rows × 292 columns</p>\n",
       "</div>"
      ],
      "text/plain": [
       "   id  timestamp  full_sq  life_sq  floor  max_floor  material  build_year  \\\n",
       "0   1 2011-08-20       43     27.0    4.0        NaN       NaN         NaN   \n",
       "1   2 2011-08-23       34     19.0    3.0        NaN       NaN         NaN   \n",
       "2   3 2011-08-27       43     29.0    2.0        NaN       NaN         NaN   \n",
       "3   4 2011-09-01       89     50.0    9.0        NaN       NaN         NaN   \n",
       "4   5 2011-09-05       77     77.0    4.0        NaN       NaN         NaN   \n",
       "\n",
       "   num_room  kitch_sq    ...      cafe_count_5000_price_2500  \\\n",
       "0       NaN       NaN    ...                               9   \n",
       "1       NaN       NaN    ...                              15   \n",
       "2       NaN       NaN    ...                              10   \n",
       "3       NaN       NaN    ...                              11   \n",
       "4       NaN       NaN    ...                             319   \n",
       "\n",
       "  cafe_count_5000_price_4000 cafe_count_5000_price_high  \\\n",
       "0                          4                          0   \n",
       "1                          3                          0   \n",
       "2                          3                          0   \n",
       "3                          2                          1   \n",
       "4                        108                         17   \n",
       "\n",
       "   big_church_count_5000  church_count_5000  mosque_count_5000  \\\n",
       "0                     13                 22                  1   \n",
       "1                     15                 29                  1   \n",
       "2                     11                 27                  0   \n",
       "3                      4                  4                  0   \n",
       "4                    135                236                  2   \n",
       "\n",
       "   leisure_count_5000  sport_count_5000  market_count_5000  price_doc  \n",
       "0                   0                52                  4    5850000  \n",
       "1                  10                66                 14    6000000  \n",
       "2                   4                67                 10    5700000  \n",
       "3                   0                26                  3   13100000  \n",
       "4                  91               195                 14   16331452  \n",
       "\n",
       "[5 rows x 292 columns]"
      ]
     },
     "execution_count": 4,
     "metadata": {},
     "output_type": "execute_result"
    }
   ],
   "source": [
    "train = pd.read_csv(\"./train.csv\", parse_dates = ['timestamp'])\n",
    "print train.shape\n",
    "test = pd.read_csv(\"./test.csv\", parse_dates = ['timestamp'])\n",
    "print test.shape\n",
    "macro = pd.read_csv(\"./macro.csv\", parse_dates = ['timestamp'])\n",
    "print macro.shape\n",
    "train.head()"
   ]
  },
  {
   "cell_type": "code",
   "execution_count": 5,
   "metadata": {
    "collapsed": false
   },
   "outputs": [
    {
     "data": {
      "text/html": [
       "<div>\n",
       "<style>\n",
       "    .dataframe thead tr:only-child th {\n",
       "        text-align: right;\n",
       "    }\n",
       "\n",
       "    .dataframe thead th {\n",
       "        text-align: left;\n",
       "    }\n",
       "\n",
       "    .dataframe tbody tr th {\n",
       "        vertical-align: top;\n",
       "    }\n",
       "</style>\n",
       "<table border=\"1\" class=\"dataframe\">\n",
       "  <thead>\n",
       "    <tr style=\"text-align: right;\">\n",
       "      <th></th>\n",
       "      <th>timestamp</th>\n",
       "      <th>oil_urals</th>\n",
       "      <th>gdp_quart</th>\n",
       "      <th>gdp_quart_growth</th>\n",
       "      <th>cpi</th>\n",
       "      <th>ppi</th>\n",
       "      <th>gdp_deflator</th>\n",
       "      <th>balance_trade</th>\n",
       "      <th>balance_trade_growth</th>\n",
       "      <th>usdrub</th>\n",
       "      <th>...</th>\n",
       "      <th>provision_retail_space_modern_sqm</th>\n",
       "      <th>turnover_catering_per_cap</th>\n",
       "      <th>theaters_viewers_per_1000_cap</th>\n",
       "      <th>seats_theather_rfmin_per_100000_cap</th>\n",
       "      <th>museum_visitis_per_100_cap</th>\n",
       "      <th>bandwidth_sports</th>\n",
       "      <th>population_reg_sports_share</th>\n",
       "      <th>students_reg_sports_share</th>\n",
       "      <th>apartment_build</th>\n",
       "      <th>apartment_fund_sqm</th>\n",
       "    </tr>\n",
       "  </thead>\n",
       "  <tbody>\n",
       "    <tr>\n",
       "      <th>0</th>\n",
       "      <td>2010-01-01</td>\n",
       "      <td>76.1</td>\n",
       "      <td>NaN</td>\n",
       "      <td>NaN</td>\n",
       "      <td>NaN</td>\n",
       "      <td>NaN</td>\n",
       "      <td>NaN</td>\n",
       "      <td>NaN</td>\n",
       "      <td>NaN</td>\n",
       "      <td>NaN</td>\n",
       "      <td>...</td>\n",
       "      <td>690.0</td>\n",
       "      <td>6221.0</td>\n",
       "      <td>527.0</td>\n",
       "      <td>0.41</td>\n",
       "      <td>993.0</td>\n",
       "      <td>NaN</td>\n",
       "      <td>NaN</td>\n",
       "      <td>63.03</td>\n",
       "      <td>22825.0</td>\n",
       "      <td>NaN</td>\n",
       "    </tr>\n",
       "    <tr>\n",
       "      <th>1</th>\n",
       "      <td>2010-01-02</td>\n",
       "      <td>76.1</td>\n",
       "      <td>NaN</td>\n",
       "      <td>NaN</td>\n",
       "      <td>NaN</td>\n",
       "      <td>NaN</td>\n",
       "      <td>NaN</td>\n",
       "      <td>NaN</td>\n",
       "      <td>NaN</td>\n",
       "      <td>NaN</td>\n",
       "      <td>...</td>\n",
       "      <td>690.0</td>\n",
       "      <td>6221.0</td>\n",
       "      <td>527.0</td>\n",
       "      <td>0.41</td>\n",
       "      <td>993.0</td>\n",
       "      <td>NaN</td>\n",
       "      <td>NaN</td>\n",
       "      <td>63.03</td>\n",
       "      <td>22825.0</td>\n",
       "      <td>NaN</td>\n",
       "    </tr>\n",
       "    <tr>\n",
       "      <th>2</th>\n",
       "      <td>2010-01-03</td>\n",
       "      <td>76.1</td>\n",
       "      <td>NaN</td>\n",
       "      <td>NaN</td>\n",
       "      <td>NaN</td>\n",
       "      <td>NaN</td>\n",
       "      <td>NaN</td>\n",
       "      <td>NaN</td>\n",
       "      <td>NaN</td>\n",
       "      <td>NaN</td>\n",
       "      <td>...</td>\n",
       "      <td>690.0</td>\n",
       "      <td>6221.0</td>\n",
       "      <td>527.0</td>\n",
       "      <td>0.41</td>\n",
       "      <td>993.0</td>\n",
       "      <td>NaN</td>\n",
       "      <td>NaN</td>\n",
       "      <td>63.03</td>\n",
       "      <td>22825.0</td>\n",
       "      <td>NaN</td>\n",
       "    </tr>\n",
       "    <tr>\n",
       "      <th>3</th>\n",
       "      <td>2010-01-04</td>\n",
       "      <td>76.1</td>\n",
       "      <td>NaN</td>\n",
       "      <td>NaN</td>\n",
       "      <td>NaN</td>\n",
       "      <td>NaN</td>\n",
       "      <td>NaN</td>\n",
       "      <td>NaN</td>\n",
       "      <td>NaN</td>\n",
       "      <td>29.905</td>\n",
       "      <td>...</td>\n",
       "      <td>690.0</td>\n",
       "      <td>6221.0</td>\n",
       "      <td>527.0</td>\n",
       "      <td>0.41</td>\n",
       "      <td>993.0</td>\n",
       "      <td>NaN</td>\n",
       "      <td>NaN</td>\n",
       "      <td>63.03</td>\n",
       "      <td>22825.0</td>\n",
       "      <td>NaN</td>\n",
       "    </tr>\n",
       "    <tr>\n",
       "      <th>4</th>\n",
       "      <td>2010-01-05</td>\n",
       "      <td>76.1</td>\n",
       "      <td>NaN</td>\n",
       "      <td>NaN</td>\n",
       "      <td>NaN</td>\n",
       "      <td>NaN</td>\n",
       "      <td>NaN</td>\n",
       "      <td>NaN</td>\n",
       "      <td>NaN</td>\n",
       "      <td>29.836</td>\n",
       "      <td>...</td>\n",
       "      <td>690.0</td>\n",
       "      <td>6221.0</td>\n",
       "      <td>527.0</td>\n",
       "      <td>0.41</td>\n",
       "      <td>993.0</td>\n",
       "      <td>NaN</td>\n",
       "      <td>NaN</td>\n",
       "      <td>63.03</td>\n",
       "      <td>22825.0</td>\n",
       "      <td>NaN</td>\n",
       "    </tr>\n",
       "  </tbody>\n",
       "</table>\n",
       "<p>5 rows × 100 columns</p>\n",
       "</div>"
      ],
      "text/plain": [
       "   timestamp  oil_urals  gdp_quart  gdp_quart_growth  cpi  ppi  gdp_deflator  \\\n",
       "0 2010-01-01       76.1        NaN               NaN  NaN  NaN           NaN   \n",
       "1 2010-01-02       76.1        NaN               NaN  NaN  NaN           NaN   \n",
       "2 2010-01-03       76.1        NaN               NaN  NaN  NaN           NaN   \n",
       "3 2010-01-04       76.1        NaN               NaN  NaN  NaN           NaN   \n",
       "4 2010-01-05       76.1        NaN               NaN  NaN  NaN           NaN   \n",
       "\n",
       "   balance_trade  balance_trade_growth  usdrub         ...          \\\n",
       "0            NaN                   NaN     NaN         ...           \n",
       "1            NaN                   NaN     NaN         ...           \n",
       "2            NaN                   NaN     NaN         ...           \n",
       "3            NaN                   NaN  29.905         ...           \n",
       "4            NaN                   NaN  29.836         ...           \n",
       "\n",
       "   provision_retail_space_modern_sqm  turnover_catering_per_cap  \\\n",
       "0                              690.0                     6221.0   \n",
       "1                              690.0                     6221.0   \n",
       "2                              690.0                     6221.0   \n",
       "3                              690.0                     6221.0   \n",
       "4                              690.0                     6221.0   \n",
       "\n",
       "   theaters_viewers_per_1000_cap  seats_theather_rfmin_per_100000_cap  \\\n",
       "0                          527.0                                 0.41   \n",
       "1                          527.0                                 0.41   \n",
       "2                          527.0                                 0.41   \n",
       "3                          527.0                                 0.41   \n",
       "4                          527.0                                 0.41   \n",
       "\n",
       "   museum_visitis_per_100_cap  bandwidth_sports  population_reg_sports_share  \\\n",
       "0                       993.0               NaN                          NaN   \n",
       "1                       993.0               NaN                          NaN   \n",
       "2                       993.0               NaN                          NaN   \n",
       "3                       993.0               NaN                          NaN   \n",
       "4                       993.0               NaN                          NaN   \n",
       "\n",
       "   students_reg_sports_share  apartment_build  apartment_fund_sqm  \n",
       "0                      63.03          22825.0                 NaN  \n",
       "1                      63.03          22825.0                 NaN  \n",
       "2                      63.03          22825.0                 NaN  \n",
       "3                      63.03          22825.0                 NaN  \n",
       "4                      63.03          22825.0                 NaN  \n",
       "\n",
       "[5 rows x 100 columns]"
      ]
     },
     "execution_count": 5,
     "metadata": {},
     "output_type": "execute_result"
    }
   ],
   "source": [
    "macro.head()"
   ]
  },
  {
   "cell_type": "code",
   "execution_count": 6,
   "metadata": {
    "collapsed": false
   },
   "outputs": [],
   "source": [
    "hftrain = train.iloc[:,[0,1,2,3,4,5,6,7,8,9,10,11,12,13,291]]"
   ]
  },
  {
   "cell_type": "code",
   "execution_count": 7,
   "metadata": {
    "collapsed": false
   },
   "outputs": [
    {
     "data": {
      "text/html": [
       "<div>\n",
       "<style>\n",
       "    .dataframe thead tr:only-child th {\n",
       "        text-align: right;\n",
       "    }\n",
       "\n",
       "    .dataframe thead th {\n",
       "        text-align: left;\n",
       "    }\n",
       "\n",
       "    .dataframe tbody tr th {\n",
       "        vertical-align: top;\n",
       "    }\n",
       "</style>\n",
       "<table border=\"1\" class=\"dataframe\">\n",
       "  <thead>\n",
       "    <tr style=\"text-align: right;\">\n",
       "      <th></th>\n",
       "      <th>id</th>\n",
       "      <th>timestamp</th>\n",
       "      <th>full_sq</th>\n",
       "      <th>life_sq</th>\n",
       "      <th>floor</th>\n",
       "      <th>max_floor</th>\n",
       "      <th>material</th>\n",
       "      <th>build_year</th>\n",
       "      <th>num_room</th>\n",
       "      <th>kitch_sq</th>\n",
       "      <th>state</th>\n",
       "      <th>product_type</th>\n",
       "      <th>sub_area</th>\n",
       "      <th>area_m</th>\n",
       "      <th>price_doc</th>\n",
       "    </tr>\n",
       "  </thead>\n",
       "  <tbody>\n",
       "    <tr>\n",
       "      <th>0</th>\n",
       "      <td>1</td>\n",
       "      <td>2011-08-20</td>\n",
       "      <td>43</td>\n",
       "      <td>27.0</td>\n",
       "      <td>4.0</td>\n",
       "      <td>NaN</td>\n",
       "      <td>NaN</td>\n",
       "      <td>NaN</td>\n",
       "      <td>NaN</td>\n",
       "      <td>NaN</td>\n",
       "      <td>NaN</td>\n",
       "      <td>Investment</td>\n",
       "      <td>Bibirevo</td>\n",
       "      <td>6.407578e+06</td>\n",
       "      <td>5850000</td>\n",
       "    </tr>\n",
       "    <tr>\n",
       "      <th>1</th>\n",
       "      <td>2</td>\n",
       "      <td>2011-08-23</td>\n",
       "      <td>34</td>\n",
       "      <td>19.0</td>\n",
       "      <td>3.0</td>\n",
       "      <td>NaN</td>\n",
       "      <td>NaN</td>\n",
       "      <td>NaN</td>\n",
       "      <td>NaN</td>\n",
       "      <td>NaN</td>\n",
       "      <td>NaN</td>\n",
       "      <td>Investment</td>\n",
       "      <td>Nagatinskij Zaton</td>\n",
       "      <td>9.589337e+06</td>\n",
       "      <td>6000000</td>\n",
       "    </tr>\n",
       "    <tr>\n",
       "      <th>2</th>\n",
       "      <td>3</td>\n",
       "      <td>2011-08-27</td>\n",
       "      <td>43</td>\n",
       "      <td>29.0</td>\n",
       "      <td>2.0</td>\n",
       "      <td>NaN</td>\n",
       "      <td>NaN</td>\n",
       "      <td>NaN</td>\n",
       "      <td>NaN</td>\n",
       "      <td>NaN</td>\n",
       "      <td>NaN</td>\n",
       "      <td>Investment</td>\n",
       "      <td>Tekstil'shhiki</td>\n",
       "      <td>4.808270e+06</td>\n",
       "      <td>5700000</td>\n",
       "    </tr>\n",
       "    <tr>\n",
       "      <th>3</th>\n",
       "      <td>4</td>\n",
       "      <td>2011-09-01</td>\n",
       "      <td>89</td>\n",
       "      <td>50.0</td>\n",
       "      <td>9.0</td>\n",
       "      <td>NaN</td>\n",
       "      <td>NaN</td>\n",
       "      <td>NaN</td>\n",
       "      <td>NaN</td>\n",
       "      <td>NaN</td>\n",
       "      <td>NaN</td>\n",
       "      <td>Investment</td>\n",
       "      <td>Mitino</td>\n",
       "      <td>1.258354e+07</td>\n",
       "      <td>13100000</td>\n",
       "    </tr>\n",
       "    <tr>\n",
       "      <th>4</th>\n",
       "      <td>5</td>\n",
       "      <td>2011-09-05</td>\n",
       "      <td>77</td>\n",
       "      <td>77.0</td>\n",
       "      <td>4.0</td>\n",
       "      <td>NaN</td>\n",
       "      <td>NaN</td>\n",
       "      <td>NaN</td>\n",
       "      <td>NaN</td>\n",
       "      <td>NaN</td>\n",
       "      <td>NaN</td>\n",
       "      <td>Investment</td>\n",
       "      <td>Basmannoe</td>\n",
       "      <td>8.398461e+06</td>\n",
       "      <td>16331452</td>\n",
       "    </tr>\n",
       "  </tbody>\n",
       "</table>\n",
       "</div>"
      ],
      "text/plain": [
       "   id  timestamp  full_sq  life_sq  floor  max_floor  material  build_year  \\\n",
       "0   1 2011-08-20       43     27.0    4.0        NaN       NaN         NaN   \n",
       "1   2 2011-08-23       34     19.0    3.0        NaN       NaN         NaN   \n",
       "2   3 2011-08-27       43     29.0    2.0        NaN       NaN         NaN   \n",
       "3   4 2011-09-01       89     50.0    9.0        NaN       NaN         NaN   \n",
       "4   5 2011-09-05       77     77.0    4.0        NaN       NaN         NaN   \n",
       "\n",
       "   num_room  kitch_sq  state product_type           sub_area        area_m  \\\n",
       "0       NaN       NaN    NaN   Investment           Bibirevo  6.407578e+06   \n",
       "1       NaN       NaN    NaN   Investment  Nagatinskij Zaton  9.589337e+06   \n",
       "2       NaN       NaN    NaN   Investment     Tekstil'shhiki  4.808270e+06   \n",
       "3       NaN       NaN    NaN   Investment             Mitino  1.258354e+07   \n",
       "4       NaN       NaN    NaN   Investment          Basmannoe  8.398461e+06   \n",
       "\n",
       "   price_doc  \n",
       "0    5850000  \n",
       "1    6000000  \n",
       "2    5700000  \n",
       "3   13100000  \n",
       "4   16331452  "
      ]
     },
     "execution_count": 7,
     "metadata": {},
     "output_type": "execute_result"
    }
   ],
   "source": [
    "hftrain.head()"
   ]
  },
  {
   "cell_type": "code",
   "execution_count": 8,
   "metadata": {
    "collapsed": true
   },
   "outputs": [],
   "source": [
    "hftest = test.iloc[:,[0,1,2,3,4,5,6,7,8,9,10,11,12,13]]"
   ]
  },
  {
   "cell_type": "code",
   "execution_count": 9,
   "metadata": {
    "collapsed": false
   },
   "outputs": [
    {
     "data": {
      "text/html": [
       "<div>\n",
       "<style>\n",
       "    .dataframe thead tr:only-child th {\n",
       "        text-align: right;\n",
       "    }\n",
       "\n",
       "    .dataframe thead th {\n",
       "        text-align: left;\n",
       "    }\n",
       "\n",
       "    .dataframe tbody tr th {\n",
       "        vertical-align: top;\n",
       "    }\n",
       "</style>\n",
       "<table border=\"1\" class=\"dataframe\">\n",
       "  <thead>\n",
       "    <tr style=\"text-align: right;\">\n",
       "      <th></th>\n",
       "      <th>id</th>\n",
       "      <th>timestamp</th>\n",
       "      <th>full_sq</th>\n",
       "      <th>life_sq</th>\n",
       "      <th>floor</th>\n",
       "      <th>max_floor</th>\n",
       "      <th>material</th>\n",
       "      <th>build_year</th>\n",
       "      <th>num_room</th>\n",
       "      <th>kitch_sq</th>\n",
       "      <th>state</th>\n",
       "      <th>product_type</th>\n",
       "      <th>sub_area</th>\n",
       "      <th>area_m</th>\n",
       "    </tr>\n",
       "  </thead>\n",
       "  <tbody>\n",
       "    <tr>\n",
       "      <th>0</th>\n",
       "      <td>30474</td>\n",
       "      <td>2015-07-01</td>\n",
       "      <td>39.0</td>\n",
       "      <td>20.7</td>\n",
       "      <td>2</td>\n",
       "      <td>9</td>\n",
       "      <td>1</td>\n",
       "      <td>1998.0</td>\n",
       "      <td>1</td>\n",
       "      <td>8.9</td>\n",
       "      <td>3.0</td>\n",
       "      <td>Investment</td>\n",
       "      <td>Juzhnoe Butovo</td>\n",
       "      <td>2.615514e+07</td>\n",
       "    </tr>\n",
       "    <tr>\n",
       "      <th>1</th>\n",
       "      <td>30475</td>\n",
       "      <td>2015-07-01</td>\n",
       "      <td>79.2</td>\n",
       "      <td>NaN</td>\n",
       "      <td>8</td>\n",
       "      <td>17</td>\n",
       "      <td>1</td>\n",
       "      <td>0.0</td>\n",
       "      <td>3</td>\n",
       "      <td>1.0</td>\n",
       "      <td>1.0</td>\n",
       "      <td>OwnerOccupier</td>\n",
       "      <td>Poselenie Vnukovskoe</td>\n",
       "      <td>2.553630e+07</td>\n",
       "    </tr>\n",
       "    <tr>\n",
       "      <th>2</th>\n",
       "      <td>30476</td>\n",
       "      <td>2015-07-01</td>\n",
       "      <td>40.5</td>\n",
       "      <td>25.1</td>\n",
       "      <td>3</td>\n",
       "      <td>5</td>\n",
       "      <td>2</td>\n",
       "      <td>1960.0</td>\n",
       "      <td>2</td>\n",
       "      <td>4.8</td>\n",
       "      <td>2.0</td>\n",
       "      <td>Investment</td>\n",
       "      <td>Perovo</td>\n",
       "      <td>9.946335e+06</td>\n",
       "    </tr>\n",
       "    <tr>\n",
       "      <th>3</th>\n",
       "      <td>30477</td>\n",
       "      <td>2015-07-01</td>\n",
       "      <td>62.8</td>\n",
       "      <td>36.0</td>\n",
       "      <td>17</td>\n",
       "      <td>17</td>\n",
       "      <td>1</td>\n",
       "      <td>2016.0</td>\n",
       "      <td>2</td>\n",
       "      <td>62.8</td>\n",
       "      <td>3.0</td>\n",
       "      <td>OwnerOccupier</td>\n",
       "      <td>Poselenie Voskresenskoe</td>\n",
       "      <td>2.149409e+07</td>\n",
       "    </tr>\n",
       "    <tr>\n",
       "      <th>4</th>\n",
       "      <td>30478</td>\n",
       "      <td>2015-07-01</td>\n",
       "      <td>40.0</td>\n",
       "      <td>40.0</td>\n",
       "      <td>17</td>\n",
       "      <td>17</td>\n",
       "      <td>1</td>\n",
       "      <td>0.0</td>\n",
       "      <td>1</td>\n",
       "      <td>1.0</td>\n",
       "      <td>1.0</td>\n",
       "      <td>OwnerOccupier</td>\n",
       "      <td>Poselenie Vnukovskoe</td>\n",
       "      <td>2.553630e+07</td>\n",
       "    </tr>\n",
       "  </tbody>\n",
       "</table>\n",
       "</div>"
      ],
      "text/plain": [
       "      id  timestamp  full_sq  life_sq  floor  max_floor  material  build_year  \\\n",
       "0  30474 2015-07-01     39.0     20.7      2          9         1      1998.0   \n",
       "1  30475 2015-07-01     79.2      NaN      8         17         1         0.0   \n",
       "2  30476 2015-07-01     40.5     25.1      3          5         2      1960.0   \n",
       "3  30477 2015-07-01     62.8     36.0     17         17         1      2016.0   \n",
       "4  30478 2015-07-01     40.0     40.0     17         17         1         0.0   \n",
       "\n",
       "   num_room  kitch_sq  state   product_type                 sub_area  \\\n",
       "0         1       8.9    3.0     Investment           Juzhnoe Butovo   \n",
       "1         3       1.0    1.0  OwnerOccupier     Poselenie Vnukovskoe   \n",
       "2         2       4.8    2.0     Investment                   Perovo   \n",
       "3         2      62.8    3.0  OwnerOccupier  Poselenie Voskresenskoe   \n",
       "4         1       1.0    1.0  OwnerOccupier     Poselenie Vnukovskoe   \n",
       "\n",
       "         area_m  \n",
       "0  2.615514e+07  \n",
       "1  2.553630e+07  \n",
       "2  9.946335e+06  \n",
       "3  2.149409e+07  \n",
       "4  2.553630e+07  "
      ]
     },
     "execution_count": 9,
     "metadata": {},
     "output_type": "execute_result"
    }
   ],
   "source": [
    "hftest.head()"
   ]
  },
  {
   "cell_type": "code",
   "execution_count": 10,
   "metadata": {
    "collapsed": false
   },
   "outputs": [
    {
     "ename": "NameError",
     "evalue": "name 'house_test' is not defined",
     "output_type": "error",
     "traceback": [
      "\u001b[0;31m---------------------------------------------------------------------------\u001b[0m",
      "\u001b[0;31mNameError\u001b[0m                                 Traceback (most recent call last)",
      "\u001b[0;32m<ipython-input-10-2aebd6c0b435>\u001b[0m in \u001b[0;36m<module>\u001b[0;34m()\u001b[0m\n\u001b[0;32m----> 1\u001b[0;31m \u001b[0mhouse_test\u001b[0m\u001b[0;34m.\u001b[0m\u001b[0mvalues\u001b[0m\u001b[0;34m\u001b[0m\u001b[0m\n\u001b[0m",
      "\u001b[0;31mNameError\u001b[0m: name 'house_test' is not defined"
     ]
    }
   ],
   "source": [
    "house_test.values"
   ]
  },
  {
   "cell_type": "code",
   "execution_count": null,
   "metadata": {
    "collapsed": false
   },
   "outputs": [],
   "source": [
    "hftest.shape"
   ]
  },
  {
   "cell_type": "code",
   "execution_count": null,
   "metadata": {
    "collapsed": false
   },
   "outputs": [],
   "source": [
    "hftrain.describe()"
   ]
  },
  {
   "cell_type": "code",
   "execution_count": null,
   "metadata": {
    "collapsed": false
   },
   "outputs": [],
   "source": [
    "# check number of missing values per column\n",
    "np.sum(hftrain.isnull())"
   ]
  },
  {
   "cell_type": "markdown",
   "metadata": {},
   "source": [
    "Oof. Okay, let's take care of these as we go along. First, look at price."
   ]
  },
  {
   "cell_type": "code",
   "execution_count": null,
   "metadata": {
    "collapsed": false
   },
   "outputs": [],
   "source": [
    "plt.figure(figsize=(12,8))\n",
    "sns.kdeplot(hftrain['price_doc'], shade=True, label='Sale Price')"
   ]
  },
  {
   "cell_type": "markdown",
   "metadata": {},
   "source": [
    "Skewed way right. Let's log this to normalize."
   ]
  },
  {
   "cell_type": "code",
   "execution_count": null,
   "metadata": {
    "collapsed": false
   },
   "outputs": [],
   "source": [
    "plt.figure(figsize=(12,8))\n",
    "sns.kdeplot(np.log(hftrain['price_doc']), shade=True, label='Sale Price')"
   ]
  },
  {
   "cell_type": "markdown",
   "metadata": {},
   "source": [
    "Looks better. Forget about dates for now, let's do a correlation plot...maybe we can join some interesting variables from the macro dataset as well?\n",
    "\n",
    "Look at dates first. are they unique?"
   ]
  },
  {
   "cell_type": "code",
   "execution_count": null,
   "metadata": {
    "collapsed": false
   },
   "outputs": [],
   "source": [
    "hftrain.groupby(\"timestamp\").agg(['count'])[[1]]"
   ]
  },
  {
   "cell_type": "markdown",
   "metadata": {},
   "source": [
    "Okay. Let's look at macros dataset, specifically gdp_quart (GDP), deposits_value (Volume of household deposits), deposits_growth (Volume growth of population's deposits), deposits_rate (Average interest rate on deposits), mortgage_value (Volume of mortgage loans), mortgage_growth (Growth of mortgage lending), mortgage_rate (Weighted average rate of mortgage loans), salary, unemployment (Unemployment rate), and employment (Employment rate)."
   ]
  },
  {
   "cell_type": "code",
   "execution_count": null,
   "metadata": {
    "collapsed": false
   },
   "outputs": [],
   "source": [
    "macro_set = macro.loc[:,['timestamp', 'gdp_quart', 'deposits_value', 'deposits_growth', 'deposits_rate', 'mortgage_value', \n",
    "             'mortgage_growth', 'mortgage_rate', 'salary', 'unemployment', 'employment']]"
   ]
  },
  {
   "cell_type": "code",
   "execution_count": null,
   "metadata": {
    "collapsed": false
   },
   "outputs": [],
   "source": [
    "macro_set.head(10)"
   ]
  },
  {
   "cell_type": "code",
   "execution_count": null,
   "metadata": {
    "collapsed": false
   },
   "outputs": [],
   "source": [
    "macro_set.shape"
   ]
  },
  {
   "cell_type": "markdown",
   "metadata": {},
   "source": [
    "Check for duplicates"
   ]
  },
  {
   "cell_type": "code",
   "execution_count": null,
   "metadata": {
    "collapsed": false
   },
   "outputs": [],
   "source": [
    "np.sum(macro_set.isnull())"
   ]
  },
  {
   "cell_type": "markdown",
   "metadata": {},
   "source": [
    "See if the timestamps are duplicated."
   ]
  },
  {
   "cell_type": "code",
   "execution_count": null,
   "metadata": {
    "collapsed": false
   },
   "outputs": [],
   "source": [
    "macro_set[macro_set.duplicated(['timestamp'], keep=False)]"
   ]
  },
  {
   "cell_type": "markdown",
   "metadata": {},
   "source": [
    "Negative. Okay, now join with house_train."
   ]
  },
  {
   "cell_type": "code",
   "execution_count": null,
   "metadata": {
    "collapsed": false
   },
   "outputs": [],
   "source": [
    "train_full = pd.merge(hftrain, macro_set, how = 'left', on = 'timestamp')"
   ]
  },
  {
   "cell_type": "code",
<<<<<<< HEAD
   "execution_count": null,
=======
   "execution_count": 348,
   "metadata": {
    "collapsed": false
   },
   "outputs": [
    {
     "name": "stderr",
     "output_type": "stream",
     "text": [
      "/Users/andrewrubino/anaconda2/lib/python2.7/site-packages/ipykernel/__main__.py:9: SettingWithCopyWarning: \n",
      "A value is trying to be set on a copy of a slice from a DataFrame.\n",
      "Try using .loc[row_indexer,col_indexer] = value instead\n",
      "\n",
      "See the caveats in the documentation: http://pandas.pydata.org/pandas-docs/stable/indexing.html#indexing-view-versus-copy\n",
      "/Users/andrewrubino/anaconda2/lib/python2.7/site-packages/ipykernel/__main__.py:11: SettingWithCopyWarning: \n",
      "A value is trying to be set on a copy of a slice from a DataFrame.\n",
      "Try using .loc[row_indexer,col_indexer] = value instead\n",
      "\n",
      "See the caveats in the documentation: http://pandas.pydata.org/pandas-docs/stable/indexing.html#indexing-view-versus-copy\n",
      "/Users/andrewrubino/anaconda2/lib/python2.7/site-packages/ipykernel/__main__.py:12: SettingWithCopyWarning: \n",
      "A value is trying to be set on a copy of a slice from a DataFrame.\n",
      "Try using .loc[row_indexer,col_indexer] = value instead\n",
      "\n",
      "See the caveats in the documentation: http://pandas.pydata.org/pandas-docs/stable/indexing.html#indexing-view-versus-copy\n",
      "/Users/andrewrubino/anaconda2/lib/python2.7/site-packages/ipykernel/__main__.py:13: SettingWithCopyWarning: \n",
      "A value is trying to be set on a copy of a slice from a DataFrame.\n",
      "Try using .loc[row_indexer,col_indexer] = value instead\n",
      "\n",
      "See the caveats in the documentation: http://pandas.pydata.org/pandas-docs/stable/indexing.html#indexing-view-versus-copy\n",
      "/Users/andrewrubino/anaconda2/lib/python2.7/site-packages/ipykernel/__main__.py:19: SettingWithCopyWarning: \n",
      "A value is trying to be set on a copy of a slice from a DataFrame.\n",
      "Try using .loc[row_indexer,col_indexer] = value instead\n",
      "\n",
      "See the caveats in the documentation: http://pandas.pydata.org/pandas-docs/stable/indexing.html#indexing-view-versus-copy\n"
     ]
    }
   ],
   "source": [
    "hftest = add_date_features(hftest)"
   ]
  },
  {
   "cell_type": "code",
   "execution_count": 349,
   "metadata": {
    "collapsed": false
   },
   "outputs": [
    {
     "data": {
      "text/html": [
       "<div>\n",
       "<table border=\"1\" class=\"dataframe\">\n",
       "  <thead>\n",
       "    <tr style=\"text-align: right;\">\n",
       "      <th></th>\n",
       "      <th>id</th>\n",
       "      <th>timestamp</th>\n",
       "      <th>full_sq</th>\n",
       "      <th>life_sq</th>\n",
       "      <th>floor</th>\n",
       "      <th>max_floor</th>\n",
       "      <th>material</th>\n",
       "      <th>build_year</th>\n",
       "      <th>num_room</th>\n",
       "      <th>kitch_sq</th>\n",
       "      <th>state</th>\n",
       "      <th>product_type</th>\n",
       "      <th>sub_area</th>\n",
       "      <th>area_m</th>\n",
       "      <th>building_age</th>\n",
       "      <th>yearmonth</th>\n",
       "      <th>month</th>\n",
       "      <th>day</th>\n",
       "      <th>year</th>\n",
       "      <th>week_year</th>\n",
       "    </tr>\n",
       "  </thead>\n",
       "  <tbody>\n",
       "    <tr>\n",
       "      <th>0</th>\n",
       "      <td>30474</td>\n",
       "      <td>2015-07-01</td>\n",
       "      <td>39.0</td>\n",
       "      <td>20.7</td>\n",
       "      <td>2</td>\n",
       "      <td>9</td>\n",
       "      <td>1.0</td>\n",
       "      <td>1998.0</td>\n",
       "      <td>1.0</td>\n",
       "      <td>8.9</td>\n",
       "      <td>3.0</td>\n",
       "      <td>Investment</td>\n",
       "      <td>Juzhnoe Butovo</td>\n",
       "      <td>2.615514e+07</td>\n",
       "      <td>19.0</td>\n",
       "      <td>201507</td>\n",
       "      <td>7</td>\n",
       "      <td>1</td>\n",
       "      <td>2015</td>\n",
       "      <td>59</td>\n",
       "    </tr>\n",
       "    <tr>\n",
       "      <th>1</th>\n",
       "      <td>30475</td>\n",
       "      <td>2015-07-01</td>\n",
       "      <td>79.2</td>\n",
       "      <td>NaN</td>\n",
       "      <td>8</td>\n",
       "      <td>17</td>\n",
       "      <td>1.0</td>\n",
       "      <td>NaN</td>\n",
       "      <td>3.0</td>\n",
       "      <td>1.0</td>\n",
       "      <td>1.0</td>\n",
       "      <td>OwnerOccupier</td>\n",
       "      <td>Poselenie Vnukovskoe</td>\n",
       "      <td>2.553630e+07</td>\n",
       "      <td>NaN</td>\n",
       "      <td>201507</td>\n",
       "      <td>7</td>\n",
       "      <td>1</td>\n",
       "      <td>2015</td>\n",
       "      <td>59</td>\n",
       "    </tr>\n",
       "    <tr>\n",
       "      <th>2</th>\n",
       "      <td>30476</td>\n",
       "      <td>2015-07-01</td>\n",
       "      <td>40.5</td>\n",
       "      <td>25.1</td>\n",
       "      <td>3</td>\n",
       "      <td>5</td>\n",
       "      <td>2.0</td>\n",
       "      <td>1960.0</td>\n",
       "      <td>2.0</td>\n",
       "      <td>4.8</td>\n",
       "      <td>2.0</td>\n",
       "      <td>Investment</td>\n",
       "      <td>Perovo</td>\n",
       "      <td>9.946335e+06</td>\n",
       "      <td>57.0</td>\n",
       "      <td>201507</td>\n",
       "      <td>7</td>\n",
       "      <td>1</td>\n",
       "      <td>2015</td>\n",
       "      <td>59</td>\n",
       "    </tr>\n",
       "    <tr>\n",
       "      <th>3</th>\n",
       "      <td>30477</td>\n",
       "      <td>2015-07-01</td>\n",
       "      <td>62.8</td>\n",
       "      <td>36.0</td>\n",
       "      <td>17</td>\n",
       "      <td>17</td>\n",
       "      <td>1.0</td>\n",
       "      <td>2016.0</td>\n",
       "      <td>2.0</td>\n",
       "      <td>62.8</td>\n",
       "      <td>3.0</td>\n",
       "      <td>OwnerOccupier</td>\n",
       "      <td>Poselenie Voskresenskoe</td>\n",
       "      <td>2.149409e+07</td>\n",
       "      <td>1.0</td>\n",
       "      <td>201507</td>\n",
       "      <td>7</td>\n",
       "      <td>1</td>\n",
       "      <td>2015</td>\n",
       "      <td>59</td>\n",
       "    </tr>\n",
       "    <tr>\n",
       "      <th>4</th>\n",
       "      <td>30478</td>\n",
       "      <td>2015-07-01</td>\n",
       "      <td>40.0</td>\n",
       "      <td>40.0</td>\n",
       "      <td>17</td>\n",
       "      <td>17</td>\n",
       "      <td>1.0</td>\n",
       "      <td>NaN</td>\n",
       "      <td>1.0</td>\n",
       "      <td>1.0</td>\n",
       "      <td>1.0</td>\n",
       "      <td>OwnerOccupier</td>\n",
       "      <td>Poselenie Vnukovskoe</td>\n",
       "      <td>2.553630e+07</td>\n",
       "      <td>NaN</td>\n",
       "      <td>201507</td>\n",
       "      <td>7</td>\n",
       "      <td>1</td>\n",
       "      <td>2015</td>\n",
       "      <td>59</td>\n",
       "    </tr>\n",
       "  </tbody>\n",
       "</table>\n",
       "</div>"
      ],
      "text/plain": [
       "      id  timestamp  full_sq  life_sq  floor  max_floor  material  build_year  \\\n",
       "0  30474 2015-07-01     39.0     20.7      2          9       1.0      1998.0   \n",
       "1  30475 2015-07-01     79.2      NaN      8         17       1.0         NaN   \n",
       "2  30476 2015-07-01     40.5     25.1      3          5       2.0      1960.0   \n",
       "3  30477 2015-07-01     62.8     36.0     17         17       1.0      2016.0   \n",
       "4  30478 2015-07-01     40.0     40.0     17         17       1.0         NaN   \n",
       "\n",
       "   num_room  kitch_sq  state   product_type                 sub_area  \\\n",
       "0       1.0       8.9    3.0     Investment           Juzhnoe Butovo   \n",
       "1       3.0       1.0    1.0  OwnerOccupier     Poselenie Vnukovskoe   \n",
       "2       2.0       4.8    2.0     Investment                   Perovo   \n",
       "3       2.0      62.8    3.0  OwnerOccupier  Poselenie Voskresenskoe   \n",
       "4       1.0       1.0    1.0  OwnerOccupier     Poselenie Vnukovskoe   \n",
       "\n",
       "         area_m  building_age  yearmonth  month  day  year  week_year  \n",
       "0  2.615514e+07          19.0     201507      7    1  2015         59  \n",
       "1  2.553630e+07           NaN     201507      7    1  2015         59  \n",
       "2  9.946335e+06          57.0     201507      7    1  2015         59  \n",
       "3  2.149409e+07           1.0     201507      7    1  2015         59  \n",
       "4  2.553630e+07           NaN     201507      7    1  2015         59  "
      ]
     },
     "execution_count": 349,
     "metadata": {},
     "output_type": "execute_result"
    }
   ],
   "source": [
    "hftest.head()"
   ]
  },
  {
   "cell_type": "code",
   "execution_count": 352,
   "metadata": {
    "collapsed": true
   },
   "outputs": [],
   "source": [
    "test = add_date_features(test)"
   ]
  },
  {
   "cell_type": "code",
   "execution_count": 264,
>>>>>>> 2eee3add40e733f2d1cb649cec938d5765053d75
   "metadata": {
    "collapsed": false
   },
   "outputs": [],
   "source": [
    "test_full = pd.merge(hftest, macro_set, how = 'left', on = 'timestamp')"
   ]
  },
  {
   "cell_type": "code",
   "execution_count": null,
   "metadata": {
    "collapsed": false
   },
   "outputs": [],
   "source": [
    "train_full.shape"
   ]
  },
  {
   "cell_type": "code",
   "execution_count": null,
   "metadata": {
    "collapsed": false
   },
   "outputs": [],
   "source": [
    "test_full.shape"
   ]
  },
  {
   "cell_type": "code",
   "execution_count": null,
   "metadata": {
    "collapsed": true
   },
   "outputs": [],
   "source": [
    "pd.set_option('display.max_columns', None)"
   ]
  },
  {
   "cell_type": "code",
   "execution_count": null,
   "metadata": {
    "collapsed": false
   },
   "outputs": [],
   "source": [
    "hftrain.head()"
   ]
  },
  {
   "cell_type": "markdown",
   "metadata": {},
   "source": [
    "Let's look only at hftrain first. Forget about the rest."
   ]
  },
  {
   "cell_type": "code",
   "execution_count": null,
   "metadata": {
    "collapsed": false
   },
   "outputs": [],
   "source": [
    "np.sum(hftrain.isnull())"
   ]
  },
  {
   "cell_type": "code",
   "execution_count": null,
   "metadata": {
    "collapsed": false
   },
   "outputs": [],
   "source": [
    "corrmat = hftrain.corr()\n",
    "corrmat"
   ]
  },
  {
   "cell_type": "code",
   "execution_count": null,
   "metadata": {
    "collapsed": false
   },
   "outputs": [],
   "source": [
    "plt.figure(figsize=(12,8))\n",
    "sns.heatmap(corrmat, vmax=.8, square=True)"
   ]
  },
  {
   "cell_type": "code",
   "execution_count": null,
   "metadata": {
    "collapsed": true
   },
   "outputs": [],
   "source": [
    "# Do stuff with the date\n",
    "def add_date_features(df):\n",
    "    '''(DataFrame) -> DataFrame\n",
    "    \n",
    "    Will add some specific columns based on the date\n",
    "    of the sale.\n",
    "    '''\n",
    "    #Convert to datetime to make extraction easier\n",
    "    df['timestamp'] = pd.to_datetime(df['timestamp'])\n",
    "    #Extract features\n",
    "    df['month'] = df['timestamp'].dt.month\n",
    "    df['day'] = df['timestamp'].dt.day\n",
    "    df['year'] = df['timestamp'].dt.year\n",
    "    \n",
    "    #These features inspired by Bruno's Notebook at https://www.kaggle.com/bguberfain/naive-xgb-lb-0-317\n",
    "    #Week-Year\n",
    "    week_year = df['timestamp'].dt.weekofyear + df['timestamp'].dt.year * 100\n",
    "    week_year_map = week_year.value_counts().to_dict()\n",
    "    df['week_year'] = week_year.map(week_year_map)\n",
    "    #df.drop('timestamp', axis=1, inplace=True)\n",
    "    return df"
   ]
  },
  {
   "cell_type": "code",
   "execution_count": null,
   "metadata": {
    "collapsed": false
   },
   "outputs": [],
   "source": [
    "hftrain = add_date_features(hftrain)"
   ]
  },
  {
   "cell_type": "code",
   "execution_count": null,
   "metadata": {
    "collapsed": false
   },
   "outputs": [],
   "source": [
    "train_df.apply(lambda x: type(x[0]))"
   ]
  },
  {
   "cell_type": "code",
   "execution_count": null,
   "metadata": {
    "collapsed": false
   },
   "outputs": [],
   "source": [
    "hftrain.head()"
   ]
  },
  {
   "cell_type": "code",
   "execution_count": null,
   "metadata": {
    "collapsed": false
   },
   "outputs": [],
   "source": [
    "sns.boxplot(x='material', \n",
    "            y='price_doc', \n",
    "            data=hftrain, \n",
    "            palette='Set3')"
   ]
  },
  {
   "cell_type": "code",
   "execution_count": null,
   "metadata": {
    "collapsed": false
   },
   "outputs": [],
   "source": [
    "print(hftrain['material'].value_counts(dropna=False))\n",
    "print(hftest['material'].value_counts(dropna=False))"
   ]
  },
  {
   "cell_type": "code",
   "execution_count": 334,
   "metadata": {
    "collapsed": false
   },
   "outputs": [
    {
     "name": "stdout",
     "output_type": "stream",
     "text": [
      "NaN      9575\n",
      " 17.0    4673\n",
      " 9.0     3025\n",
      " 5.0     2267\n",
      " 12.0    2229\n",
      " 14.0    1362\n",
      " 16.0    1146\n",
      " 1.0      973\n",
      " 22.0     745\n",
      " 25.0     735\n",
      " 0.0      550\n",
      " 24.0     396\n",
      " 8.0      307\n",
      " 10.0     284\n",
      " 4.0      278\n",
      " 3.0      278\n",
      " 15.0     239\n",
      " 19.0     220\n",
      " 20.0     204\n",
      " 18.0     195\n",
      " 6.0      148\n",
      " 7.0      116\n",
      " 2.0      100\n",
      " 23.0      94\n",
      " 21.0      57\n",
      " 13.0      56\n",
      " 11.0      54\n",
      " 30.0      42\n",
      " 40.0      25\n",
      " 32.0      17\n",
      " 27.0      17\n",
      " 26.0      10\n",
      " 28.0      10\n",
      " 37.0       7\n",
      " 48.0       7\n",
      " 29.0       6\n",
      " 39.0       4\n",
      " 34.0       3\n",
      " 33.0       3\n",
      " 31.0       3\n",
      " 47.0       2\n",
      " 45.0       2\n",
      " 36.0       2\n",
      " 42.0       1\n",
      " 44.0       1\n",
      " 41.0       1\n",
      " 57.0       1\n",
      " 38.0       1\n",
      "Name: max_floor, dtype: int64\n"
     ]
    }
   ],
   "source": [
    "print(hftrain['max_floor'].value_counts(dropna=False))"
   ]
  },
  {
   "cell_type": "code",
   "execution_count": 345,
   "metadata": {
    "collapsed": false
   },
   "outputs": [
    {
     "ename": "AttributeError",
     "evalue": "'dict' object has no attribute 'count'",
     "output_type": "error",
     "traceback": [
      "\u001b[0;31m---------------------------------------------------------------------------\u001b[0m",
      "\u001b[0;31mAttributeError\u001b[0m                            Traceback (most recent call last)",
      "\u001b[0;32m<ipython-input-345-2f9c8067a0d6>\u001b[0m in \u001b[0;36m<module>\u001b[0;34m()\u001b[0m\n\u001b[1;32m      1\u001b[0m \u001b[0mweird_floors\u001b[0m \u001b[0;34m=\u001b[0m \u001b[0mhftrain\u001b[0m\u001b[0;34m.\u001b[0m\u001b[0mloc\u001b[0m\u001b[0;34m[\u001b[0m\u001b[0mhftrain\u001b[0m\u001b[0;34m[\u001b[0m\u001b[0;34m'max_floor'\u001b[0m\u001b[0;34m]\u001b[0m \u001b[0;34m<\u001b[0m \u001b[0mhftrain\u001b[0m\u001b[0;34m[\u001b[0m\u001b[0;34m'floor'\u001b[0m\u001b[0;34m]\u001b[0m\u001b[0;34m,\u001b[0m\u001b[0;34m]\u001b[0m\u001b[0;34m\u001b[0m\u001b[0m\n\u001b[0;32m----> 2\u001b[0;31m \u001b[0mweird_floors\u001b[0m\u001b[0;34m.\u001b[0m\u001b[0mgroupby\u001b[0m\u001b[0;34m(\u001b[0m\u001b[0;34m\"floor\"\u001b[0m\u001b[0;34m)\u001b[0m\u001b[0;34m.\u001b[0m\u001b[0mgroups\u001b[0m\u001b[0;34m.\u001b[0m\u001b[0mcount\u001b[0m\u001b[0;34m(\u001b[0m\u001b[0;34m)\u001b[0m\u001b[0;34m[\u001b[0m\u001b[0;36m1\u001b[0m\u001b[0;34m]\u001b[0m\u001b[0;34m\u001b[0m\u001b[0m\n\u001b[0m",
      "\u001b[0;31mAttributeError\u001b[0m: 'dict' object has no attribute 'count'"
     ]
    }
   ],
   "source": [
    "#weird_floors = hftrain.loc[hftrain['max_floor'] < hftrain['floor'],]\n",
    "#weird_floors.groupby(\"floor\")"
   ]
  },
  {
   "cell_type": "markdown",
   "metadata": {},
   "source": [
    "Nothing missing in the test, so let's look into how to deal with NAs in training."
   ]
  },
  {
   "cell_type": "code",
   "execution_count": null,
   "metadata": {
    "collapsed": true
   },
   "outputs": [],
   "source": [
    "hftrain.loc[hftrain['material'] == 3]\n",
    "hftest.loc[hftest['material'] == 3]\n",
    "\n",
    "# 3's seem to be negligible, let's replace them with 0\n",
    "hftrain.loc[train['material'] == 3, 'material'] = np.nan\n",
    "hftest.loc[test['material'] == 3, 'material'] = np.nan"
   ]
  },
  {
   "cell_type": "code",
   "execution_count": null,
   "metadata": {
    "collapsed": true
   },
   "outputs": [],
   "source": [
    "# Turn that into a function\n",
    "def clean_materials(df):\n",
    "    df.loc[df['material'] ==3, 'material'] = np.nan\n",
    "    return df"
   ]
  },
  {
   "cell_type": "code",
   "execution_count": null,
   "metadata": {
    "collapsed": false
   },
   "outputs": [],
   "source": [
    "sns.boxplot(x='material', \n",
    "            y='price_doc', \n",
    "            data=hftrain, \n",
    "            palette='Set3')"
   ]
  },
  {
   "cell_type": "markdown",
   "metadata": {},
   "source": [
    "Let's look at state"
   ]
  },
  {
   "cell_type": "code",
   "execution_count": null,
   "metadata": {
    "collapsed": false
   },
   "outputs": [],
   "source": [
    "print(hftrain['state'].value_counts(dropna=False))\n",
    "print(hftest['state'].value_counts(dropna=False))"
   ]
  },
  {
   "cell_type": "code",
   "execution_count": null,
   "metadata": {
    "collapsed": true
   },
   "outputs": [],
   "source": [
    "# What's up with that 33 in training? Maybe they meant 3. We;ll change that.\n",
    "hftrain.loc[hftrain['state'] == 33, 'state'] = 3"
   ]
  },
  {
   "cell_type": "code",
   "execution_count": null,
   "metadata": {
    "collapsed": false
   },
   "outputs": [],
   "source": [
    "# Let's look at product type\n",
    "sns.boxplot(x='product_type', \n",
    "            y='price_doc', \n",
    "            data=hftrain, \n",
    "            palette='Set3')"
   ]
  },
  {
   "cell_type": "code",
   "execution_count": null,
   "metadata": {
    "collapsed": false
   },
   "outputs": [],
   "source": [
    "# check missingness\n",
    "print(hftrain['product_type'].value_counts(dropna=False))\n",
    "print(hftest['product_type'].value_counts(dropna=False))\n",
    "# looks okay for the most part"
   ]
  },
  {
   "cell_type": "code",
   "execution_count": null,
   "metadata": {
    "collapsed": false
   },
   "outputs": [],
   "source": [
    "## floor / max_floor\n",
    "hftrain.plot.scatter(x='floor', y='max_floor')"
   ]
  },
  {
   "cell_type": "markdown",
   "metadata": {},
   "source": [
    "By definition, floor (which the apartment is on) cannot be higher than the max floor of the building. We're seeing a whole lot of points on the bottom there with max_floor equal to zero, and some crazy big outliers which we might want to take a look at."
   ]
  },
  {
   "cell_type": "code",
<<<<<<< HEAD
   "execution_count": null,
=======
   "execution_count": 347,
   "metadata": {
    "collapsed": false
   },
   "outputs": [
    {
     "data": {
      "text/plain": [
       "<matplotlib.axes._subplots.AxesSubplot at 0x148f98c50>"
      ]
     },
     "execution_count": 347,
     "metadata": {},
     "output_type": "execute_result"
    },
    {
     "data": {
      "image/png": "iVBORw0KGgoAAAANSUhEUgAAAYAAAAEPCAYAAABLIROyAAAABHNCSVQICAgIfAhkiAAAAAlwSFlz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\nTkSuQmCC\n",
      "text/plain": [
       "<matplotlib.figure.Figure at 0x1491718d0>"
      ]
     },
     "metadata": {},
     "output_type": "display_data"
    }
   ],
   "source": [
    "hftrain.plot.scatter(x='build_year', y='price_doc')"
   ]
  },
  {
   "cell_type": "code",
   "execution_count": 284,
>>>>>>> 2eee3add40e733f2d1cb649cec938d5765053d75
   "metadata": {
    "collapsed": false
   },
   "outputs": [],
   "source": [
    "# First the outliers. Which building have greater than 60 floors?\n",
    "## max_floor\n",
    "hftrain.loc[hftrain['max_floor'] > 60]"
   ]
  },
  {
   "cell_type": "markdown",
   "metadata": {},
   "source": [
    "We can't really make any inferences on the max_floors of 99, but the 117 is probably an error. We'll change that to 17, and make the other ones NaN."
   ]
  },
  {
   "cell_type": "code",
   "execution_count": null,
   "metadata": {
    "collapsed": true
   },
   "outputs": [],
   "source": [
    "hftrain.loc[hftrain['max_floor'] == 117, 'max_floor'] = 17\n",
    "hftrain.loc[hftrain['max_floor'] > 60, 'max_floor'] = np.nan"
   ]
  },
  {
   "cell_type": "code",
   "execution_count": null,
   "metadata": {
    "collapsed": false
   },
   "outputs": [],
   "source": [
    "# Investigate floors greater than 60\n",
    "hftrain.loc[hftrain['floor'] > 60]"
   ]
  },
  {
   "cell_type": "code",
   "execution_count": null,
   "metadata": {
    "collapsed": true
   },
   "outputs": [],
   "source": [
    "# Seems like an error. Change it to 7."
   ]
  },
  {
   "cell_type": "code",
   "execution_count": null,
   "metadata": {
    "collapsed": true
   },
   "outputs": [],
   "source": [
    "hftrain.loc[hftrain['floor'] == 77, 'floor'] = 7"
   ]
  },
  {
   "cell_type": "code",
   "execution_count": null,
   "metadata": {
    "collapsed": false
   },
   "outputs": [],
   "source": [
<<<<<<< HEAD
    "hftrain.plot.scatter(x='floor', y='max_floor')"
   ]
  },
  {
   "cell_type": "code",
   "execution_count": null,
   "metadata": {
    "collapsed": true
   },
   "outputs": [],
   "source": [
    "# Looks better, might still want to do something about that bottom portion."
=======
    "# Let's create a new variable called building age. 2017 - build_year\n",
    "# TIMESTAMP - BUILD_YEAR\n",
    "hftrain['building_age'] = 2017 - hftrain['build_year']\n",
    "hftest['building_age'] = 2017 - hftest['build_year']"
>>>>>>> 2eee3add40e733f2d1cb649cec938d5765053d75
   ]
  },
  {
   "cell_type": "code",
   "execution_count": null,
   "metadata": {
    "collapsed": false
   },
   "outputs": [],
   "source": [
    "# Build year\n",
    "hftrain['build_year'].value_counts(dropna=False).sort_index()\n",
    "hftest['build_year'].value_counts(dropna=False).sort_index()\n",
    "# note: there are some build years in 2017-2019 in test set. Might not be by accident"
   ]
  },
  {
   "cell_type": "code",
   "execution_count": null,
   "metadata": {
    "collapsed": false
   },
   "outputs": [],
   "source": [
    "# 20052009 is weird. Make that 2007. Anything less than year 215 is weird too. maybe we can make those the median...\n",
    "# or missing like Shu did\n",
    "hftrain.loc[hftrain['build_year'] == 20052009, 'build_year'] = 2007\n",
    "hftrain.loc[hftrain['build_year'] == 4965, 'build_year'] = np.nan\n",
    "hftrain.loc[hftrain['build_year'] < 1800, 'build_year'] = np.nan\n",
    "hftest.loc[hftest['build_year'] < 1800, 'build_year'] = np.nan"
   ]
  },
  {
   "cell_type": "code",
   "execution_count": null,
   "metadata": {
    "collapsed": false
   },
   "outputs": [],
   "source": [
    "# Number of rooms vs full_sq\n",
    "hftrain.plot.scatter(x='num_room', y='full_sq')"
   ]
  },
  {
   "cell_type": "code",
   "execution_count": null,
   "metadata": {
    "collapsed": false
   },
   "outputs": [],
   "source": [
    "# Number of rooms vs full_sq\n",
    "hftest.plot.scatter(x='num_room', y='full_sq')"
   ]
  },
  {
   "cell_type": "code",
   "execution_count": null,
   "metadata": {
    "collapsed": false
   },
   "outputs": [],
   "source": [
    "# Sup with 15 rooms and above?\n",
    "hftrain.loc[hftrain['num_room'] > 15]\n",
    "# Let's make them go bye-bye"
   ]
  },
  {
   "cell_type": "code",
   "execution_count": null,
   "metadata": {
    "collapsed": true
   },
   "outputs": [],
   "source": [
    "hftrain.loc[hftrain['num_room'] > 15, 'num_room'] = np.nan\n",
    "hftest.loc[hftest['num_room'] > 15, 'num_room'] = np.nan"
   ]
  },
  {
   "cell_type": "code",
   "execution_count": null,
   "metadata": {
    "collapsed": false
   },
   "outputs": [],
   "source": [
    "# Let's create a new variable called building age. 2017 - build_year\n",
    "hftrain['building_age'] = 2017 - hftrain['build_year']\n",
    "hftest['building_age'] = 2017 - hftest['build_year']"
   ]
  },
  {
   "cell_type": "code",
   "execution_count": null,
   "metadata": {
    "collapsed": false
   },
   "outputs": [],
   "source": [
    "hftrain.loc[hftrain['building_age'] < 0, 'building_age'] = np.nan"
   ]
  },
  {
   "cell_type": "code",
   "execution_count": null,
   "metadata": {
    "collapsed": false
   },
   "outputs": [],
   "source": [
    "# How bout we see building age versus square footage\n",
    "hftrain.plot.scatter(x='building_age', y='full_sq')\n",
    "# no relationship it seems"
   ]
  },
  {
   "cell_type": "code",
   "execution_count": null,
   "metadata": {
    "collapsed": false
   },
   "outputs": [],
   "source": [
    "# how bout building age with price?\n",
    "hftrain.plot.scatter(x='building_age', y='price_doc')\n",
    "# slightly bimodal. newer buildings are more expensive."
   ]
  },
  {
   "cell_type": "code",
   "execution_count": null,
   "metadata": {
    "collapsed": false
   },
   "outputs": [],
   "source": [
    "# Let's look at full_sq\n",
    "sns.kdeplot(hftrain['full_sq'], shade=True, label='Square Footage')"
   ]
  },
  {
   "cell_type": "code",
   "execution_count": null,
   "metadata": {
    "collapsed": false
   },
   "outputs": [],
   "source": [
    "sns.kdeplot(hftest['full_sq'], shade=True, label='Square Footage')"
   ]
  },
  {
   "cell_type": "code",
<<<<<<< HEAD
   "execution_count": null,
=======
   "execution_count": 350,
>>>>>>> 2eee3add40e733f2d1cb649cec938d5765053d75
   "metadata": {
    "collapsed": false
   },
   "outputs": [],
   "source": [
    "hftrain.loc[hftrain['full_sq'] > 1000] # remove this"
   ]
  },
  {
   "cell_type": "code",
<<<<<<< HEAD
   "execution_count": null,
=======
   "execution_count": 353,
   "metadata": {
    "collapsed": true
   },
   "outputs": [],
   "source": [
    "test[\"yearmonth\"] = test[\"timestamp\"].dt.year*100 + test[\"timestamp\"].dt.month"
   ]
  },
  {
   "cell_type": "code",
   "execution_count": 306,
>>>>>>> 2eee3add40e733f2d1cb649cec938d5765053d75
   "metadata": {
    "collapsed": false
   },
   "outputs": [],
   "source": [
    "hftest.loc[hftest['full_sq'] > 500] # remove this"
   ]
  },
  {
   "cell_type": "code",
   "execution_count": null,
   "metadata": {
    "collapsed": true
   },
   "outputs": [],
   "source": [
    "hftrain.loc[hftrain['full_sq'] > 1000, 'full_sq'] = np.nan"
   ]
  },
  {
   "cell_type": "code",
   "execution_count": null,
   "metadata": {
    "collapsed": false
   },
   "outputs": [],
   "source": [
    "# Maybe we can logify that full_sq\n",
    "sns.kdeplot(np.log(hftrain['full_sq']), shade=True, label='Square Footage')"
   ]
  },
  {
   "cell_type": "code",
   "execution_count": null,
   "metadata": {
    "collapsed": false
   },
   "outputs": [],
   "source": [
    "# How about number of rooms vs price?\n",
    "hftrain.plot.scatter(x='num_room', y='price_doc')"
   ]
  },
  {
   "cell_type": "code",
   "execution_count": null,
   "metadata": {
    "collapsed": false
   },
   "outputs": [],
   "source": [
    "# Add year-month and plot over time\n",
    "hftrain[\"yearmonth\"] = hftrain[\"timestamp\"].dt.year*100 + hftrain[\"timestamp\"].dt.month\n",
    "hftest[\"yearmonth\"] = hftest[\"timestamp\"].dt.year*100 + hftest[\"timestamp\"].dt.month"
   ]
  },
  {
   "cell_type": "code",
   "execution_count": null,
   "metadata": {
    "collapsed": false
   },
   "outputs": [],
   "source": [
    "Plot price over time"
   ]
  },
  {
   "cell_type": "code",
<<<<<<< HEAD
   "execution_count": null,
   "metadata": {
    "collapsed": false
   },
   "outputs": [],
=======
   "execution_count": 354,
   "metadata": {
    "collapsed": false
   },
   "outputs": [
    {
     "data": {
      "image/png": "iVBORw0KGgoAAAANSUhEUgAAAugAAAIGCAYAAAAGFHpiAAAABHNCSVQICAgIfAhkiAAAAAlwSFlz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\n",
      "text/plain": [
       "<matplotlib.figure.Figure at 0x13e1f8550>"
      ]
     },
     "metadata": {},
     "output_type": "display_data"
    },
    {
     "ename": "ValueError",
     "evalue": "Could not interpret input 'cpi'",
     "output_type": "error",
     "traceback": [
      "\u001b[0;31m---------------------------------------------------------------------------\u001b[0m",
      "\u001b[0;31mValueError\u001b[0m                                Traceback (most recent call last)",
      "\u001b[0;32m<ipython-input-354-7befe86304fe>\u001b[0m in \u001b[0;36m<module>\u001b[0;34m()\u001b[0m\n\u001b[1;32m      9\u001b[0m \u001b[0;34m\u001b[0m\u001b[0m\n\u001b[1;32m     10\u001b[0m \u001b[0mplt\u001b[0m\u001b[0;34m.\u001b[0m\u001b[0mfigure\u001b[0m\u001b[0;34m(\u001b[0m\u001b[0mfigsize\u001b[0m\u001b[0;34m=\u001b[0m\u001b[0;34m(\u001b[0m\u001b[0;36m12\u001b[0m\u001b[0;34m,\u001b[0m\u001b[0;36m8\u001b[0m\u001b[0;34m)\u001b[0m\u001b[0;34m)\u001b[0m\u001b[0;34m\u001b[0m\u001b[0m\n\u001b[0;32m---> 11\u001b[0;31m \u001b[0msns\u001b[0m\u001b[0;34m.\u001b[0m\u001b[0mpointplot\u001b[0m\u001b[0;34m(\u001b[0m\u001b[0mx\u001b[0m\u001b[0;34m=\u001b[0m\u001b[0;34m'yearmonth'\u001b[0m\u001b[0;34m,\u001b[0m \u001b[0my\u001b[0m\u001b[0;34m=\u001b[0m\u001b[0;34m'cpi'\u001b[0m\u001b[0;34m,\u001b[0m \u001b[0mdata\u001b[0m\u001b[0;34m=\u001b[0m\u001b[0mtest\u001b[0m\u001b[0;34m)\u001b[0m\u001b[0;34m\u001b[0m\u001b[0m\n\u001b[0m\u001b[1;32m     12\u001b[0m \u001b[0mplt\u001b[0m\u001b[0;34m.\u001b[0m\u001b[0mylabel\u001b[0m\u001b[0;34m(\u001b[0m\u001b[0;34m'price_doc'\u001b[0m\u001b[0;34m,\u001b[0m \u001b[0mfontsize\u001b[0m\u001b[0;34m=\u001b[0m\u001b[0;36m12\u001b[0m\u001b[0;34m)\u001b[0m\u001b[0;34m\u001b[0m\u001b[0m\n\u001b[1;32m     13\u001b[0m \u001b[0mplt\u001b[0m\u001b[0;34m.\u001b[0m\u001b[0mxlabel\u001b[0m\u001b[0;34m(\u001b[0m\u001b[0;34m'yearmonth'\u001b[0m\u001b[0;34m,\u001b[0m \u001b[0mfontsize\u001b[0m\u001b[0;34m=\u001b[0m\u001b[0;36m12\u001b[0m\u001b[0;34m)\u001b[0m\u001b[0;34m\u001b[0m\u001b[0m\n",
      "\u001b[0;32m/Users/andrewrubino/anaconda2/lib/python2.7/site-packages/seaborn/categorical.pyc\u001b[0m in \u001b[0;36mpointplot\u001b[0;34m(x, y, hue, data, order, hue_order, estimator, ci, n_boot, units, markers, linestyles, dodge, join, scale, orient, color, palette, ax, errwidth, capsize, **kwargs)\u001b[0m\n\u001b[1;32m   3065\u001b[0m                             \u001b[0mestimator\u001b[0m\u001b[0;34m,\u001b[0m \u001b[0mci\u001b[0m\u001b[0;34m,\u001b[0m \u001b[0mn_boot\u001b[0m\u001b[0;34m,\u001b[0m \u001b[0munits\u001b[0m\u001b[0;34m,\u001b[0m\u001b[0;34m\u001b[0m\u001b[0m\n\u001b[1;32m   3066\u001b[0m                             \u001b[0mmarkers\u001b[0m\u001b[0;34m,\u001b[0m \u001b[0mlinestyles\u001b[0m\u001b[0;34m,\u001b[0m \u001b[0mdodge\u001b[0m\u001b[0;34m,\u001b[0m \u001b[0mjoin\u001b[0m\u001b[0;34m,\u001b[0m \u001b[0mscale\u001b[0m\u001b[0;34m,\u001b[0m\u001b[0;34m\u001b[0m\u001b[0m\n\u001b[0;32m-> 3067\u001b[0;31m                             orient, color, palette, errwidth, capsize)\n\u001b[0m\u001b[1;32m   3068\u001b[0m \u001b[0;34m\u001b[0m\u001b[0m\n\u001b[1;32m   3069\u001b[0m     \u001b[0;32mif\u001b[0m \u001b[0max\u001b[0m \u001b[0;32mis\u001b[0m \u001b[0mNone\u001b[0m\u001b[0;34m:\u001b[0m\u001b[0;34m\u001b[0m\u001b[0m\n",
      "\u001b[0;32m/Users/andrewrubino/anaconda2/lib/python2.7/site-packages/seaborn/categorical.pyc\u001b[0m in \u001b[0;36m__init__\u001b[0;34m(self, x, y, hue, data, order, hue_order, estimator, ci, n_boot, units, markers, linestyles, dodge, join, scale, orient, color, palette, errwidth, capsize)\u001b[0m\n\u001b[1;32m   1607\u001b[0m         \u001b[0;34m\"\"\"Initialize the plotter.\"\"\"\u001b[0m\u001b[0;34m\u001b[0m\u001b[0m\n\u001b[1;32m   1608\u001b[0m         self.establish_variables(x, y, hue, data, orient,\n\u001b[0;32m-> 1609\u001b[0;31m                                  order, hue_order, units)\n\u001b[0m\u001b[1;32m   1610\u001b[0m         \u001b[0mself\u001b[0m\u001b[0;34m.\u001b[0m\u001b[0mestablish_colors\u001b[0m\u001b[0;34m(\u001b[0m\u001b[0mcolor\u001b[0m\u001b[0;34m,\u001b[0m \u001b[0mpalette\u001b[0m\u001b[0;34m,\u001b[0m \u001b[0;36m1\u001b[0m\u001b[0;34m)\u001b[0m\u001b[0;34m\u001b[0m\u001b[0m\n\u001b[1;32m   1611\u001b[0m         \u001b[0mself\u001b[0m\u001b[0;34m.\u001b[0m\u001b[0mestimate_statistic\u001b[0m\u001b[0;34m(\u001b[0m\u001b[0mestimator\u001b[0m\u001b[0;34m,\u001b[0m \u001b[0mci\u001b[0m\u001b[0;34m,\u001b[0m \u001b[0mn_boot\u001b[0m\u001b[0;34m)\u001b[0m\u001b[0;34m\u001b[0m\u001b[0m\n",
      "\u001b[0;32m/Users/andrewrubino/anaconda2/lib/python2.7/site-packages/seaborn/categorical.pyc\u001b[0m in \u001b[0;36mestablish_variables\u001b[0;34m(self, x, y, hue, data, orient, order, hue_order, units)\u001b[0m\n\u001b[1;32m    149\u001b[0m                 \u001b[0;32mif\u001b[0m \u001b[0misinstance\u001b[0m\u001b[0;34m(\u001b[0m\u001b[0minput\u001b[0m\u001b[0;34m,\u001b[0m \u001b[0mstring_types\u001b[0m\u001b[0;34m)\u001b[0m\u001b[0;34m:\u001b[0m\u001b[0;34m\u001b[0m\u001b[0m\n\u001b[1;32m    150\u001b[0m                     \u001b[0merr\u001b[0m \u001b[0;34m=\u001b[0m \u001b[0;34m\"Could not interpret input '{}'\"\u001b[0m\u001b[0;34m.\u001b[0m\u001b[0mformat\u001b[0m\u001b[0;34m(\u001b[0m\u001b[0minput\u001b[0m\u001b[0;34m)\u001b[0m\u001b[0;34m\u001b[0m\u001b[0m\n\u001b[0;32m--> 151\u001b[0;31m                     \u001b[0;32mraise\u001b[0m \u001b[0mValueError\u001b[0m\u001b[0;34m(\u001b[0m\u001b[0merr\u001b[0m\u001b[0;34m)\u001b[0m\u001b[0;34m\u001b[0m\u001b[0m\n\u001b[0m\u001b[1;32m    152\u001b[0m \u001b[0;34m\u001b[0m\u001b[0m\n\u001b[1;32m    153\u001b[0m             \u001b[0;31m# Figure out the plotting orientation\u001b[0m\u001b[0;34m\u001b[0m\u001b[0;34m\u001b[0m\u001b[0m\n",
      "\u001b[0;31mValueError\u001b[0m: Could not interpret input 'cpi'"
     ]
    },
    {
     "data": {
      "text/plain": [
       "<matplotlib.figure.Figure at 0x13ff617d0>"
      ]
     },
     "metadata": {},
     "output_type": "display_data"
    }
   ],
>>>>>>> 2eee3add40e733f2d1cb649cec938d5765053d75
   "source": [
    "plt.figure(figsize=(12,8))\n",
    "sns.pointplot(x='yearmonth', y='price_doc', data=hftrain)\n",
    "plt.ylabel('price_doc', fontsize=12)\n",
    "plt.xlabel('yearmonth', fontsize=12)\n",
    "plt.title('Price distribution by year and week_num')\n",
    "plt.xticks(rotation='vertical')\n",
    "plt.show()\n",
    "\n",
    "\n",
    "plt.figure(figsize=(12,8))\n",
    "sns.pointplot(x='yearmonth', y='cpi', data=macro)\n",
    "plt.ylabel('price_doc', fontsize=12)\n",
    "plt.xlabel('yearmonth', fontsize=12)\n",
    "plt.title('CPI distribution by year and week_num')\n",
    "plt.xticks(rotation='vertical')\n",
    "plt.show()\n",
    "# We can see in macro that price drops significantly after."
   ]
  },
  {
   "cell_type": "code",
   "execution_count": null,
   "metadata": {
    "collapsed": false
   },
   "outputs": [],
   "source": [
    "# Let's investigate subarea. How many values of each?\n",
    "hftrain['sub_area'].value_counts(dropna=False).sort_index()"
   ]
  },
  {
   "cell_type": "code",
   "execution_count": null,
   "metadata": {
    "collapsed": false
   },
   "outputs": [],
   "source": [
    "sub_area_group = hftrain.groupby(['sub_area']).price_doc.agg(['count', 'sum', 'min', 'max', 'mean', 'std', 'median'])"
   ]
  },
  {
   "cell_type": "code",
   "execution_count": null,
   "metadata": {
    "collapsed": false
   },
   "outputs": [],
   "source": [
    "sub_area_group"
   ]
  },
  {
   "cell_type": "code",
   "execution_count": null,
   "metadata": {
    "collapsed": false
   },
   "outputs": [],
   "source": [
    "plt.figure(figsize=(12,8))\n",
    "sns.boxplot(x='sub_area', y='price_doc', data=hftrain, order = sub_area_group)\n",
    "plt.ylabel('price_doc', fontsize=12)\n",
    "plt.xlabel('sub_area', fontsize=12)\n",
    "plt.title('Price distribution by sub_area')\n",
    "plt.xticks(rotation='vertical')\n",
    "plt.show()\n",
    "\n",
    "\n"
   ]
  },
  {
<<<<<<< HEAD
   "cell_type": "code",
   "execution_count": 2,
   "metadata": {
    "collapsed": false
   },
   "outputs": [
    {
     "ename": "NameError",
     "evalue": "name 'hftrain' is not defined",
     "output_type": "error",
     "traceback": [
      "\u001b[0;31m---------------------------------------------------------------------------\u001b[0m",
      "\u001b[0;31mNameError\u001b[0m                                 Traceback (most recent call last)",
      "\u001b[0;32m<ipython-input-2-a3cc372d89d8>\u001b[0m in \u001b[0;36m<module>\u001b[0;34m()\u001b[0m\n\u001b[1;32m      1\u001b[0m \u001b[0;32mimport\u001b[0m \u001b[0mmissingno\u001b[0m \u001b[0;32mas\u001b[0m \u001b[0mmsno\u001b[0m\u001b[0;34m\u001b[0m\u001b[0m\n\u001b[1;32m      2\u001b[0m \u001b[0;34m\u001b[0m\u001b[0m\n\u001b[0;32m----> 3\u001b[0;31m \u001b[0mmsno\u001b[0m\u001b[0;34m.\u001b[0m\u001b[0mmissingno\u001b[0m\u001b[0;34m.\u001b[0m\u001b[0mmatrix\u001b[0m\u001b[0;34m(\u001b[0m\u001b[0mhftrain\u001b[0m\u001b[0;34m.\u001b[0m\u001b[0mloc\u001b[0m\u001b[0;34m[\u001b[0m\u001b[0;34m:\u001b[0m\u001b[0;34m,\u001b[0m \u001b[0mfeatures\u001b[0m\u001b[0;34m[\u001b[0m\u001b[0;36m0\u001b[0m\u001b[0;34m:\u001b[0m\u001b[0;36m20\u001b[0m\u001b[0;34m]\u001b[0m\u001b[0;34m]\u001b[0m\u001b[0;34m)\u001b[0m\u001b[0;34m\u001b[0m\u001b[0m\n\u001b[0m",
      "\u001b[0;31mNameError\u001b[0m: name 'hftrain' is not defined"
     ]
    }
   ],
   "source": [
    "import missingno as msno\n",
    "\n",
    "msno.missingno.matrix(hftrain.loc[:, features[0:20]])"
   ]
  },
  {
   "cell_type": "code",
   "execution_count": null,
=======
   "cell_type": "markdown",
>>>>>>> 2eee3add40e733f2d1cb649cec938d5765053d75
   "metadata": {
    "collapsed": true
   },
   "source": [
    "Take a look at these variables from the original train and test:\n",
    "neighborhood_features = metro_km_avto, metro_km_walk, kindergarten_km, school_km, park_km, green_zone_km, industrial_zone_km, water_treatment_km, cemetery_km, incineration_km, railroad_km, kremlin_km, big_road1_km, big_market_km, market_shop_km, fitness_km, swim_pool_km, ice_rink_km, stadium_km, basketball_km, hospice_morgue_km, detention_facility_km, public_healthcare_km, university_km, workplaces_km\n",
    "\n",
    "As well as the original:\n",
    "id, timestamp, full_sq, life_sq, floor, max_floor, material, build_year, num_room, kitch_sq, state, product_type, sub_area, area_m, price_doc"
   ]
  },
  {
   "cell_type": "code",
   "execution_count": 323,
   "metadata": {
    "collapsed": false
   },
   "outputs": [],
   "source": [
    "ntrain = train[['id', \n",
    "'timestamp', \n",
    "'full_sq', \n",
    "'life_sq', \n",
    "'floor', \n",
    "'max_floor', \n",
    "'material', \n",
    "'build_year', \n",
    "'num_room', \n",
    "'kitch_sq', \n",
    "'state', \n",
    "'product_type', \n",
    "'sub_area', \n",
    "'area_m', \n",
    "'metro_km_avto',\n",
    "'metro_km_walk',\n",
    "'kindergarten_km',\n",
    "'school_km',\n",
    "'park_km',\n",
    "'green_zone_km',\n",
    "'industrial_km',\n",
    "'water_treatment_km',\n",
    "'cemetery_km',\n",
    "'incineration_km',\n",
    "'railroad_km',\n",
    "'kremlin_km',\n",
    "'big_road1_km',\n",
    "'big_market_km',\n",
    "'market_shop_km',\n",
    "'fitness_km',\n",
    "'swim_pool_km',\n",
    "'ice_rink_km',\n",
    "'stadium_km',\n",
    "'basketball_km',\n",
    "'hospice_morgue_km',\n",
    "'detention_facility_km',\n",
    "'public_healthcare_km',\n",
    "'university_km',\n",
    "'workplaces_km',\n",
    "'oil_chemistry_km',\n",
    "'nuclear_reactor_km',\n",
    "'price_doc']]"
   ]
  },
  {
   "cell_type": "code",
   "execution_count": 324,
   "metadata": {
    "collapsed": false
   },
   "outputs": [
    {
     "data": {
      "text/plain": [
       "<matplotlib.axes._subplots.AxesSubplot at 0x13fddd650>"
      ]
     },
     "execution_count": 324,
     "metadata": {},
     "output_type": "execute_result"
    },
    {
     "data": {
      "image/png": "iVBORw0KGgoAAAANSUhEUgAAAnsAAAIpCAYAAADacv5rAAAABHNCSVQICAgIfAhkiAAAAAlwSFlz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\n/j/qSgef6Yl4jwAAAABJRU5ErkJggg==\n",
      "text/plain": [
       "<matplotlib.figure.Figure at 0x13fdbfd50>"
      ]
     },
     "metadata": {},
     "output_type": "display_data"
    }
   ],
   "source": [
    "plt.figure(figsize=(12,8))\n",
    "sns.heatmap(ntrain.corr(), vmax=.8, square=True)"
   ]
  },
  {
   "cell_type": "code",
   "execution_count": 360,
   "metadata": {
    "collapsed": false
   },
   "outputs": [
    {
     "ename": "KeyError",
     "evalue": "'_km'",
     "output_type": "error",
     "traceback": [
      "\u001b[0;31m---------------------------------------------------------------------------\u001b[0m",
      "\u001b[0;31mKeyError\u001b[0m                                  Traceback (most recent call last)",
      "\u001b[0;32m<ipython-input-360-3a90a179929c>\u001b[0m in \u001b[0;36m<module>\u001b[0;34m()\u001b[0m\n\u001b[1;32m     27\u001b[0m \u001b[0;34m\u001b[0m\u001b[0m\n\u001b[1;32m     28\u001b[0m \u001b[0;31m# green zone\u001b[0m\u001b[0;34m\u001b[0m\u001b[0;34m\u001b[0m\u001b[0m\n\u001b[0;32m---> 29\u001b[0;31m \u001b[0mntrain\u001b[0m\u001b[0;34m.\u001b[0m\u001b[0mplot\u001b[0m\u001b[0;34m.\u001b[0m\u001b[0mscatter\u001b[0m\u001b[0;34m(\u001b[0m\u001b[0mx\u001b[0m\u001b[0;34m=\u001b[0m\u001b[0;34m'_km'\u001b[0m\u001b[0;34m,\u001b[0m \u001b[0my\u001b[0m\u001b[0;34m=\u001b[0m\u001b[0;34m'price_doc'\u001b[0m\u001b[0;34m)\u001b[0m\u001b[0;34m\u001b[0m\u001b[0m\n\u001b[0m",
      "\u001b[0;32m/Users/andrewrubino/anaconda2/lib/python2.7/site-packages/pandas/tools/plotting.pyc\u001b[0m in \u001b[0;36mscatter\u001b[0;34m(self, x, y, s, c, **kwds)\u001b[0m\n\u001b[1;32m   3950\u001b[0m         \u001b[0maxes\u001b[0m \u001b[0;34m:\u001b[0m \u001b[0mmatplotlib\u001b[0m\u001b[0;34m.\u001b[0m\u001b[0mAxesSubplot\u001b[0m \u001b[0;32mor\u001b[0m \u001b[0mnp\u001b[0m\u001b[0;34m.\u001b[0m\u001b[0marray\u001b[0m \u001b[0mof\u001b[0m \u001b[0mthem\u001b[0m\u001b[0;34m\u001b[0m\u001b[0m\n\u001b[1;32m   3951\u001b[0m         \"\"\"\n\u001b[0;32m-> 3952\u001b[0;31m         \u001b[0;32mreturn\u001b[0m \u001b[0mself\u001b[0m\u001b[0;34m(\u001b[0m\u001b[0mkind\u001b[0m\u001b[0;34m=\u001b[0m\u001b[0;34m'scatter'\u001b[0m\u001b[0;34m,\u001b[0m \u001b[0mx\u001b[0m\u001b[0;34m=\u001b[0m\u001b[0mx\u001b[0m\u001b[0;34m,\u001b[0m \u001b[0my\u001b[0m\u001b[0;34m=\u001b[0m\u001b[0my\u001b[0m\u001b[0;34m,\u001b[0m \u001b[0mc\u001b[0m\u001b[0;34m=\u001b[0m\u001b[0mc\u001b[0m\u001b[0;34m,\u001b[0m \u001b[0ms\u001b[0m\u001b[0;34m=\u001b[0m\u001b[0ms\u001b[0m\u001b[0;34m,\u001b[0m \u001b[0;34m**\u001b[0m\u001b[0mkwds\u001b[0m\u001b[0;34m)\u001b[0m\u001b[0;34m\u001b[0m\u001b[0m\n\u001b[0m\u001b[1;32m   3953\u001b[0m \u001b[0;34m\u001b[0m\u001b[0m\n\u001b[1;32m   3954\u001b[0m     def hexbin(self, x, y, C=None, reduce_C_function=None, gridsize=None,\n",
      "\u001b[0;32m/Users/andrewrubino/anaconda2/lib/python2.7/site-packages/pandas/tools/plotting.pyc\u001b[0m in \u001b[0;36m__call__\u001b[0;34m(self, x, y, kind, ax, subplots, sharex, sharey, layout, figsize, use_index, title, grid, legend, style, logx, logy, loglog, xticks, yticks, xlim, ylim, rot, fontsize, colormap, table, yerr, xerr, secondary_y, sort_columns, **kwds)\u001b[0m\n\u001b[1;32m   3772\u001b[0m                           \u001b[0mfontsize\u001b[0m\u001b[0;34m=\u001b[0m\u001b[0mfontsize\u001b[0m\u001b[0;34m,\u001b[0m \u001b[0mcolormap\u001b[0m\u001b[0;34m=\u001b[0m\u001b[0mcolormap\u001b[0m\u001b[0;34m,\u001b[0m \u001b[0mtable\u001b[0m\u001b[0;34m=\u001b[0m\u001b[0mtable\u001b[0m\u001b[0;34m,\u001b[0m\u001b[0;34m\u001b[0m\u001b[0m\n\u001b[1;32m   3773\u001b[0m                           \u001b[0myerr\u001b[0m\u001b[0;34m=\u001b[0m\u001b[0myerr\u001b[0m\u001b[0;34m,\u001b[0m \u001b[0mxerr\u001b[0m\u001b[0;34m=\u001b[0m\u001b[0mxerr\u001b[0m\u001b[0;34m,\u001b[0m \u001b[0msecondary_y\u001b[0m\u001b[0;34m=\u001b[0m\u001b[0msecondary_y\u001b[0m\u001b[0;34m,\u001b[0m\u001b[0;34m\u001b[0m\u001b[0m\n\u001b[0;32m-> 3774\u001b[0;31m                           sort_columns=sort_columns, **kwds)\n\u001b[0m\u001b[1;32m   3775\u001b[0m     \u001b[0m__call__\u001b[0m\u001b[0;34m.\u001b[0m\u001b[0m__doc__\u001b[0m \u001b[0;34m=\u001b[0m \u001b[0mplot_frame\u001b[0m\u001b[0;34m.\u001b[0m\u001b[0m__doc__\u001b[0m\u001b[0;34m\u001b[0m\u001b[0m\n\u001b[1;32m   3776\u001b[0m \u001b[0;34m\u001b[0m\u001b[0m\n",
      "\u001b[0;32m/Users/andrewrubino/anaconda2/lib/python2.7/site-packages/pandas/tools/plotting.pyc\u001b[0m in \u001b[0;36mplot_frame\u001b[0;34m(data, x, y, kind, ax, subplots, sharex, sharey, layout, figsize, use_index, title, grid, legend, style, logx, logy, loglog, xticks, yticks, xlim, ylim, rot, fontsize, colormap, table, yerr, xerr, secondary_y, sort_columns, **kwds)\u001b[0m\n\u001b[1;32m   2641\u001b[0m                  \u001b[0myerr\u001b[0m\u001b[0;34m=\u001b[0m\u001b[0myerr\u001b[0m\u001b[0;34m,\u001b[0m \u001b[0mxerr\u001b[0m\u001b[0;34m=\u001b[0m\u001b[0mxerr\u001b[0m\u001b[0;34m,\u001b[0m\u001b[0;34m\u001b[0m\u001b[0m\n\u001b[1;32m   2642\u001b[0m                  \u001b[0msecondary_y\u001b[0m\u001b[0;34m=\u001b[0m\u001b[0msecondary_y\u001b[0m\u001b[0;34m,\u001b[0m \u001b[0msort_columns\u001b[0m\u001b[0;34m=\u001b[0m\u001b[0msort_columns\u001b[0m\u001b[0;34m,\u001b[0m\u001b[0;34m\u001b[0m\u001b[0m\n\u001b[0;32m-> 2643\u001b[0;31m                  **kwds)\n\u001b[0m\u001b[1;32m   2644\u001b[0m \u001b[0;34m\u001b[0m\u001b[0m\n\u001b[1;32m   2645\u001b[0m \u001b[0;34m\u001b[0m\u001b[0m\n",
      "\u001b[0;32m/Users/andrewrubino/anaconda2/lib/python2.7/site-packages/pandas/tools/plotting.pyc\u001b[0m in \u001b[0;36m_plot\u001b[0;34m(data, x, y, subplots, ax, kind, **kwds)\u001b[0m\n\u001b[1;32m   2468\u001b[0m         \u001b[0mplot_obj\u001b[0m \u001b[0;34m=\u001b[0m \u001b[0mklass\u001b[0m\u001b[0;34m(\u001b[0m\u001b[0mdata\u001b[0m\u001b[0;34m,\u001b[0m \u001b[0msubplots\u001b[0m\u001b[0;34m=\u001b[0m\u001b[0msubplots\u001b[0m\u001b[0;34m,\u001b[0m \u001b[0max\u001b[0m\u001b[0;34m=\u001b[0m\u001b[0max\u001b[0m\u001b[0;34m,\u001b[0m \u001b[0mkind\u001b[0m\u001b[0;34m=\u001b[0m\u001b[0mkind\u001b[0m\u001b[0;34m,\u001b[0m \u001b[0;34m**\u001b[0m\u001b[0mkwds\u001b[0m\u001b[0;34m)\u001b[0m\u001b[0;34m\u001b[0m\u001b[0m\n\u001b[1;32m   2469\u001b[0m \u001b[0;34m\u001b[0m\u001b[0m\n\u001b[0;32m-> 2470\u001b[0;31m     \u001b[0mplot_obj\u001b[0m\u001b[0;34m.\u001b[0m\u001b[0mgenerate\u001b[0m\u001b[0;34m(\u001b[0m\u001b[0;34m)\u001b[0m\u001b[0;34m\u001b[0m\u001b[0m\n\u001b[0m\u001b[1;32m   2471\u001b[0m     \u001b[0mplot_obj\u001b[0m\u001b[0;34m.\u001b[0m\u001b[0mdraw\u001b[0m\u001b[0;34m(\u001b[0m\u001b[0;34m)\u001b[0m\u001b[0;34m\u001b[0m\u001b[0m\n\u001b[1;32m   2472\u001b[0m     \u001b[0;32mreturn\u001b[0m \u001b[0mplot_obj\u001b[0m\u001b[0;34m.\u001b[0m\u001b[0mresult\u001b[0m\u001b[0;34m\u001b[0m\u001b[0m\n",
      "\u001b[0;32m/Users/andrewrubino/anaconda2/lib/python2.7/site-packages/pandas/tools/plotting.pyc\u001b[0m in \u001b[0;36mgenerate\u001b[0;34m(self)\u001b[0m\n\u001b[1;32m   1041\u001b[0m         \u001b[0mself\u001b[0m\u001b[0;34m.\u001b[0m\u001b[0m_compute_plot_data\u001b[0m\u001b[0;34m(\u001b[0m\u001b[0;34m)\u001b[0m\u001b[0;34m\u001b[0m\u001b[0m\n\u001b[1;32m   1042\u001b[0m         \u001b[0mself\u001b[0m\u001b[0;34m.\u001b[0m\u001b[0m_setup_subplots\u001b[0m\u001b[0;34m(\u001b[0m\u001b[0;34m)\u001b[0m\u001b[0;34m\u001b[0m\u001b[0m\n\u001b[0;32m-> 1043\u001b[0;31m         \u001b[0mself\u001b[0m\u001b[0;34m.\u001b[0m\u001b[0m_make_plot\u001b[0m\u001b[0;34m(\u001b[0m\u001b[0;34m)\u001b[0m\u001b[0;34m\u001b[0m\u001b[0m\n\u001b[0m\u001b[1;32m   1044\u001b[0m         \u001b[0mself\u001b[0m\u001b[0;34m.\u001b[0m\u001b[0m_add_table\u001b[0m\u001b[0;34m(\u001b[0m\u001b[0;34m)\u001b[0m\u001b[0;34m\u001b[0m\u001b[0m\n\u001b[1;32m   1045\u001b[0m         \u001b[0mself\u001b[0m\u001b[0;34m.\u001b[0m\u001b[0m_make_legend\u001b[0m\u001b[0;34m(\u001b[0m\u001b[0;34m)\u001b[0m\u001b[0;34m\u001b[0m\u001b[0m\n",
      "\u001b[0;32m/Users/andrewrubino/anaconda2/lib/python2.7/site-packages/pandas/tools/plotting.pyc\u001b[0m in \u001b[0;36m_make_plot\u001b[0;34m(self)\u001b[0m\n\u001b[1;32m   1617\u001b[0m         \u001b[0;32melse\u001b[0m\u001b[0;34m:\u001b[0m\u001b[0;34m\u001b[0m\u001b[0m\n\u001b[1;32m   1618\u001b[0m             \u001b[0mlabel\u001b[0m \u001b[0;34m=\u001b[0m \u001b[0mNone\u001b[0m\u001b[0;34m\u001b[0m\u001b[0m\n\u001b[0;32m-> 1619\u001b[0;31m         scatter = ax.scatter(data[x].values, data[y].values, c=c_values,\n\u001b[0m\u001b[1;32m   1620\u001b[0m                              label=label, cmap=cmap, **self.kwds)\n\u001b[1;32m   1621\u001b[0m         \u001b[0;32mif\u001b[0m \u001b[0mcb\u001b[0m\u001b[0;34m:\u001b[0m\u001b[0;34m\u001b[0m\u001b[0m\n",
      "\u001b[0;32m/Users/andrewrubino/anaconda2/lib/python2.7/site-packages/pandas/core/frame.pyc\u001b[0m in \u001b[0;36m__getitem__\u001b[0;34m(self, key)\u001b[0m\n\u001b[1;32m   2057\u001b[0m             \u001b[0;32mreturn\u001b[0m \u001b[0mself\u001b[0m\u001b[0;34m.\u001b[0m\u001b[0m_getitem_multilevel\u001b[0m\u001b[0;34m(\u001b[0m\u001b[0mkey\u001b[0m\u001b[0;34m)\u001b[0m\u001b[0;34m\u001b[0m\u001b[0m\n\u001b[1;32m   2058\u001b[0m         \u001b[0;32melse\u001b[0m\u001b[0;34m:\u001b[0m\u001b[0;34m\u001b[0m\u001b[0m\n\u001b[0;32m-> 2059\u001b[0;31m             \u001b[0;32mreturn\u001b[0m \u001b[0mself\u001b[0m\u001b[0;34m.\u001b[0m\u001b[0m_getitem_column\u001b[0m\u001b[0;34m(\u001b[0m\u001b[0mkey\u001b[0m\u001b[0;34m)\u001b[0m\u001b[0;34m\u001b[0m\u001b[0m\n\u001b[0m\u001b[1;32m   2060\u001b[0m \u001b[0;34m\u001b[0m\u001b[0m\n\u001b[1;32m   2061\u001b[0m     \u001b[0;32mdef\u001b[0m \u001b[0m_getitem_column\u001b[0m\u001b[0;34m(\u001b[0m\u001b[0mself\u001b[0m\u001b[0;34m,\u001b[0m \u001b[0mkey\u001b[0m\u001b[0;34m)\u001b[0m\u001b[0;34m:\u001b[0m\u001b[0;34m\u001b[0m\u001b[0m\n",
      "\u001b[0;32m/Users/andrewrubino/anaconda2/lib/python2.7/site-packages/pandas/core/frame.pyc\u001b[0m in \u001b[0;36m_getitem_column\u001b[0;34m(self, key)\u001b[0m\n\u001b[1;32m   2064\u001b[0m         \u001b[0;31m# get column\u001b[0m\u001b[0;34m\u001b[0m\u001b[0;34m\u001b[0m\u001b[0m\n\u001b[1;32m   2065\u001b[0m         \u001b[0;32mif\u001b[0m \u001b[0mself\u001b[0m\u001b[0;34m.\u001b[0m\u001b[0mcolumns\u001b[0m\u001b[0;34m.\u001b[0m\u001b[0mis_unique\u001b[0m\u001b[0;34m:\u001b[0m\u001b[0;34m\u001b[0m\u001b[0m\n\u001b[0;32m-> 2066\u001b[0;31m             \u001b[0;32mreturn\u001b[0m \u001b[0mself\u001b[0m\u001b[0;34m.\u001b[0m\u001b[0m_get_item_cache\u001b[0m\u001b[0;34m(\u001b[0m\u001b[0mkey\u001b[0m\u001b[0;34m)\u001b[0m\u001b[0;34m\u001b[0m\u001b[0m\n\u001b[0m\u001b[1;32m   2067\u001b[0m \u001b[0;34m\u001b[0m\u001b[0m\n\u001b[1;32m   2068\u001b[0m         \u001b[0;31m# duplicate columns & possible reduce dimensionality\u001b[0m\u001b[0;34m\u001b[0m\u001b[0;34m\u001b[0m\u001b[0m\n",
      "\u001b[0;32m/Users/andrewrubino/anaconda2/lib/python2.7/site-packages/pandas/core/generic.pyc\u001b[0m in \u001b[0;36m_get_item_cache\u001b[0;34m(self, item)\u001b[0m\n\u001b[1;32m   1384\u001b[0m         \u001b[0mres\u001b[0m \u001b[0;34m=\u001b[0m \u001b[0mcache\u001b[0m\u001b[0;34m.\u001b[0m\u001b[0mget\u001b[0m\u001b[0;34m(\u001b[0m\u001b[0mitem\u001b[0m\u001b[0;34m)\u001b[0m\u001b[0;34m\u001b[0m\u001b[0m\n\u001b[1;32m   1385\u001b[0m         \u001b[0;32mif\u001b[0m \u001b[0mres\u001b[0m \u001b[0;32mis\u001b[0m \u001b[0mNone\u001b[0m\u001b[0;34m:\u001b[0m\u001b[0;34m\u001b[0m\u001b[0m\n\u001b[0;32m-> 1386\u001b[0;31m             \u001b[0mvalues\u001b[0m \u001b[0;34m=\u001b[0m \u001b[0mself\u001b[0m\u001b[0;34m.\u001b[0m\u001b[0m_data\u001b[0m\u001b[0;34m.\u001b[0m\u001b[0mget\u001b[0m\u001b[0;34m(\u001b[0m\u001b[0mitem\u001b[0m\u001b[0;34m)\u001b[0m\u001b[0;34m\u001b[0m\u001b[0m\n\u001b[0m\u001b[1;32m   1387\u001b[0m             \u001b[0mres\u001b[0m \u001b[0;34m=\u001b[0m \u001b[0mself\u001b[0m\u001b[0;34m.\u001b[0m\u001b[0m_box_item_values\u001b[0m\u001b[0;34m(\u001b[0m\u001b[0mitem\u001b[0m\u001b[0;34m,\u001b[0m \u001b[0mvalues\u001b[0m\u001b[0;34m)\u001b[0m\u001b[0;34m\u001b[0m\u001b[0m\n\u001b[1;32m   1388\u001b[0m             \u001b[0mcache\u001b[0m\u001b[0;34m[\u001b[0m\u001b[0mitem\u001b[0m\u001b[0;34m]\u001b[0m \u001b[0;34m=\u001b[0m \u001b[0mres\u001b[0m\u001b[0;34m\u001b[0m\u001b[0m\n",
      "\u001b[0;32m/Users/andrewrubino/anaconda2/lib/python2.7/site-packages/pandas/core/internals.pyc\u001b[0m in \u001b[0;36mget\u001b[0;34m(self, item, fastpath)\u001b[0m\n\u001b[1;32m   3541\u001b[0m \u001b[0;34m\u001b[0m\u001b[0m\n\u001b[1;32m   3542\u001b[0m             \u001b[0;32mif\u001b[0m \u001b[0;32mnot\u001b[0m \u001b[0misnull\u001b[0m\u001b[0;34m(\u001b[0m\u001b[0mitem\u001b[0m\u001b[0;34m)\u001b[0m\u001b[0;34m:\u001b[0m\u001b[0;34m\u001b[0m\u001b[0m\n\u001b[0;32m-> 3543\u001b[0;31m                 \u001b[0mloc\u001b[0m \u001b[0;34m=\u001b[0m \u001b[0mself\u001b[0m\u001b[0;34m.\u001b[0m\u001b[0mitems\u001b[0m\u001b[0;34m.\u001b[0m\u001b[0mget_loc\u001b[0m\u001b[0;34m(\u001b[0m\u001b[0mitem\u001b[0m\u001b[0;34m)\u001b[0m\u001b[0;34m\u001b[0m\u001b[0m\n\u001b[0m\u001b[1;32m   3544\u001b[0m             \u001b[0;32melse\u001b[0m\u001b[0;34m:\u001b[0m\u001b[0;34m\u001b[0m\u001b[0m\n\u001b[1;32m   3545\u001b[0m                 \u001b[0mindexer\u001b[0m \u001b[0;34m=\u001b[0m \u001b[0mnp\u001b[0m\u001b[0;34m.\u001b[0m\u001b[0marange\u001b[0m\u001b[0;34m(\u001b[0m\u001b[0mlen\u001b[0m\u001b[0;34m(\u001b[0m\u001b[0mself\u001b[0m\u001b[0;34m.\u001b[0m\u001b[0mitems\u001b[0m\u001b[0;34m)\u001b[0m\u001b[0;34m)\u001b[0m\u001b[0;34m[\u001b[0m\u001b[0misnull\u001b[0m\u001b[0;34m(\u001b[0m\u001b[0mself\u001b[0m\u001b[0;34m.\u001b[0m\u001b[0mitems\u001b[0m\u001b[0;34m)\u001b[0m\u001b[0;34m]\u001b[0m\u001b[0;34m\u001b[0m\u001b[0m\n",
      "\u001b[0;32m/Users/andrewrubino/anaconda2/lib/python2.7/site-packages/pandas/indexes/base.pyc\u001b[0m in \u001b[0;36mget_loc\u001b[0;34m(self, key, method, tolerance)\u001b[0m\n\u001b[1;32m   2134\u001b[0m                 \u001b[0;32mreturn\u001b[0m \u001b[0mself\u001b[0m\u001b[0;34m.\u001b[0m\u001b[0m_engine\u001b[0m\u001b[0;34m.\u001b[0m\u001b[0mget_loc\u001b[0m\u001b[0;34m(\u001b[0m\u001b[0mkey\u001b[0m\u001b[0;34m)\u001b[0m\u001b[0;34m\u001b[0m\u001b[0m\n\u001b[1;32m   2135\u001b[0m             \u001b[0;32mexcept\u001b[0m \u001b[0mKeyError\u001b[0m\u001b[0;34m:\u001b[0m\u001b[0;34m\u001b[0m\u001b[0m\n\u001b[0;32m-> 2136\u001b[0;31m                 \u001b[0;32mreturn\u001b[0m \u001b[0mself\u001b[0m\u001b[0;34m.\u001b[0m\u001b[0m_engine\u001b[0m\u001b[0;34m.\u001b[0m\u001b[0mget_loc\u001b[0m\u001b[0;34m(\u001b[0m\u001b[0mself\u001b[0m\u001b[0;34m.\u001b[0m\u001b[0m_maybe_cast_indexer\u001b[0m\u001b[0;34m(\u001b[0m\u001b[0mkey\u001b[0m\u001b[0;34m)\u001b[0m\u001b[0;34m)\u001b[0m\u001b[0;34m\u001b[0m\u001b[0m\n\u001b[0m\u001b[1;32m   2137\u001b[0m \u001b[0;34m\u001b[0m\u001b[0m\n\u001b[1;32m   2138\u001b[0m         \u001b[0mindexer\u001b[0m \u001b[0;34m=\u001b[0m \u001b[0mself\u001b[0m\u001b[0;34m.\u001b[0m\u001b[0mget_indexer\u001b[0m\u001b[0;34m(\u001b[0m\u001b[0;34m[\u001b[0m\u001b[0mkey\u001b[0m\u001b[0;34m]\u001b[0m\u001b[0;34m,\u001b[0m \u001b[0mmethod\u001b[0m\u001b[0;34m=\u001b[0m\u001b[0mmethod\u001b[0m\u001b[0;34m,\u001b[0m \u001b[0mtolerance\u001b[0m\u001b[0;34m=\u001b[0m\u001b[0mtolerance\u001b[0m\u001b[0;34m)\u001b[0m\u001b[0;34m\u001b[0m\u001b[0m\n",
      "\u001b[0;32mpandas/index.pyx\u001b[0m in \u001b[0;36mpandas.index.IndexEngine.get_loc (pandas/index.c:4433)\u001b[0;34m()\u001b[0m\n",
      "\u001b[0;32mpandas/index.pyx\u001b[0m in \u001b[0;36mpandas.index.IndexEngine.get_loc (pandas/index.c:4279)\u001b[0;34m()\u001b[0m\n",
      "\u001b[0;32mpandas/src/hashtable_class_helper.pxi\u001b[0m in \u001b[0;36mpandas.hashtable.PyObjectHashTable.get_item (pandas/hashtable.c:13742)\u001b[0;34m()\u001b[0m\n",
      "\u001b[0;32mpandas/src/hashtable_class_helper.pxi\u001b[0m in \u001b[0;36mpandas.hashtable.PyObjectHashTable.get_item (pandas/hashtable.c:13696)\u001b[0;34m()\u001b[0m\n",
      "\u001b[0;31mKeyError\u001b[0m: '_km'"
     ]
    },
    {
     "data": {
      "image/png": "iVBORw0KGgoAAAANSUhEUgAAAYAAAAEPCAYAAABLIROyAAAABHNCSVQICAgIfAhkiAAAAAlwSFlz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\nKQGIiFQpJQARkSqlBCAiUqX+P+cOcvXWGIA6AAAAAElFTkSuQmCC\n",
      "text/plain": [
       "<matplotlib.figure.Figure at 0x13dfe5950>"
      ]
     },
     "metadata": {},
     "output_type": "display_data"
    },
    {
     "data": {
      "image/png": "iVBORw0KGgoAAAANSUhEUgAAAYAAAAEPCAYAAABLIROyAAAABHNCSVQICAgIfAhkiAAAAAlwSFlz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\ngg==\n",
      "text/plain": [
       "<matplotlib.figure.Figure at 0x13fabb7d0>"
      ]
     },
     "metadata": {},
     "output_type": "display_data"
    },
    {
     "data": {
      "image/png": "iVBORw0KGgoAAAANSUhEUgAAAYAAAAEPCAYAAABLIROyAAAABHNCSVQICAgIfAhkiAAAAAlwSFlz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\niASUAoCISEApAIiIBNT/B9UiPTI7nNkBAAAAAElFTkSuQmCC\n",
      "text/plain": [
       "<matplotlib.figure.Figure at 0x140df0390>"
      ]
     },
     "metadata": {},
     "output_type": "display_data"
    },
    {
     "data": {
      "image/png": "iVBORw0KGgoAAAANSUhEUgAAAYAAAAEPCAYAAABLIROyAAAABHNCSVQICAgIfAhkiAAAAAlwSFlz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\nhEdJAhBCCI+SBCCEEB71/wFoJCTuIbapGgAAAABJRU5ErkJggg==\n",
      "text/plain": [
       "<matplotlib.figure.Figure at 0x140acd050>"
      ]
     },
     "metadata": {},
     "output_type": "display_data"
    },
    {
     "data": {
      "image/png": "iVBORw0KGgoAAAANSUhEUgAAAYAAAAEPCAYAAABLIROyAAAABHNCSVQICAgIfAhkiAAAAAlwSFlz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\nlABERHxKCUBExKf+P9xvUU3c+OJhAAAAAElFTkSuQmCC\n",
      "text/plain": [
       "<matplotlib.figure.Figure at 0x140dfd110>"
      ]
     },
     "metadata": {},
     "output_type": "display_data"
    },
    {
     "data": {
      "image/png": "iVBORw0KGgoAAAANSUhEUgAAAYAAAAEPCAYAAABLIROyAAAABHNCSVQICAgIfAhkiAAAAAlwSFlz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\n",
      "text/plain": [
       "<matplotlib.figure.Figure at 0x13f82d3d0>"
      ]
     },
     "metadata": {},
     "output_type": "display_data"
    },
    {
     "data": {
      "image/png": "iVBORw0KGgoAAAANSUhEUgAAAYAAAAEPCAYAAABLIROyAAAABHNCSVQICAgIfAhkiAAAAAlwSFlz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\nEZGQ+l+FIA7PFgNswAAAAABJRU5ErkJggg==\n",
      "text/plain": [
       "<matplotlib.figure.Figure at 0x13e885210>"
      ]
     },
     "metadata": {},
     "output_type": "display_data"
    },
    {
     "data": {
      "image/png": "iVBORw0KGgoAAAANSUhEUgAAAYAAAAEPCAYAAABLIROyAAAABHNCSVQICAgIfAhkiAAAAAlwSFlz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\n",
      "text/plain": [
       "<matplotlib.figure.Figure at 0x13f56df10>"
      ]
     },
     "metadata": {},
     "output_type": "display_data"
    },
    {
     "data": {
      "image/png": "iVBORw0KGgoAAAANSUhEUgAAAYAAAAEPCAYAAABLIROyAAAABHNCSVQICAgIfAhkiAAAAAlwSFlz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\ngg==\n",
      "text/plain": [
       "<matplotlib.figure.Figure at 0x148183750>"
      ]
     },
     "metadata": {},
     "output_type": "display_data"
    },
    {
     "data": {
      "image/png": "iVBORw0KGgoAAAANSUhEUgAAAXkAAAD7CAYAAACPDORaAAAABHNCSVQICAgIfAhkiAAAAAlwSFlz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\nzMhLUmFGXpIKM/KSVJiRl6TC/gmEp4IEHCUJ/QAAAABJRU5ErkJggg==\n",
      "text/plain": [
       "<matplotlib.figure.Figure at 0x1416b1f50>"
      ]
     },
     "metadata": {},
     "output_type": "display_data"
    }
   ],
   "source": [
    "# plot kremlin_km against price\n",
    "ntrain.plot.scatter(x='kremlin_km', y='price_doc')\n",
    "\n",
    "# what about big road\n",
    "ntrain.plot.scatter(x='big_road1_km', y='price_doc')\n",
    "\n",
    "# university\n",
    "ntrain.plot.scatter(x='university_km', y='price_doc')\n",
    "\n",
    "# oil chemistry\n",
    "ntrain.plot.scatter(x='oil_chemistry_km', y='price_doc')\n",
    "\n",
    "# industrial\n",
    "ntrain.plot.scatter(x='industrial_km', y='price_doc')\n",
    "\n",
    "# public health care\n",
    "ntrain.plot.scatter(x='public_healthcare_km', y='price_doc')\n",
    "\n",
    "#market\n",
    "ntrain.plot.scatter(x='market_shop_km', y='price_doc')\n",
    "\n",
    "# metro\n",
    "ntrain.plot.scatter(x='metro_km_avto', y='price_doc')\n",
    "\n",
    "# school\n",
    "ntrain.plot.scatter(x='school_km', y='price_doc')\n",
    "\n",
    "# green zone\n",
    "ntrain.plot.scatter(x='_km', y='price_doc')"
   ]
  },
  {
   "cell_type": "markdown",
   "metadata": {},
   "source": [
    "Some things that might be worth F.E.ing:\n",
    "- Schools per subarea (the closer the school, the higher the price)\n",
    "- Seems like there's a sweet spot for oil_chemistry_km\n",
    "- Distance from kremlin seems correlated with price. Kremlin is smack dab in the center, so the closer to the kremlin, the higher the price.\n"
   ]
  }
 ],
 "metadata": {
  "kernelspec": {
   "display_name": "Python 2",
   "language": "python",
   "name": "python2"
  },
  "language_info": {
   "codemirror_mode": {
    "name": "ipython",
    "version": 2
   },
   "file_extension": ".py",
   "mimetype": "text/x-python",
   "name": "python",
   "nbconvert_exporter": "python",
   "pygments_lexer": "ipython2",
   "version": "2.7.13"
  }
 },
 "nbformat": 4,
 "nbformat_minor": 2
}
