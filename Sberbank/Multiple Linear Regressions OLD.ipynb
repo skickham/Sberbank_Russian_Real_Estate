{
 "cells": [
  {
   "cell_type": "markdown",
   "metadata": {},
   "source": [
    "# Multiple Linear Regression Exploration"
   ]
  },
  {
   "cell_type": "markdown",
   "metadata": {},
   "source": [
    "# Import libraries"
   ]
  },
  {
   "cell_type": "code",
   "execution_count": 236,
   "metadata": {
    "collapsed": true
   },
   "outputs": [],
   "source": [
    "import numpy as np\n",
    "import pandas as pd\n",
    "\n",
    "import matplotlib.pyplot as plt\n",
    "import seaborn as sns\n",
    "\n",
    "from __future__ import print_function\n",
    "\n",
    "from scipy import stats\n",
    "from sklearn import linear_model\n",
    "\n",
    "\n",
    "%matplotlib inline\n",
    "\n",
    "pd.options.mode.chained_assignment = None # default = 'warn'\n",
    "pd.set_option('display.max_columns', 500)\n",
    "color = sns.color_palette()"
   ]
  },
  {
   "cell_type": "markdown",
   "metadata": {},
   "source": [
    "# Pull data and create regression object"
   ]
  },
  {
   "cell_type": "code",
   "execution_count": 237,
   "metadata": {
    "collapsed": false
   },
   "outputs": [],
   "source": [
    "train = pd.read_csv('train.csv', parse_dates=['timestamp'])\n",
    "test = pd.read_csv('test.csv', parse_dates = ['timestamp'])\n",
    "macro = pd.read_csv('macro.csv', parse_dates = ['timestamp'])\n",
    "\n",
    "ols = linear_model.LinearRegression()  # create the object easily"
   ]
  },
  {
   "cell_type": "markdown",
   "metadata": {},
   "source": [
    "# Combine Datasets"
   ]
  },
  {
   "cell_type": "code",
   "execution_count": 238,
   "metadata": {
    "collapsed": false
   },
   "outputs": [
    {
     "data": {
      "text/plain": [
       "(38133, 392)"
      ]
     },
     "execution_count": 238,
     "metadata": {},
     "output_type": "execute_result"
    }
   ],
   "source": [
    "train['dataset'] = 'train'\n",
    "test['dataset'] = 'test'\n",
    "\n",
    "# concat train and test\n",
    "df = pd.concat([train, test])\n",
    "\n",
    "# merge macro set \n",
    "df = pd.merge(df, macro, how='left', on = 'timestamp')\n",
    "\n",
    "df.shape"
   ]
  },
  {
   "cell_type": "markdown",
   "metadata": {},
   "source": [
    "# Subset important columns"
   ]
  },
  {
   "cell_type": "code",
   "execution_count": 239,
   "metadata": {
    "collapsed": false
   },
   "outputs": [],
   "source": [
    "df_important = df.loc[:, ['id', 'timestamp', 'full_sq',\n",
    "                          'life_sq', 'floor', 'max_floor', 'material',\n",
    "                          'build_year', 'num_room',\n",
    "                          'kitch_sq', 'state',\n",
    "                          'product_type', 'sub_area',\n",
    "                          'indust_part', 'school_education_centers_raion',\n",
    "                          'sport_objects_raion', 'culture_objects_top_25_raion',\n",
    "                          'oil_chemistry_raion', 'metro_min_avto',\n",
    "                          'green_zone_km', 'industrial_km',\n",
    "                          'kremlin_km', 'radiation_km',\n",
    "                          'ts_km', 'fitness_km',\n",
    "                          'stadium_km', 'additional_education_km',\n",
    "                          'cafe_count_1500_price_500', 'cafe_count_1500_price_high',\n",
    "                          'cafe_count_2000_price_2500', 'trc_sqm_5000',\n",
    "                          'cafe_count_5000', 'cafe_count_5000_price_high',\n",
    "                          'gdp_quart', 'cpi',\n",
    "                          'ppi', 'usdrub',\n",
    "                          'eurrub', 'gdp_annual',\n",
    "                          'rts', 'micex',\n",
    "                          'micex_cbi_tr', 'deposits_rate',\n",
    "                          'mortgage_rate', 'income_per_cap',\n",
    "                          'salary', 'labor_force',\n",
    "                          'unemployment', 'employment', 'price_doc']]"
   ]
  },
  {
   "cell_type": "markdown",
   "metadata": {},
   "source": [
    "# Check Missing Data"
   ]
  },
  {
   "cell_type": "code",
   "execution_count": 240,
   "metadata": {
    "collapsed": false
   },
   "outputs": [],
   "source": [
    "# check missing values\n",
    "# df_important.info()\n",
    "# it checked out\n",
    "\n",
    "# missing data\n",
    "df_na = (df_important.isnull().sum() / len(df_important)) * 100     # total missing/total observations as percent\n",
    "df_na = df_na.drop(df_na[df_na == 0].index).sort_values(ascending = False)     # "
   ]
  },
  {
   "cell_type": "code",
   "execution_count": 241,
   "metadata": {
    "collapsed": false
   },
   "outputs": [
    {
     "data": {
      "text/plain": [
       "[<matplotlib.text.Text at 0x1b2e6400>, <matplotlib.text.Text at 0x1b2c5cf8>]"
      ]
     },
     "execution_count": 241,
     "metadata": {},
     "output_type": "execute_result"
    },
    {
     "data": {
      "image/png": "[encoded data removed]",
      "text/plain": [
       "<matplotlib.figure.Figure at 0xcd169b0>"
      ]
     },
     "metadata": {},
     "output_type": "display_data"
    }
   ],
   "source": [
    "f, ax = plt.subplots(figsize = (12,6))  # max length 12, height of 6    # only use f to get ax\n",
    "plt.xticks(rotation = '90')             # rotate labels\n",
    "sns.barplot(x=df_na.index, y = df_na)   # plot colname with percent missing\n",
    "ax.set(title='Percent missing data by feature', ylabel = '% missing')   # ax, wheres f"
   ]
  },
  {
   "cell_type": "markdown",
   "metadata": {},
   "source": [
    "# Processing"
   ]
  },
  {
   "cell_type": "code",
   "execution_count": 242,
   "metadata": {
    "collapsed": false
   },
   "outputs": [],
   "source": [
    "# df_important.dtypes"
   ]
  },
  {
   "cell_type": "code",
   "execution_count": 243,
   "metadata": {
    "collapsed": false
   },
   "outputs": [
    {
     "data": {
      "text/html": [
       "<div>\n",
       "<style>\n",
       "    .dataframe thead tr:only-child th {\n",
       "        text-align: right;\n",
       "    }\n",
       "\n",
       "    .dataframe thead th {\n",
       "        text-align: left;\n",
       "    }\n",
       "\n",
       "    .dataframe tbody tr th {\n",
       "        vertical-align: top;\n",
       "    }\n",
       "</style>\n",
       "<table border=\"1\" class=\"dataframe\">\n",
       "  <thead>\n",
       "    <tr style=\"text-align: right;\">\n",
       "      <th></th>\n",
       "      <th>id</th>\n",
       "      <th>timestamp</th>\n",
       "      <th>full_sq</th>\n",
       "      <th>life_sq</th>\n",
       "      <th>floor</th>\n",
       "      <th>max_floor</th>\n",
       "      <th>material</th>\n",
       "      <th>build_year</th>\n",
       "      <th>num_room</th>\n",
       "      <th>kitch_sq</th>\n",
       "      <th>state</th>\n",
       "      <th>product_type</th>\n",
       "      <th>sub_area</th>\n",
       "      <th>indust_part</th>\n",
       "      <th>school_education_centers_raion</th>\n",
       "      <th>sport_objects_raion</th>\n",
       "      <th>culture_objects_top_25_raion</th>\n",
       "      <th>oil_chemistry_raion</th>\n",
       "      <th>metro_min_avto</th>\n",
       "      <th>green_zone_km</th>\n",
       "      <th>industrial_km</th>\n",
       "      <th>kremlin_km</th>\n",
       "      <th>radiation_km</th>\n",
       "      <th>ts_km</th>\n",
       "      <th>fitness_km</th>\n",
       "      <th>stadium_km</th>\n",
       "      <th>additional_education_km</th>\n",
       "      <th>cafe_count_1500_price_500</th>\n",
       "      <th>cafe_count_1500_price_high</th>\n",
       "      <th>cafe_count_2000_price_2500</th>\n",
       "      <th>trc_sqm_5000</th>\n",
       "      <th>cafe_count_5000</th>\n",
       "      <th>cafe_count_5000_price_high</th>\n",
       "      <th>gdp_quart</th>\n",
       "      <th>cpi</th>\n",
       "      <th>ppi</th>\n",
       "      <th>usdrub</th>\n",
       "      <th>eurrub</th>\n",
       "      <th>gdp_annual</th>\n",
       "      <th>rts</th>\n",
       "      <th>micex</th>\n",
       "      <th>micex_cbi_tr</th>\n",
       "      <th>deposits_rate</th>\n",
       "      <th>mortgage_rate</th>\n",
       "      <th>income_per_cap</th>\n",
       "      <th>salary</th>\n",
       "      <th>labor_force</th>\n",
       "      <th>unemployment</th>\n",
       "      <th>employment</th>\n",
       "      <th>price_doc</th>\n",
       "    </tr>\n",
       "  </thead>\n",
       "  <tbody>\n",
       "    <tr>\n",
       "      <th>0</th>\n",
       "      <td>1</td>\n",
       "      <td>2011-08-20</td>\n",
       "      <td>43.0</td>\n",
       "      <td>27.0</td>\n",
       "      <td>4.0</td>\n",
       "      <td>NaN</td>\n",
       "      <td>NaN</td>\n",
       "      <td>NaN</td>\n",
       "      <td>NaN</td>\n",
       "      <td>NaN</td>\n",
       "      <td>NaN</td>\n",
       "      <td>Investment</td>\n",
       "      <td>Bibirevo</td>\n",
       "      <td>0.000070</td>\n",
       "      <td>5</td>\n",
       "      <td>7</td>\n",
       "      <td>0</td>\n",
       "      <td>0</td>\n",
       "      <td>2.590241</td>\n",
       "      <td>0.600973</td>\n",
       "      <td>1.080934</td>\n",
       "      <td>15.156211</td>\n",
       "      <td>1.210027</td>\n",
       "      <td>4.308127</td>\n",
       "      <td>0.485841</td>\n",
       "      <td>8.148591</td>\n",
       "      <td>0.947962</td>\n",
       "      <td>14</td>\n",
       "      <td>0</td>\n",
       "      <td>2</td>\n",
       "      <td>4036616</td>\n",
       "      <td>152</td>\n",
       "      <td>0</td>\n",
       "      <td>14313.7</td>\n",
       "      <td>354.0</td>\n",
       "      <td>420.7</td>\n",
       "      <td>29.0048</td>\n",
       "      <td>41.7681</td>\n",
       "      <td>46308.5</td>\n",
       "      <td>1575.33</td>\n",
       "      <td>1438.74</td>\n",
       "      <td>204.78</td>\n",
       "      <td>4.1</td>\n",
       "      <td>11.84</td>\n",
       "      <td>42688.6</td>\n",
       "      <td>44898.7</td>\n",
       "      <td>6643.626</td>\n",
       "      <td>0.014</td>\n",
       "      <td>0.708</td>\n",
       "      <td>5850000.0</td>\n",
       "    </tr>\n",
       "    <tr>\n",
       "      <th>1</th>\n",
       "      <td>2</td>\n",
       "      <td>2011-08-23</td>\n",
       "      <td>34.0</td>\n",
       "      <td>19.0</td>\n",
       "      <td>3.0</td>\n",
       "      <td>NaN</td>\n",
       "      <td>NaN</td>\n",
       "      <td>NaN</td>\n",
       "      <td>NaN</td>\n",
       "      <td>NaN</td>\n",
       "      <td>NaN</td>\n",
       "      <td>Investment</td>\n",
       "      <td>Nagatinskij Zaton</td>\n",
       "      <td>0.049637</td>\n",
       "      <td>8</td>\n",
       "      <td>6</td>\n",
       "      <td>1</td>\n",
       "      <td>0</td>\n",
       "      <td>0.936700</td>\n",
       "      <td>0.065321</td>\n",
       "      <td>0.966479</td>\n",
       "      <td>8.698054</td>\n",
       "      <td>2.724295</td>\n",
       "      <td>0.725560</td>\n",
       "      <td>0.668364</td>\n",
       "      <td>6.127073</td>\n",
       "      <td>1.072315</td>\n",
       "      <td>6</td>\n",
       "      <td>0</td>\n",
       "      <td>2</td>\n",
       "      <td>2034942</td>\n",
       "      <td>177</td>\n",
       "      <td>0</td>\n",
       "      <td>14313.7</td>\n",
       "      <td>354.0</td>\n",
       "      <td>420.7</td>\n",
       "      <td>28.9525</td>\n",
       "      <td>41.7537</td>\n",
       "      <td>46308.5</td>\n",
       "      <td>1578.91</td>\n",
       "      <td>1444.11</td>\n",
       "      <td>204.92</td>\n",
       "      <td>4.1</td>\n",
       "      <td>11.84</td>\n",
       "      <td>42688.6</td>\n",
       "      <td>44898.7</td>\n",
       "      <td>6643.626</td>\n",
       "      <td>0.014</td>\n",
       "      <td>0.708</td>\n",
       "      <td>6000000.0</td>\n",
       "    </tr>\n",
       "    <tr>\n",
       "      <th>2</th>\n",
       "      <td>3</td>\n",
       "      <td>2011-08-27</td>\n",
       "      <td>43.0</td>\n",
       "      <td>29.0</td>\n",
       "      <td>2.0</td>\n",
       "      <td>NaN</td>\n",
       "      <td>NaN</td>\n",
       "      <td>NaN</td>\n",
       "      <td>NaN</td>\n",
       "      <td>NaN</td>\n",
       "      <td>NaN</td>\n",
       "      <td>Investment</td>\n",
       "      <td>Tekstil'shhiki</td>\n",
       "      <td>0.118537</td>\n",
       "      <td>7</td>\n",
       "      <td>5</td>\n",
       "      <td>0</td>\n",
       "      <td>0</td>\n",
       "      <td>2.120999</td>\n",
       "      <td>0.453172</td>\n",
       "      <td>0.939275</td>\n",
       "      <td>9.067885</td>\n",
       "      <td>0.772216</td>\n",
       "      <td>3.562188</td>\n",
       "      <td>0.733101</td>\n",
       "      <td>0.767569</td>\n",
       "      <td>0.391957</td>\n",
       "      <td>4</td>\n",
       "      <td>0</td>\n",
       "      <td>1</td>\n",
       "      <td>1572990</td>\n",
       "      <td>122</td>\n",
       "      <td>0</td>\n",
       "      <td>14313.7</td>\n",
       "      <td>354.0</td>\n",
       "      <td>420.7</td>\n",
       "      <td>28.8082</td>\n",
       "      <td>41.7114</td>\n",
       "      <td>46308.5</td>\n",
       "      <td>1596.17</td>\n",
       "      <td>1458.84</td>\n",
       "      <td>204.84</td>\n",
       "      <td>4.1</td>\n",
       "      <td>11.84</td>\n",
       "      <td>42688.6</td>\n",
       "      <td>44898.7</td>\n",
       "      <td>6643.626</td>\n",
       "      <td>0.014</td>\n",
       "      <td>0.708</td>\n",
       "      <td>5700000.0</td>\n",
       "    </tr>\n",
       "    <tr>\n",
       "      <th>3</th>\n",
       "      <td>4</td>\n",
       "      <td>2011-09-01</td>\n",
       "      <td>89.0</td>\n",
       "      <td>50.0</td>\n",
       "      <td>9.0</td>\n",
       "      <td>NaN</td>\n",
       "      <td>NaN</td>\n",
       "      <td>NaN</td>\n",
       "      <td>NaN</td>\n",
       "      <td>NaN</td>\n",
       "      <td>NaN</td>\n",
       "      <td>Investment</td>\n",
       "      <td>Mitino</td>\n",
       "      <td>0.069753</td>\n",
       "      <td>10</td>\n",
       "      <td>17</td>\n",
       "      <td>0</td>\n",
       "      <td>0</td>\n",
       "      <td>1.489049</td>\n",
       "      <td>0.106125</td>\n",
       "      <td>0.451173</td>\n",
       "      <td>19.487005</td>\n",
       "      <td>6.348716</td>\n",
       "      <td>0.583025</td>\n",
       "      <td>0.623484</td>\n",
       "      <td>7.385521</td>\n",
       "      <td>0.892674</td>\n",
       "      <td>5</td>\n",
       "      <td>0</td>\n",
       "      <td>1</td>\n",
       "      <td>942180</td>\n",
       "      <td>61</td>\n",
       "      <td>1</td>\n",
       "      <td>14313.7</td>\n",
       "      <td>353.2</td>\n",
       "      <td>434.4</td>\n",
       "      <td>28.9655</td>\n",
       "      <td>41.4014</td>\n",
       "      <td>46308.5</td>\n",
       "      <td>1703.86</td>\n",
       "      <td>1551.58</td>\n",
       "      <td>205.42</td>\n",
       "      <td>4.0</td>\n",
       "      <td>11.92</td>\n",
       "      <td>40311.3</td>\n",
       "      <td>44898.7</td>\n",
       "      <td>6643.626</td>\n",
       "      <td>0.014</td>\n",
       "      <td>0.708</td>\n",
       "      <td>13100000.0</td>\n",
       "    </tr>\n",
       "    <tr>\n",
       "      <th>4</th>\n",
       "      <td>5</td>\n",
       "      <td>2011-09-05</td>\n",
       "      <td>77.0</td>\n",
       "      <td>77.0</td>\n",
       "      <td>4.0</td>\n",
       "      <td>NaN</td>\n",
       "      <td>NaN</td>\n",
       "      <td>NaN</td>\n",
       "      <td>NaN</td>\n",
       "      <td>NaN</td>\n",
       "      <td>NaN</td>\n",
       "      <td>Investment</td>\n",
       "      <td>Basmannoe</td>\n",
       "      <td>0.037316</td>\n",
       "      <td>9</td>\n",
       "      <td>25</td>\n",
       "      <td>0</td>\n",
       "      <td>0</td>\n",
       "      <td>1.257186</td>\n",
       "      <td>0.236214</td>\n",
       "      <td>0.392871</td>\n",
       "      <td>2.578671</td>\n",
       "      <td>1.638318</td>\n",
       "      <td>2.609420</td>\n",
       "      <td>0.220288</td>\n",
       "      <td>3.610754</td>\n",
       "      <td>0.810801</td>\n",
       "      <td>70</td>\n",
       "      <td>1</td>\n",
       "      <td>50</td>\n",
       "      <td>3503058</td>\n",
       "      <td>2283</td>\n",
       "      <td>17</td>\n",
       "      <td>14313.7</td>\n",
       "      <td>353.2</td>\n",
       "      <td>434.4</td>\n",
       "      <td>29.4625</td>\n",
       "      <td>41.5902</td>\n",
       "      <td>46308.5</td>\n",
       "      <td>1617.01</td>\n",
       "      <td>1492.83</td>\n",
       "      <td>198.24</td>\n",
       "      <td>4.0</td>\n",
       "      <td>11.92</td>\n",
       "      <td>40311.3</td>\n",
       "      <td>44898.7</td>\n",
       "      <td>6643.626</td>\n",
       "      <td>0.014</td>\n",
       "      <td>0.708</td>\n",
       "      <td>16331452.0</td>\n",
       "    </tr>\n",
       "  </tbody>\n",
       "</table>\n",
       "</div>"
      ],
      "text/plain": [
       "   id  timestamp  full_sq  life_sq  floor  max_floor  material  build_year  \\\n",
       "0   1 2011-08-20     43.0     27.0    4.0        NaN       NaN         NaN   \n",
       "1   2 2011-08-23     34.0     19.0    3.0        NaN       NaN         NaN   \n",
       "2   3 2011-08-27     43.0     29.0    2.0        NaN       NaN         NaN   \n",
       "3   4 2011-09-01     89.0     50.0    9.0        NaN       NaN         NaN   \n",
       "4   5 2011-09-05     77.0     77.0    4.0        NaN       NaN         NaN   \n",
       "\n",
       "   num_room  kitch_sq  state product_type           sub_area  indust_part  \\\n",
       "0       NaN       NaN    NaN   Investment           Bibirevo     0.000070   \n",
       "1       NaN       NaN    NaN   Investment  Nagatinskij Zaton     0.049637   \n",
       "2       NaN       NaN    NaN   Investment     Tekstil'shhiki     0.118537   \n",
       "3       NaN       NaN    NaN   Investment             Mitino     0.069753   \n",
       "4       NaN       NaN    NaN   Investment          Basmannoe     0.037316   \n",
       "\n",
       "   school_education_centers_raion  sport_objects_raion  \\\n",
       "0                               5                    7   \n",
       "1                               8                    6   \n",
       "2                               7                    5   \n",
       "3                              10                   17   \n",
       "4                               9                   25   \n",
       "\n",
       "   culture_objects_top_25_raion  oil_chemistry_raion  metro_min_avto  \\\n",
       "0                             0                    0        2.590241   \n",
       "1                             1                    0        0.936700   \n",
       "2                             0                    0        2.120999   \n",
       "3                             0                    0        1.489049   \n",
       "4                             0                    0        1.257186   \n",
       "\n",
       "   green_zone_km  industrial_km  kremlin_km  radiation_km     ts_km  \\\n",
       "0       0.600973       1.080934   15.156211      1.210027  4.308127   \n",
       "1       0.065321       0.966479    8.698054      2.724295  0.725560   \n",
       "2       0.453172       0.939275    9.067885      0.772216  3.562188   \n",
       "3       0.106125       0.451173   19.487005      6.348716  0.583025   \n",
       "4       0.236214       0.392871    2.578671      1.638318  2.609420   \n",
       "\n",
       "   fitness_km  stadium_km  additional_education_km  cafe_count_1500_price_500  \\\n",
       "0    0.485841    8.148591                 0.947962                         14   \n",
       "1    0.668364    6.127073                 1.072315                          6   \n",
       "2    0.733101    0.767569                 0.391957                          4   \n",
       "3    0.623484    7.385521                 0.892674                          5   \n",
       "4    0.220288    3.610754                 0.810801                         70   \n",
       "\n",
       "   cafe_count_1500_price_high  cafe_count_2000_price_2500  trc_sqm_5000  \\\n",
       "0                           0                           2       4036616   \n",
       "1                           0                           2       2034942   \n",
       "2                           0                           1       1572990   \n",
       "3                           0                           1        942180   \n",
       "4                           1                          50       3503058   \n",
       "\n",
       "   cafe_count_5000  cafe_count_5000_price_high  gdp_quart    cpi    ppi  \\\n",
       "0              152                           0    14313.7  354.0  420.7   \n",
       "1              177                           0    14313.7  354.0  420.7   \n",
       "2              122                           0    14313.7  354.0  420.7   \n",
       "3               61                           1    14313.7  353.2  434.4   \n",
       "4             2283                          17    14313.7  353.2  434.4   \n",
       "\n",
       "    usdrub   eurrub  gdp_annual      rts    micex  micex_cbi_tr  \\\n",
       "0  29.0048  41.7681     46308.5  1575.33  1438.74        204.78   \n",
       "1  28.9525  41.7537     46308.5  1578.91  1444.11        204.92   \n",
       "2  28.8082  41.7114     46308.5  1596.17  1458.84        204.84   \n",
       "3  28.9655  41.4014     46308.5  1703.86  1551.58        205.42   \n",
       "4  29.4625  41.5902     46308.5  1617.01  1492.83        198.24   \n",
       "\n",
       "   deposits_rate  mortgage_rate  income_per_cap   salary  labor_force  \\\n",
       "0            4.1          11.84         42688.6  44898.7     6643.626   \n",
       "1            4.1          11.84         42688.6  44898.7     6643.626   \n",
       "2            4.1          11.84         42688.6  44898.7     6643.626   \n",
       "3            4.0          11.92         40311.3  44898.7     6643.626   \n",
       "4            4.0          11.92         40311.3  44898.7     6643.626   \n",
       "\n",
       "   unemployment  employment   price_doc  \n",
       "0         0.014       0.708   5850000.0  \n",
       "1         0.014       0.708   6000000.0  \n",
       "2         0.014       0.708   5700000.0  \n",
       "3         0.014       0.708  13100000.0  \n",
       "4         0.014       0.708  16331452.0  "
      ]
     },
     "execution_count": 243,
     "metadata": {},
     "output_type": "execute_result"
    }
   ],
   "source": [
    "# change oil_chemistry_raion to 1 or 0 \n",
    "df_important['oil_chem_raion'] = df_important['oil_chemistry_raion'].map(dict(yes=1, no=0))\n",
    "\n",
    "df_important['oil_chemistry_raion'] = df_important['oil_chem_raion']\n",
    "df_important.drop('oil_chem_raion', axis = 1, inplace=True)\n",
    "\n",
    "df_important.head()"
   ]
  },
  {
   "cell_type": "code",
   "execution_count": 244,
   "metadata": {
    "collapsed": false
   },
   "outputs": [
    {
     "data": {
      "text/plain": [
       "id                                         int64\n",
       "timestamp                         datetime64[ns]\n",
       "full_sq                                  float64\n",
       "life_sq                                  float64\n",
       "floor                                    float64\n",
       "max_floor                                float64\n",
       "material                                 float64\n",
       "build_year                               float64\n",
       "num_room                                 float64\n",
       "kitch_sq                                 float64\n",
       "state                                    float64\n",
       "product_type                              object\n",
       "sub_area                                  object\n",
       "indust_part                              float64\n",
       "school_education_centers_raion             int64\n",
       "sport_objects_raion                        int64\n",
       "culture_objects_top_25_raion               int64\n",
       "oil_chemistry_raion                        int64\n",
       "metro_min_avto                           float64\n",
       "green_zone_km                            float64\n",
       "industrial_km                            float64\n",
       "kremlin_km                               float64\n",
       "radiation_km                             float64\n",
       "ts_km                                    float64\n",
       "fitness_km                               float64\n",
       "stadium_km                               float64\n",
       "additional_education_km                  float64\n",
       "cafe_count_1500_price_500                  int64\n",
       "cafe_count_1500_price_high                 int64\n",
       "cafe_count_2000_price_2500                 int64\n",
       "trc_sqm_5000                               int64\n",
       "cafe_count_5000                            int64\n",
       "cafe_count_5000_price_high                 int64\n",
       "gdp_quart                                float64\n",
       "cpi                                      float64\n",
       "ppi                                      float64\n",
       "usdrub                                   float64\n",
       "eurrub                                   float64\n",
       "gdp_annual                               float64\n",
       "rts                                      float64\n",
       "micex                                    float64\n",
       "micex_cbi_tr                             float64\n",
       "deposits_rate                            float64\n",
       "mortgage_rate                            float64\n",
       "income_per_cap                           float64\n",
       "salary                                   float64\n",
       "labor_force                              float64\n",
       "unemployment                             float64\n",
       "employment                               float64\n",
       "price_doc                                float64\n",
       "dtype: object"
      ]
     },
     "execution_count": 244,
     "metadata": {},
     "output_type": "execute_result"
    }
   ],
   "source": [
    "df_important.dtypes"
   ]
  },
  {
   "cell_type": "markdown",
   "metadata": {},
   "source": [
    "## Note: all columns are integers or floats, except for the sub_area and the product_type\n",
    "#### these are the raions and the investment/owner property"
   ]
  },
  {
   "cell_type": "markdown",
   "metadata": {},
   "source": [
    "## Normalize Price\n",
    "\n",
    "And set up x and y"
   ]
  },
  {
   "cell_type": "code",
   "execution_count": 245,
   "metadata": {
    "collapsed": false
   },
   "outputs": [],
   "source": [
    "df_important['price_doc_log'] = np.log1p(df_important['price_doc'])\n",
    "df_important['price_doc_log10'] = np.log10(df_important['price_doc'])\n",
    "# df_important_nona = df_important.dropna()"
   ]
  },
  {
   "cell_type": "code",
   "execution_count": 246,
   "metadata": {
    "collapsed": false
   },
   "outputs": [],
   "source": [
    "x = train_nona.drop('price_doc', axis = 1)\n",
    "x = x.drop('price_doc_log', axis = 1)\n",
    "x = x.drop('price_doc_log10', axis = 1)\n",
    "x = x.select_dtypes(include=['float64'])\n"
   ]
  },
  {
   "cell_type": "code",
   "execution_count": 247,
   "metadata": {
    "collapsed": false
   },
   "outputs": [],
   "source": [
    "y = train_nona[['price_doc_log']]"
   ]
  },
  {
   "cell_type": "markdown",
   "metadata": {},
   "source": [
    "## Fit the Regression"
   ]
  },
  {
   "cell_type": "code",
   "execution_count": 248,
   "metadata": {
    "collapsed": false,
    "scrolled": true
   },
   "outputs": [
    {
     "name": "stdout",
     "output_type": "stream",
     "text": [
      "R^2 is 0.31320360088\n"
     ]
    }
   ],
   "source": [
    "ols.fit(x, y)\n",
    "# print('Coeffs are ' + str(ols.coef_))\n",
    "print('R^2 is ' + str(ols.score(x,y)))    # only 31% (so bad)"
   ]
  },
  {
   "cell_type": "markdown",
   "metadata": {},
   "source": [
    "## Create:\n",
    "+ Green\n",
    "+ Prom\n",
    "+ Office\n",
    "+ Trc\n",
    "+ Chruch\n",
    "+ Sport\n",
    "+ Leisure\n",
    "+ Market\n",
    "+ Cafe_price\n",
    "+ Cafe_count"
   ]
  },
  {
   "cell_type": "code",
   "execution_count": 249,
   "metadata": {
    "collapsed": false
   },
   "outputs": [],
   "source": [
    "green = ['green_part_500', 'green_part_1000','green_part_1500',\n",
    "         'green_part_2000','green_part_3000','green_part_5000']\n",
    "\n",
    "prom = ['prom_part_500','prom_part_1000','prom_part_1500',\n",
    "        'prom_part_2000','prom_part_3000','prom_part_5000']\n",
    "        \n",
    "office = ['office_count_500','office_sqm_500','office_count_1000',\n",
    "          'office_sqm_1000','office_count_1500', 'office_sqm_1500',\n",
    "          'office_count_2000','office_sqm_2000','office_count_3000',\n",
    "          'office_sqm_3000','office_count_5000','office_sqm_5000']\n",
    "          \n",
    "# shopping malls\n",
    "trc = ['trc_count_1000', 'trc_count_1500', 'trc_count_2000', 'trc_count_3000', \n",
    "       'trc_count_500', 'trc_count_5000', 'trc_sqm_1000', 'trc_sqm_1500',\n",
    "       'trc_sqm_2000', 'trc_sqm_3000', 'trc_sqm_500', 'trc_sqm_5000', 'trc_count_1000', 'trc_sqm_1000']\n",
    "       \n",
    "       \n",
    "church = ['big_church_count_500', 'church_count_500', 'mosque_count_500',\n",
    "         'big_church_count_1000', 'church_count_1000', 'mosque_count_1000',\n",
    "         'big_church_count_1500', 'church_count_1500', 'mosque_count_1500',\n",
    "         'big_church_count_3000', 'church_count_3000', 'mosque_count_3000',\n",
    "         'big_church_count_5000', 'church_count_5000', 'mosque_count_5000',\n",
    "         'big_church_count_2000', 'church_count_2000', 'mosque_count_2000']\n",
    "\n",
    "        \n",
    "sport = ['sport_count_500','sport_count_1000','sport_count_2000', \n",
    "         'sport_count_5000','sport_count_1500','sport_count_3000']\n",
    "\n",
    "leisure = ['leisure_count_500','leisure_count_3000','leisure_count_1000',\n",
    "           'leisure_count_1500','leisure_count_2000','leisure_count_5000']\n",
    "\n",
    "market = ['market_count_500','market_count_5000', 'market_count_2000',\n",
    "          'market_count_1000','market_count_1500','market_count_3000']    \n",
    "\n",
    "\n",
    "cafe_price = ['cafe_sum_500_min_price_avg', 'cafe_sum_500_max_price_avg',\n",
    "              'cafe_avg_price_500', 'cafe_sum_1000_min_price_avg','cafe_sum_1000_max_price_avg', \n",
    "              'cafe_avg_price_1000', 'cafe_sum_1500_min_price_avg', 'cafe_sum_1500_max_price_avg', \n",
    "              'cafe_avg_price_1500', 'cafe_sum_2000_min_price_avg', 'cafe_sum_2000_max_price_avg', \n",
    "              'cafe_avg_price_2000', 'cafe_sum_3000_min_price_avg', 'cafe_sum_3000_max_price_avg',\n",
    "              'cafe_avg_price_3000',  'cafe_sum_5000_min_price_avg', 'cafe_sum_5000_max_price_avg',\n",
    "              'cafe_avg_price_5000','cafe_count_5000_price_high']      \n",
    "\n",
    "    \n",
    "cafe_count = ['cafe_count_500', 'cafe_count_500_na_price',\n",
    "       'cafe_count_500_price_500', 'cafe_count_500_price_1000',\n",
    "       'cafe_count_500_price_1500', 'cafe_count_500_price_2500',\n",
    "       'cafe_count_500_price_4000', 'cafe_count_500_price_high', 'cafe_count_1000', \n",
    "       'cafe_count_1000_na_price', 'cafe_count_1000_price_500',\n",
    "       'cafe_count_1000_price_1000', 'cafe_count_1000_price_1500',\n",
    "       'cafe_count_1000_price_2500', 'cafe_count_1000_price_4000',\n",
    "       'cafe_count_1000_price_high','cafe_count_1500',\n",
    "       'cafe_count_1500_na_price',\n",
    "       'cafe_count_1500_price_500', 'cafe_count_1500_price_1000',\n",
    "       'cafe_count_1500_price_1500', 'cafe_count_1500_price_2500',\n",
    "       'cafe_count_1500_price_4000', 'cafe_count_1500_price_high', 'cafe_count_2000', \n",
    "       'cafe_count_2000_na_price', 'cafe_count_2000_price_500',\n",
    "       'cafe_count_2000_price_1000', 'cafe_count_2000_price_1500',\n",
    "       'cafe_count_2000_price_2500', 'cafe_count_2000_price_4000',\n",
    "       'cafe_count_2000_price_high', 'cafe_count_3000', 'cafe_count_3000_na_price',\n",
    "       'cafe_count_3000_price_500', 'cafe_count_3000_price_1000',\n",
    "       'cafe_count_3000_price_1500', 'cafe_count_3000_price_2500',\n",
    "       'cafe_count_3000_price_4000', 'cafe_count_3000_price_high','cafe_count_5000',\n",
    "       'cafe_count_5000_na_price', 'cafe_count_5000_price_500',\n",
    "       'cafe_count_5000_price_1000', 'cafe_count_5000_price_1500',\n",
    "       'cafe_count_5000_price_2500', 'cafe_count_5000_price_4000',\n",
    "       'cafe_count_5000_price_high'] \n",
    "        \n",
    "price = ['price_doc', 'price_doc_log', 'price_doc_log10'] "
   ]
  },
  {
   "cell_type": "markdown",
   "metadata": {},
   "source": [
    "#### Green, Prom, Office, Trc, Chruch, Sport, Leisure, Market, Cafe_price,  Cafe_count"
   ]
  },
  {
   "cell_type": "code",
   "execution_count": 250,
   "metadata": {
    "collapsed": false,
    "scrolled": true
   },
   "outputs": [
    {
     "name": "stdout",
     "output_type": "stream",
     "text": [
      "Coeffs are [[  2.02856761e+09  -2.02856761e+09  -2.02856761e+09  -2.02856761e+09\n",
      "   -2.02856761e+09  -2.02856761e+09  -2.02856761e+09  -2.02856761e+09\n",
      "    2.54034996e-04   1.98282301e-02  -9.79506969e-03   3.58009338e-03\n",
      "    7.19499588e-03   9.77575779e-04  -3.90267372e-02   1.75704360e-02\n",
      "    5.43427467e-03  -3.03390622e-03   1.81531906e-03  -6.75511360e-03\n",
      "   -8.30593705e-03   9.32234526e-03  -2.96115875e-02   4.20833007e-02\n",
      "   -4.49216366e-03  -2.69681215e-03   4.77218628e-03   1.10850334e-02\n",
      "   -8.67843628e-04  -7.24691153e-03   2.33708620e-02  -3.29381302e-02\n",
      "    1.89957023e-03   9.49290395e-03  -8.37936997e-03  -2.34782696e-04\n",
      "    1.93119049e-05   2.13789940e-03  -1.17961168e-02   1.11229569e-02\n",
      "    5.28049469e-03   1.23032928e-03  -1.25064254e-02   2.40170956e-03\n",
      "   -7.18307495e-03  -3.08614969e-03  -1.75397694e-02   4.24386859e-02]]\n",
      "R^2 is 0.0892018322759\n"
     ]
    }
   ],
   "source": [
    "x_cafe = train[cafe_count]\n",
    "x_cafe = x_cafe.dropna()\n",
    "y = train[['price_doc_log']]\n",
    "\n",
    "ols.fit(x_cafe, y)\n",
    "\n",
    "print('Coeffs are ' + str(ols.coef_))\n",
    "print('R^2 is ' + str(ols.score(x_cafe,y)))   # 0.08 before but now 1.0"
   ]
  },
  {
   "cell_type": "code",
   "execution_count": 251,
   "metadata": {
    "collapsed": false
   },
   "outputs": [
    {
     "name": "stdout",
     "output_type": "stream",
     "text": [
      "Coeffs are [[ 0.022364   -0.05036055 -0.14571221  0.03528865 -0.01173266  0.15301492\n",
      "   0.00110367  0.00212856  0.04093205  0.00027564 -0.00134871 -0.02354261\n",
      "  -0.00368676  0.00646323  0.05961167 -0.01251535  0.00133001  0.04313117]]\n",
      "R^2 is 0.0559264588909\n"
     ]
    }
   ],
   "source": [
    "x_church = train[church]\n",
    "x_church = x_church.dropna()\n",
    "y = train[['price_doc_log']]\n",
    "\n",
    "ols.fit(x_church, y)\n",
    "\n",
    "print('Coeffs are ' + str(ols.coef_))\n",
    "print('R^2 is ' + str(ols.score(x_church,y)))  # 0.05"
   ]
  },
  {
   "cell_type": "code",
   "execution_count": 252,
   "metadata": {
    "collapsed": false
   },
   "outputs": [
    {
     "name": "stdout",
     "output_type": "stream",
     "text": [
      "Coeffs are [[ 0.022364   -0.05036055 -0.14571221  0.03528865 -0.01173266  0.15301492\n",
      "   0.00110367  0.00212856  0.04093205  0.00027564 -0.00134871 -0.02354261\n",
      "  -0.00368676  0.00646323  0.05961167 -0.01251535  0.00133001  0.04313117]]\n",
      "R^2 is 0.0559264588909\n"
     ]
    }
   ],
   "source": [
    "x_green = train[church]\n",
    "x_green = x_green.dropna()\n",
    "y = train[['price_doc_log']]\n",
    "\n",
    "ols.fit(x_green, y)\n",
    "\n",
    "print('Coeffs are ' + str(ols.coef_))\n",
    "print('R^2 is ' + str(ols.score(x_green,y)))  # 0.05"
   ]
  },
  {
   "cell_type": "code",
   "execution_count": 253,
   "metadata": {
    "collapsed": false,
    "scrolled": true
   },
   "outputs": [
    {
     "ename": "ValueError",
     "evalue": "Found input variables with inconsistent numbers of samples: [17190, 30471]",
     "output_type": "error",
     "traceback": [
      "\u001b[0;31m---------------------------------------------------------------------------\u001b[0m",
      "\u001b[0;31mValueError\u001b[0m                                Traceback (most recent call last)",
      "\u001b[0;32m<ipython-input-253-b971fc55629f>\u001b[0m in \u001b[0;36m<module>\u001b[0;34m()\u001b[0m\n\u001b[1;32m      3\u001b[0m \u001b[0my\u001b[0m \u001b[1;33m=\u001b[0m \u001b[0mtrain\u001b[0m\u001b[1;33m[\u001b[0m\u001b[1;33m[\u001b[0m\u001b[1;34m'price_doc_log'\u001b[0m\u001b[1;33m]\u001b[0m\u001b[1;33m]\u001b[0m\u001b[1;33m\u001b[0m\u001b[0m\n\u001b[1;32m      4\u001b[0m \u001b[1;33m\u001b[0m\u001b[0m\n\u001b[0;32m----> 5\u001b[0;31m \u001b[0mols\u001b[0m\u001b[1;33m.\u001b[0m\u001b[0mfit\u001b[0m\u001b[1;33m(\u001b[0m\u001b[0mx_cafe_price\u001b[0m\u001b[1;33m,\u001b[0m \u001b[0my\u001b[0m\u001b[1;33m)\u001b[0m\u001b[1;33m\u001b[0m\u001b[0m\n\u001b[0m\u001b[1;32m      6\u001b[0m \u001b[1;33m\u001b[0m\u001b[0m\n\u001b[1;32m      7\u001b[0m \u001b[1;32mprint\u001b[0m\u001b[1;33m(\u001b[0m\u001b[1;34m'Coeffs are '\u001b[0m \u001b[1;33m+\u001b[0m \u001b[0mstr\u001b[0m\u001b[1;33m(\u001b[0m\u001b[0mols\u001b[0m\u001b[1;33m.\u001b[0m\u001b[0mcoef_\u001b[0m\u001b[1;33m)\u001b[0m\u001b[1;33m)\u001b[0m\u001b[1;33m\u001b[0m\u001b[0m\n",
      "\u001b[0;32mC:\\Users\\skick\\Anaconda2\\lib\\site-packages\\sklearn\\linear_model\\base.pyc\u001b[0m in \u001b[0;36mfit\u001b[0;34m(self, X, y, sample_weight)\u001b[0m\n\u001b[1;32m    510\u001b[0m         \u001b[0mn_jobs_\u001b[0m \u001b[1;33m=\u001b[0m \u001b[0mself\u001b[0m\u001b[1;33m.\u001b[0m\u001b[0mn_jobs\u001b[0m\u001b[1;33m\u001b[0m\u001b[0m\n\u001b[1;32m    511\u001b[0m         X, y = check_X_y(X, y, accept_sparse=['csr', 'csc', 'coo'],\n\u001b[0;32m--> 512\u001b[0;31m                          y_numeric=True, multi_output=True)\n\u001b[0m\u001b[1;32m    513\u001b[0m \u001b[1;33m\u001b[0m\u001b[0m\n\u001b[1;32m    514\u001b[0m         \u001b[1;32mif\u001b[0m \u001b[0msample_weight\u001b[0m \u001b[1;32mis\u001b[0m \u001b[1;32mnot\u001b[0m \u001b[0mNone\u001b[0m \u001b[1;32mand\u001b[0m \u001b[0mnp\u001b[0m\u001b[1;33m.\u001b[0m\u001b[0matleast_1d\u001b[0m\u001b[1;33m(\u001b[0m\u001b[0msample_weight\u001b[0m\u001b[1;33m)\u001b[0m\u001b[1;33m.\u001b[0m\u001b[0mndim\u001b[0m \u001b[1;33m>\u001b[0m \u001b[1;36m1\u001b[0m\u001b[1;33m:\u001b[0m\u001b[1;33m\u001b[0m\u001b[0m\n",
      "\u001b[0;32mC:\\Users\\skick\\Anaconda2\\lib\\site-packages\\sklearn\\utils\\validation.pyc\u001b[0m in \u001b[0;36mcheck_X_y\u001b[0;34m(X, y, accept_sparse, dtype, order, copy, force_all_finite, ensure_2d, allow_nd, multi_output, ensure_min_samples, ensure_min_features, y_numeric, warn_on_dtype, estimator)\u001b[0m\n\u001b[1;32m    529\u001b[0m         \u001b[0my\u001b[0m \u001b[1;33m=\u001b[0m \u001b[0my\u001b[0m\u001b[1;33m.\u001b[0m\u001b[0mastype\u001b[0m\u001b[1;33m(\u001b[0m\u001b[0mnp\u001b[0m\u001b[1;33m.\u001b[0m\u001b[0mfloat64\u001b[0m\u001b[1;33m)\u001b[0m\u001b[1;33m\u001b[0m\u001b[0m\n\u001b[1;32m    530\u001b[0m \u001b[1;33m\u001b[0m\u001b[0m\n\u001b[0;32m--> 531\u001b[0;31m     \u001b[0mcheck_consistent_length\u001b[0m\u001b[1;33m(\u001b[0m\u001b[0mX\u001b[0m\u001b[1;33m,\u001b[0m \u001b[0my\u001b[0m\u001b[1;33m)\u001b[0m\u001b[1;33m\u001b[0m\u001b[0m\n\u001b[0m\u001b[1;32m    532\u001b[0m \u001b[1;33m\u001b[0m\u001b[0m\n\u001b[1;32m    533\u001b[0m     \u001b[1;32mreturn\u001b[0m \u001b[0mX\u001b[0m\u001b[1;33m,\u001b[0m \u001b[0my\u001b[0m\u001b[1;33m\u001b[0m\u001b[0m\n",
      "\u001b[0;32mC:\\Users\\skick\\Anaconda2\\lib\\site-packages\\sklearn\\utils\\validation.pyc\u001b[0m in \u001b[0;36mcheck_consistent_length\u001b[0;34m(*arrays)\u001b[0m\n\u001b[1;32m    179\u001b[0m     \u001b[1;32mif\u001b[0m \u001b[0mlen\u001b[0m\u001b[1;33m(\u001b[0m\u001b[0muniques\u001b[0m\u001b[1;33m)\u001b[0m \u001b[1;33m>\u001b[0m \u001b[1;36m1\u001b[0m\u001b[1;33m:\u001b[0m\u001b[1;33m\u001b[0m\u001b[0m\n\u001b[1;32m    180\u001b[0m         raise ValueError(\"Found input variables with inconsistent numbers of\"\n\u001b[0;32m--> 181\u001b[0;31m                          \" samples: %r\" % [int(l) for l in lengths])\n\u001b[0m\u001b[1;32m    182\u001b[0m \u001b[1;33m\u001b[0m\u001b[0m\n\u001b[1;32m    183\u001b[0m \u001b[1;33m\u001b[0m\u001b[0m\n",
      "\u001b[0;31mValueError\u001b[0m: Found input variables with inconsistent numbers of samples: [17190, 30471]"
     ]
    }
   ],
   "source": [
    "x_cafe_price = train[cafe_price]\n",
    "x_cafe_price = x_cafe_price.dropna()\n",
    "y = train[['price_doc_log']]\n",
    "\n",
    "ols.fit(x_cafe_price, y)\n",
    "\n",
    "print('Coeffs are ' + str(ols.coef_))\n",
    "print('R^2 is ' + str(ols.score(x_cafe_price,y)))"
   ]
  },
  {
   "cell_type": "code",
   "execution_count": null,
   "metadata": {
    "collapsed": false
   },
   "outputs": [],
   "source": [
    "x_office = train[office]\n",
    "x_office = x_office.dropna()\n",
    "y = train[['price_doc_log']]\n",
    "\n",
    "ols.fit(x_office, y)\n",
    "\n",
    "print('Coeffs are ' + str(ols.coef_))\n",
    "print('R^2 is ' + str(ols.score(x_office,y))) # 0.06"
   ]
  },
  {
   "cell_type": "code",
   "execution_count": null,
   "metadata": {
    "collapsed": false
   },
   "outputs": [],
   "source": [
    "x_sport = train[church]\n",
    "x_sport = x_sport.dropna()\n",
    "y = train[['price_doc_log']]\n",
    "\n",
    "ols.fit(x_sport, y)\n",
    "\n",
    "print('Coeffs are ' + str(ols.coef_))\n",
    "print('R^2 is ' + str(ols.score(x_sport,y))) # 0.05"
   ]
  },
  {
   "cell_type": "code",
   "execution_count": null,
   "metadata": {
    "collapsed": false
   },
   "outputs": [],
   "source": [
    "x_leisure = train[church]\n",
    "x_leisure = x_leisure.dropna()\n",
    "y = train[['price_doc_log']]\n",
    "\n",
    "ols.fit(x_leisure, y)\n",
    "\n",
    "print('Coeffs are ' + str(ols.coef_))\n",
    "print('R^2 is ' + str(ols.score(x_leisure,y)))   # 0.05"
   ]
  },
  {
   "cell_type": "code",
   "execution_count": null,
   "metadata": {
    "collapsed": false
   },
   "outputs": [],
   "source": [
    "x_market = train[church]\n",
    "x_market = x_market.dropna()\n",
    "y = train[['price_doc_log']]\n",
    "\n",
    "ols.fit(x_market, y)\n",
    "\n",
    "print('Coeffs are ' + str(ols.coef_))\n",
    "print('R^2 is ' + str(ols.score(x_market,y))) # 0.05"
   ]
  },
  {
   "cell_type": "markdown",
   "metadata": {},
   "source": [
    "# More"
   ]
  },
  {
   "cell_type": "code",
   "execution_count": null,
   "metadata": {
    "collapsed": true
   },
   "outputs": [],
   "source": [
    "important_features = ['id', 'full_sq', 'life_sq', 'floor',\n",
    "                      'max_floor', 'material', 'build_year',\n",
    "                      'num_room', 'kitch_sq', 'state', 'area_m',\n",
    "                      'price_doc', 'gdp_quart', 'deposits_value', \n",
    "                      'deposits_growth', 'deposits_rate', 'mortgage_value',\n",
    "                      'mortgage_growth', 'mortgage_rate', 'salary',\n",
    "                      'unemployment', 'employment',  'oil_urals',\n",
    "                      'stadium_km', 'floor', 'max_floor', 'metro_min_avto',\n",
    "                      'build_year', 'cafe_count_5000_price_high', 'num_room',\n",
    "                      'radiation_km',\n",
    "                      'green_zone_km', 'industrial_km', 'indust_part',\n",
    "                      'cpi', 'cafe_count_5000', 'cafe_count_1500_price_high',\n",
    "                      'cafe_count_5000_price_500', 'cafe_count_2000_price_2500',\n",
    "                      'kitch_sq', 'max_floor', 'trc_sqm_5000', \n",
    "                      'office_sqm_1000', 'trc_sqm_1500', 'office_sqm_500', 'cpi', \n",
    "                      'office_sqm_5000', 'ID_railroad_terminal', 'office_sqm_1500', \n",
    "                      'ekder_male', 'raion_popul', 'price_doc']\n",
    "\n",
    "important_features = list(set(important_features))\n",
    "# 'month', 'day',\n",
    "#                       'year', 'month_year', 'week_year', 'oil_chemistry_raion_yes',"
   ]
  },
  {
   "cell_type": "code",
   "execution_count": null,
   "metadata": {
    "collapsed": false
   },
   "outputs": [],
   "source": [
    "result = pd.concat(, axis=1, join_axes=[df1.index])\n",
    "\n",
    "x_imp = result[important_features]\n",
    "x_imp = x_imp.dropna()\n",
    "y = result[['price_doc_log']]\n",
    "\n",
    "ols.fit(x_imp, y)\n",
    "\n",
    "print('Coeffs are ' + str(ols.coef_))\n",
    "print('R^2 is ' + str(ols.score(x_imp,y))) # 0.05"
   ]
  },
  {
   "cell_type": "code",
   "execution_count": null,
   "metadata": {
    "collapsed": true
   },
   "outputs": [],
   "source": []
  },
  {
   "cell_type": "code",
   "execution_count": null,
   "metadata": {
    "collapsed": true
   },
   "outputs": [],
   "source": []
  },
  {
   "cell_type": "code",
   "execution_count": null,
   "metadata": {
    "collapsed": true
   },
   "outputs": [],
   "source": []
  },
  {
   "cell_type": "code",
   "execution_count": null,
   "metadata": {
    "collapsed": true
   },
   "outputs": [],
   "source": []
  },
  {
   "cell_type": "markdown",
   "metadata": {},
   "source": [
    "possible features to engineer/keep:\n",
    "\n",
    "gdp\n",
    "\n",
    "loans\n",
    "\n",
    "employment\n",
    "\n",
    "cpi\n",
    "\n",
    "\n",
    "\n",
    "building age\n",
    "\n",
    "market sentiment/months behind/economy delay\n",
    "\n",
    "less than five km park yes/no\n",
    "\n",
    "crime?\n",
    "\n",
    "traffic?\n",
    "\n",
    "distances within raion\n",
    "\n",
    "area squared\n",
    "\n",
    "other variables squared"
   ]
  }
 ],
 "metadata": {
  "kernelspec": {
   "display_name": "Python 2",
   "language": "python",
   "name": "python2"
  },
  "language_info": {
   "codemirror_mode": {
    "name": "ipython",
    "version": 2
   },
   "file_extension": ".py",
   "mimetype": "text/x-python",
   "name": "python",
   "nbconvert_exporter": "python",
   "pygments_lexer": "ipython2",
   "version": "2.7.13"
  }
 },
 "nbformat": 4,
 "nbformat_minor": 2
}
