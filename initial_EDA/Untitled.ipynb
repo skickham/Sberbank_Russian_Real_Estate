{
 "cells": [
  {
   "cell_type": "code",
   "execution_count": 1,
   "metadata": {
    "collapsed": true
   },
   "outputs": [],
   "source": [
    "import pandas as pd"
   ]
  },
  {
   "cell_type": "code",
   "execution_count": 8,
   "metadata": {
    "collapsed": false
   },
   "outputs": [],
   "source": [
    "state = pd.read_csv('./df_state_2017-05-26.csv')"
   ]
  },
  {
   "cell_type": "code",
   "execution_count": 6,
   "metadata": {
    "collapsed": false
   },
   "outputs": [
    {
     "data": {
      "text/plain": [
       "0        1966.506836\n",
       "1        1962.542969\n",
       "2        1965.751343\n",
       "3        1965.646973\n",
       "4        1953.523315\n",
       "5        1957.812256\n",
       "6        1960.430298\n",
       "7        1966.336914\n",
       "8        1963.329102\n",
       "9        1963.899902\n",
       "10       1970.372437\n",
       "11       1966.751099\n",
       "12       1964.197876\n",
       "13       1956.929688\n",
       "14       1961.431519\n",
       "15       1960.595337\n",
       "16       1963.816040\n",
       "17       1964.045166\n",
       "18       1988.381836\n",
       "19       1969.254028\n",
       "20       1982.309204\n",
       "21       1971.307495\n",
       "22       1973.314697\n",
       "23       1965.003540\n",
       "24       1971.073608\n",
       "25       1968.941895\n",
       "26       1969.507812\n",
       "27       1981.106567\n",
       "28       1993.791992\n",
       "29       1969.343628\n",
       "            ...     \n",
       "38103    1967.000000\n",
       "38104    2016.000000\n",
       "38105    1984.000000\n",
       "38106    2013.499390\n",
       "38107    1953.000000\n",
       "38108    2017.000000\n",
       "38109    2006.352661\n",
       "38110    1996.000000\n",
       "38111    2016.000000\n",
       "38112    2015.000000\n",
       "38113    2012.224731\n",
       "38114    2013.000000\n",
       "38115    2012.000000\n",
       "38116    2016.000000\n",
       "38117    2016.000000\n",
       "38118    2014.000000\n",
       "38119    2016.000000\n",
       "38120    1996.992188\n",
       "38121    2017.000000\n",
       "38122    2000.000000\n",
       "38123    2016.000000\n",
       "38124    2016.000000\n",
       "38125    2016.000000\n",
       "38126    2016.982056\n",
       "38127    2018.301025\n",
       "38128    1973.000000\n",
       "38129    2010.564941\n",
       "38130    2016.000000\n",
       "38131    1977.000000\n",
       "38132    1973.000000\n",
       "Name: build_year, Length: 38133, dtype: float64"
      ]
     },
     "execution_count": 6,
     "metadata": {},
     "output_type": "execute_result"
    }
   ],
   "source": [
    "build['build_year']"
   ]
  },
  {
   "cell_type": "code",
   "execution_count": null,
   "metadata": {
    "collapsed": true
   },
   "outputs": [],
   "source": []
  }
 ],
 "metadata": {
  "kernelspec": {
   "display_name": "Python 2",
   "language": "python",
   "name": "python2"
  },
  "language_info": {
   "codemirror_mode": {
    "name": "ipython",
    "version": 2
   },
   "file_extension": ".py",
   "mimetype": "text/x-python",
   "name": "python",
   "nbconvert_exporter": "python",
   "pygments_lexer": "ipython2",
   "version": "2.7.13"
  }
 },
 "nbformat": 4,
 "nbformat_minor": 2
}
