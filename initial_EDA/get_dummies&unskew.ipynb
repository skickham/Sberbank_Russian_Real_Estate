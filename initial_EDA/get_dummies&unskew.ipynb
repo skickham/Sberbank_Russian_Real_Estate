{
 "cells": [
  {
   "cell_type": "code",
   "execution_count": 12,
   "metadata": {
    "collapsed": false
   },
   "outputs": [],
   "source": [
    "import pandas as pd\n",
    "import numpy as np\n",
    "from scipy.stats import skew"
   ]
  },
  {
   "cell_type": "code",
   "execution_count": 13,
   "metadata": {
    "collapsed": true
   },
   "outputs": [],
   "source": [
    "train = pd.read_csv(\"train.csv\", parse_dates=['timestamp']).drop(['id'],axis=1)\n",
    "test_raw= pd.read_csv(\"test.csv\", parse_dates=['timestamp']).drop(['id'],axis=1)\n",
    "macro= pd.read_csv(\"macro.csv\", parse_dates=['timestamp'])"
   ]
  },
  {
   "cell_type": "code",
   "execution_count": 14,
   "metadata": {
    "collapsed": true
   },
   "outputs": [],
   "source": [
    "df = pd.merge(train, macro, on = 'timestamp', how='left')"
   ]
  },
  {
   "cell_type": "code",
   "execution_count": 16,
   "metadata": {
    "collapsed": false
   },
   "outputs": [],
   "source": [
    "train[\"price_doc\"] = np.log1p(train[\"price_doc\"])\n",
    "\n",
    "#log transform skewed numeric features\n",
    "#get skewed columns\n",
    "get_col = df.dtypes[(df.dtypes == \"int64\") | (df.dtypes == \"float64\")].index\n",
    "\n",
    "get_skews = df[get_col].apply(lambda x: skew(x.dropna()))\n",
    "get_skews = get_skews[get_skews>0.5]\n",
    "get_skews = get_skews.index\n",
    "\n",
    "df = pd.get_dummies(df)\n",
    "#fill na with mean\n",
    "df = df.fillna(df.mean())\n"
   ]
  },
  {
   "cell_type": "code",
   "execution_count": 18,
   "metadata": {
    "collapsed": true
   },
   "outputs": [],
   "source": [
    "df[get_skews] = np.log1p(df[get_skews])"
   ]
  },
  {
   "cell_type": "code",
   "execution_count": 21,
   "metadata": {
    "collapsed": false
   },
   "outputs": [],
   "source": [
    "imp_feats = pd.read_csv(\"Lfeats1.csv\")"
   ]
  },
  {
   "cell_type": "code",
   "execution_count": 25,
   "metadata": {
    "collapsed": false
   },
   "outputs": [
    {
     "data": {
      "text/plain": [
       "(30471, 224)"
      ]
     },
     "execution_count": 25,
     "metadata": {},
     "output_type": "execute_result"
    }
   ],
   "source": [
    "df[imp_feats.feature.values] #30471 x 224"
   ]
  }
 ],
 "metadata": {
  "kernelspec": {
   "display_name": "Python 2",
   "language": "python",
   "name": "python2"
  },
  "language_info": {
   "codemirror_mode": {
    "name": "ipython",
    "version": 2
   },
   "file_extension": ".py",
   "mimetype": "text/x-python",
   "name": "python",
   "nbconvert_exporter": "python",
   "pygments_lexer": "ipython2",
   "version": "2.7.13"
  }
 },
 "nbformat": 4,
 "nbformat_minor": 2
}
