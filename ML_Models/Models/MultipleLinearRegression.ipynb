{
 "cells": [
  {
   "cell_type": "markdown",
   "metadata": {},
   "source": [
    "# Multiple Linear Regression Exploration"
   ]
  },
  {
   "cell_type": "markdown",
   "metadata": {},
   "source": [
    "## Import libraries"
   ]
  },
  {
   "cell_type": "code",
   "execution_count": 124,
   "metadata": {
    "collapsed": true
   },
   "outputs": [],
   "source": [
    "import numpy as np\n",
    "import pandas as pd\n",
    "\n",
    "import matplotlib.pyplot as plt\n",
    "import seaborn as sns\n",
    "\n",
    "from __future__ import print_function\n",
    "\n",
    "from scipy import stats\n",
    "from sklearn import linear_model\n",
    "\n",
    "\n",
    "%matplotlib inline\n",
    "\n",
    "pd.options.mode.chained_assignment = None # default = 'warn'\n",
    "pd.set_option('display.max_columns', 500)\n",
    "color = sns.color_palette()"
   ]
  },
  {
   "cell_type": "markdown",
   "metadata": {},
   "source": [
    "## Pull data and create regression object"
   ]
  },
  {
   "cell_type": "code",
   "execution_count": 143,
   "metadata": {
    "collapsed": false
   },
   "outputs": [],
   "source": [
    "train = pd.read_csv('train.csv', parse_dates=['timestamp'])\n",
    "test = pd.read_csv('test.csv', parse_dates = ['timestamp'])\n",
    "macro = pd.read_csv('macro.csv', parse_dates = ['timestamp'])\n",
    "\n",
    "ols = linear_model.LinearRegression()  # create the object easily"
   ]
  },
  {
   "cell_type": "markdown",
   "metadata": {},
   "source": [
    "# Combine Datasets"
   ]
  },
  {
   "cell_type": "code",
   "execution_count": 137,
   "metadata": {
    "collapsed": false
   },
   "outputs": [
    {
     "data": {
      "text/plain": [
       "(38133, 392)"
      ]
     },
     "execution_count": 137,
     "metadata": {},
     "output_type": "execute_result"
    }
   ],
   "source": [
    "train['dataset'] = 'train'\n",
    "test['dataset'] = 'test'\n",
    "\n",
    "# concat train and test\n",
    "df = pd.concat([train, test])\n",
    "\n",
    "# merge macro set \n",
    "df = pd.merge(df, macro, how='left', on = 'timestamp')\n",
    "\n",
    "df.shape"
   ]
  },
  {
   "cell_type": "markdown",
   "metadata": {},
   "source": [
    "# Subset important columns"
   ]
  },
  {
   "cell_type": "code",
   "execution_count": 157,
   "metadata": {
    "collapsed": false
   },
   "outputs": [],
   "source": [
    "df_important = df.loc[:, ['id', 'timestamp', 'full_sq',\n",
    "                          'life_sq', 'floor', 'max_floor', 'material',\n",
    "                          'build_year', 'num_room',\n",
    "                          'kitch_sq', 'state',\n",
    "                          'product_type', 'sub_area',\n",
    "                          'indust_part', 'school_education_centers_raion',\n",
    "                          'sport_objects_raion', 'culture_objects_top_25_raion',\n",
    "                          'oil_chemistry_raion', 'metro_min_avto',\n",
    "                          'green_zone_km', 'industrial_km',\n",
    "                          'kremlin_km', 'radiation_km',\n",
    "                          'ts_km', 'fitness_km',\n",
    "                          'stadium_km', 'additional_education_km',\n",
    "                          'cafe_count_1500_price_500', 'cafe_count_1500_price_high',\n",
    "                          'cafe_count_2000_price_2500', 'trc_sqm_5000',\n",
    "                          'cafe_count_5000', 'cafe_count_5000_price_high',\n",
    "                          'gdp_quart', 'cpi',\n",
    "                          'ppi', 'usdrub',\n",
    "                          'eurrub', 'gdp_annual',\n",
    "                          'rts', 'micex',\n",
    "                          'micex_cbi_tr', 'deposits_rate',\n",
    "                          'mortgage_rate', 'income_per_cap',\n",
    "                          'salary', 'labor_force',\n",
    "                          'unemployment', 'employment']]"
   ]
  },
  {
   "cell_type": "code",
   "execution_count": 161,
   "metadata": {
    "collapsed": false
   },
   "outputs": [],
   "source": [
    "# check missing values\n",
    "# df_important.info()\n",
    "# it checked out"
   ]
  },
  {
   "cell_type": "code",
   "execution_count": 142,
   "metadata": {
    "collapsed": false
   },
   "outputs": [
    {
     "data": {
      "text/plain": [
       "array(['id', 'timestamp', 'full_sq', 'life_sq', 'floor', 'max_floor',\n",
       "       'material', 'build_year', 'num_room', 'kitch_sq', 'tk/state',\n",
       "       'product_type', 'sub_area', 'indust_part',\n",
       "       'school_education_centers_raion', 'sport_objects_raion',\n",
       "       'culture_objects_top_25_raion', 'oil_chemistry_raion',\n",
       "       'metro_min_avto', 'green_zone_km', 'industrial_zone_km',\n",
       "       'kremlin_km', 'radiation_km', 'ts_km', 'fitness_km', 'stadium_km',\n",
       "       'additional_education_km', 'cafe_count_1500_price_500',\n",
       "       'cafe_count_1500_price_high', 'cafe_count_2000_price_2500',\n",
       "       'trc_sqm_5000', 'cafe_count_5000', 'cafe_count_5000_price_high',\n",
       "       'gdp_quart', 'cpi', 'ppi', 'usdrub', 'eurrub', 'gdp_annual', 'rts',\n",
       "       'micex', 'micex_cbi_tr', 'deposits_rate', 'mortgage_rate',\n",
       "       'income_per_cap', 'salary', 'labor_force', 'unemployment',\n",
       "       'employment'], dtype=object)"
      ]
     },
     "execution_count": 142,
     "metadata": {},
     "output_type": "execute_result"
    }
   ],
   "source": [
    "df_important.columns.values"
   ]
  },
  {
   "cell_type": "code",
   "execution_count": null,
   "metadata": {
    "collapsed": true
   },
   "outputs": [],
   "source": []
  },
  {
   "cell_type": "code",
   "execution_count": null,
   "metadata": {
    "collapsed": true
   },
   "outputs": [],
   "source": []
  },
  {
   "cell_type": "markdown",
   "metadata": {},
   "source": [
    "## Normalize Price\n",
    "\n",
    "And set up x and y"
   ]
  },
  {
   "cell_type": "code",
   "execution_count": 96,
   "metadata": {
    "collapsed": false
   },
   "outputs": [],
   "source": [
    "train['price_doc_log'] = np.log1p(train['price_doc'])\n",
    "train['price_doc_log10'] = np.log10(train['price_doc'])\n",
    "train_nona = train.dropna()"
   ]
  },
  {
   "cell_type": "code",
   "execution_count": 97,
   "metadata": {
    "collapsed": false
   },
   "outputs": [],
   "source": [
    "x = train_nona.drop('price_doc', axis = 1)\n",
    "x = x.drop('price_doc_log', axis = 1)\n",
    "x = x.drop('price_doc_log10', axis = 1)\n",
    "x = x.select_dtypes(include=['float64'])\n"
   ]
  },
  {
   "cell_type": "code",
   "execution_count": 98,
   "metadata": {
    "collapsed": false
   },
   "outputs": [],
   "source": [
    "y = train_nona[['price_doc_log']]"
   ]
  },
  {
   "cell_type": "markdown",
   "metadata": {},
   "source": [
    "## Fit the Regression"
   ]
  },
  {
   "cell_type": "code",
   "execution_count": 99,
   "metadata": {
    "collapsed": false,
    "scrolled": true
   },
   "outputs": [
    {
     "name": "stdout",
     "output_type": "stream",
     "text": [
      "R^2 is 0.31320360088\n"
     ]
    }
   ],
   "source": [
    "ols.fit(x, y)\n",
    "# print('Coeffs are ' + str(ols.coef_))\n",
    "print('R^2 is ' + str(ols.score(x,y)))    # only 31% (so bad)"
   ]
  },
  {
   "cell_type": "markdown",
   "metadata": {},
   "source": [
    "## Create:\n",
    "#### + Green\n",
    "#### + Prom\n",
    "#### + Office\n",
    "#### + Trc\n",
    "#### + Chruch\n",
    "#### + Sport\n",
    "#### + Leisure\n",
    "#### + Market\n",
    "#### + Cafe_price\n",
    "#### + Cafe_count"
   ]
  },
  {
   "cell_type": "code",
   "execution_count": 105,
   "metadata": {
    "collapsed": false
   },
   "outputs": [],
   "source": [
    "green = ['green_part_500', 'green_part_1000','green_part_1500',\n",
    "         'green_part_2000','green_part_3000','green_part_5000']\n",
    "\n",
    "prom = ['prom_part_500','prom_part_1000','prom_part_1500',\n",
    "        'prom_part_2000','prom_part_3000','prom_part_5000']\n",
    "        \n",
    "office = ['office_count_500','office_sqm_500','office_count_1000',\n",
    "          'office_sqm_1000','office_count_1500', 'office_sqm_1500',\n",
    "          'office_count_2000','office_sqm_2000','office_count_3000',\n",
    "          'office_sqm_3000','office_count_5000','office_sqm_5000']\n",
    "          \n",
    "# shopping malls\n",
    "trc = ['trc_count_1000', 'trc_count_1500', 'trc_count_2000', 'trc_count_3000', \n",
    "       'trc_count_500', 'trc_count_5000', 'trc_sqm_1000', 'trc_sqm_1500',\n",
    "       'trc_sqm_2000', 'trc_sqm_3000', 'trc_sqm_500', 'trc_sqm_5000', 'trc_count_1000', 'trc_sqm_1000']\n",
    "       \n",
    "       \n",
    "church = ['big_church_count_500', 'church_count_500', 'mosque_count_500',\n",
    "         'big_church_count_1000', 'church_count_1000', 'mosque_count_1000',\n",
    "         'big_church_count_1500', 'church_count_1500', 'mosque_count_1500',\n",
    "         'big_church_count_3000', 'church_count_3000', 'mosque_count_3000',\n",
    "         'big_church_count_5000', 'church_count_5000', 'mosque_count_5000',\n",
    "         'big_church_count_2000', 'church_count_2000', 'mosque_count_2000']\n",
    "\n",
    "        \n",
    "sport = ['sport_count_500','sport_count_1000','sport_count_2000', \n",
    "         'sport_count_5000','sport_count_1500','sport_count_3000']\n",
    "\n",
    "leisure = ['leisure_count_500','leisure_count_3000','leisure_count_1000',\n",
    "           'leisure_count_1500','leisure_count_2000','leisure_count_5000']\n",
    "\n",
    "market = ['market_count_500','market_count_5000', 'market_count_2000',\n",
    "          'market_count_1000','market_count_1500','market_count_3000']    \n",
    "\n",
    "\n",
    "cafe_price = ['cafe_sum_500_min_price_avg', 'cafe_sum_500_max_price_avg',\n",
    "              'cafe_avg_price_500', 'cafe_sum_1000_min_price_avg','cafe_sum_1000_max_price_avg', \n",
    "              'cafe_avg_price_1000', 'cafe_sum_1500_min_price_avg', 'cafe_sum_1500_max_price_avg', \n",
    "              'cafe_avg_price_1500', 'cafe_sum_2000_min_price_avg', 'cafe_sum_2000_max_price_avg', \n",
    "              'cafe_avg_price_2000', 'cafe_sum_3000_min_price_avg', 'cafe_sum_3000_max_price_avg',\n",
    "              'cafe_avg_price_3000',  'cafe_sum_5000_min_price_avg', 'cafe_sum_5000_max_price_avg',\n",
    "              'cafe_avg_price_5000','cafe_count_5000_price_high']      \n",
    "\n",
    "    \n",
    "cafe_count = ['cafe_count_500', 'cafe_count_500_na_price',\n",
    "       'cafe_count_500_price_500', 'cafe_count_500_price_1000',\n",
    "       'cafe_count_500_price_1500', 'cafe_count_500_price_2500',\n",
    "       'cafe_count_500_price_4000', 'cafe_count_500_price_high', 'cafe_count_1000', \n",
    "       'cafe_count_1000_na_price', 'cafe_count_1000_price_500',\n",
    "       'cafe_count_1000_price_1000', 'cafe_count_1000_price_1500',\n",
    "       'cafe_count_1000_price_2500', 'cafe_count_1000_price_4000',\n",
    "       'cafe_count_1000_price_high','cafe_count_1500',\n",
    "       'cafe_count_1500_na_price',\n",
    "       'cafe_count_1500_price_500', 'cafe_count_1500_price_1000',\n",
    "       'cafe_count_1500_price_1500', 'cafe_count_1500_price_2500',\n",
    "       'cafe_count_1500_price_4000', 'cafe_count_1500_price_high', 'cafe_count_2000', \n",
    "       'cafe_count_2000_na_price', 'cafe_count_2000_price_500',\n",
    "       'cafe_count_2000_price_1000', 'cafe_count_2000_price_1500',\n",
    "       'cafe_count_2000_price_2500', 'cafe_count_2000_price_4000',\n",
    "       'cafe_count_2000_price_high', 'cafe_count_3000', 'cafe_count_3000_na_price',\n",
    "       'cafe_count_3000_price_500', 'cafe_count_3000_price_1000',\n",
    "       'cafe_count_3000_price_1500', 'cafe_count_3000_price_2500',\n",
    "       'cafe_count_3000_price_4000', 'cafe_count_3000_price_high','cafe_count_5000',\n",
    "       'cafe_count_5000_na_price', 'cafe_count_5000_price_500',\n",
    "       'cafe_count_5000_price_1000', 'cafe_count_5000_price_1500',\n",
    "       'cafe_count_5000_price_2500', 'cafe_count_5000_price_4000',\n",
    "       'cafe_count_5000_price_high'] \n",
    "        \n",
    "price = ['price_doc', 'price_doc_log', 'price_doc_log10'] "
   ]
  },
  {
   "cell_type": "markdown",
   "metadata": {},
   "source": [
    "#### Green, Prom, Office, Trc, Chruch, Sport, Leisure, Market, Cafe_price,  Cafe_count"
   ]
  },
  {
   "cell_type": "code",
   "execution_count": 106,
   "metadata": {
    "collapsed": false,
    "scrolled": true
   },
   "outputs": [
    {
     "name": "stdout",
     "output_type": "stream",
     "text": [
      "Coeffs are [[  2.02856761e+09  -2.02856761e+09  -2.02856761e+09  -2.02856761e+09\n",
      "   -2.02856761e+09  -2.02856761e+09  -2.02856761e+09  -2.02856761e+09\n",
      "    2.54034996e-04   1.98282301e-02  -9.79506969e-03   3.58009338e-03\n",
      "    7.19499588e-03   9.77575779e-04  -3.90267372e-02   1.75704360e-02\n",
      "    5.43427467e-03  -3.03390622e-03   1.81531906e-03  -6.75511360e-03\n",
      "   -8.30593705e-03   9.32234526e-03  -2.96115875e-02   4.20833007e-02\n",
      "   -4.49216366e-03  -2.69681215e-03   4.77218628e-03   1.10850334e-02\n",
      "   -8.67843628e-04  -7.24691153e-03   2.33708620e-02  -3.29381302e-02\n",
      "    1.89957023e-03   9.49290395e-03  -8.37936997e-03  -2.34782696e-04\n",
      "    1.93119049e-05   2.13789940e-03  -1.17961168e-02   1.11229569e-02\n",
      "    5.28049469e-03   1.23032928e-03  -1.25064254e-02   2.40170956e-03\n",
      "   -7.18307495e-03  -3.08614969e-03  -1.75397694e-02   4.24386859e-02]]\n",
      "R^2 is 0.0892018322759\n"
     ]
    }
   ],
   "source": [
    "x_cafe = train[cafe_count]\n",
    "x_cafe = x_cafe.dropna()\n",
    "y = train[['price_doc_log']]\n",
    "\n",
    "ols.fit(x_cafe, y)\n",
    "\n",
    "print('Coeffs are ' + str(ols.coef_))\n",
    "print('R^2 is ' + str(ols.score(x_cafe,y)))   # 0.08 before but now 1.0"
   ]
  },
  {
   "cell_type": "code",
   "execution_count": 107,
   "metadata": {
    "collapsed": false
   },
   "outputs": [
    {
     "name": "stdout",
     "output_type": "stream",
     "text": [
      "Coeffs are [[ 0.022364   -0.05036055 -0.14571221  0.03528865 -0.01173266  0.15301492\n",
      "   0.00110367  0.00212856  0.04093205  0.00027564 -0.00134871 -0.02354261\n",
      "  -0.00368676  0.00646323  0.05961167 -0.01251535  0.00133001  0.04313117]]\n",
      "R^2 is 0.0559264588909\n"
     ]
    }
   ],
   "source": [
    "x_church = train[church]\n",
    "x_church = x_church.dropna()\n",
    "y = train[['price_doc_log']]\n",
    "\n",
    "ols.fit(x_church, y)\n",
    "\n",
    "print('Coeffs are ' + str(ols.coef_))\n",
    "print('R^2 is ' + str(ols.score(x_church,y)))  # 0.05"
   ]
  },
  {
   "cell_type": "code",
   "execution_count": 108,
   "metadata": {
    "collapsed": false
   },
   "outputs": [
    {
     "name": "stdout",
     "output_type": "stream",
     "text": [
      "Coeffs are [[ 0.022364   -0.05036055 -0.14571221  0.03528865 -0.01173266  0.15301492\n",
      "   0.00110367  0.00212856  0.04093205  0.00027564 -0.00134871 -0.02354261\n",
      "  -0.00368676  0.00646323  0.05961167 -0.01251535  0.00133001  0.04313117]]\n",
      "R^2 is 0.0559264588909\n"
     ]
    }
   ],
   "source": [
    "x_green = train[church]\n",
    "x_green = x_green.dropna()\n",
    "y = train[['price_doc_log']]\n",
    "\n",
    "ols.fit(x_green, y)\n",
    "\n",
    "print('Coeffs are ' + str(ols.coef_))\n",
    "print('R^2 is ' + str(ols.score(x_green,y)))  # 0.05"
   ]
  },
  {
   "cell_type": "code",
   "execution_count": 109,
   "metadata": {
    "collapsed": false,
    "scrolled": true
   },
   "outputs": [
    {
     "ename": "ValueError",
     "evalue": "Found input variables with inconsistent numbers of samples: [17190, 30471]",
     "output_type": "error",
     "traceback": [
      "\u001b[0;31m---------------------------------------------------------------------------\u001b[0m",
      "\u001b[0;31mValueError\u001b[0m                                Traceback (most recent call last)",
      "\u001b[0;32m<ipython-input-109-b971fc55629f>\u001b[0m in \u001b[0;36m<module>\u001b[0;34m()\u001b[0m\n\u001b[1;32m      3\u001b[0m \u001b[0my\u001b[0m \u001b[1;33m=\u001b[0m \u001b[0mtrain\u001b[0m\u001b[1;33m[\u001b[0m\u001b[1;33m[\u001b[0m\u001b[1;34m'price_doc_log'\u001b[0m\u001b[1;33m]\u001b[0m\u001b[1;33m]\u001b[0m\u001b[1;33m\u001b[0m\u001b[0m\n\u001b[1;32m      4\u001b[0m \u001b[1;33m\u001b[0m\u001b[0m\n\u001b[0;32m----> 5\u001b[0;31m \u001b[0mols\u001b[0m\u001b[1;33m.\u001b[0m\u001b[0mfit\u001b[0m\u001b[1;33m(\u001b[0m\u001b[0mx_cafe_price\u001b[0m\u001b[1;33m,\u001b[0m \u001b[0my\u001b[0m\u001b[1;33m)\u001b[0m\u001b[1;33m\u001b[0m\u001b[0m\n\u001b[0m\u001b[1;32m      6\u001b[0m \u001b[1;33m\u001b[0m\u001b[0m\n\u001b[1;32m      7\u001b[0m \u001b[1;32mprint\u001b[0m\u001b[1;33m(\u001b[0m\u001b[1;34m'Coeffs are '\u001b[0m \u001b[1;33m+\u001b[0m \u001b[0mstr\u001b[0m\u001b[1;33m(\u001b[0m\u001b[0mols\u001b[0m\u001b[1;33m.\u001b[0m\u001b[0mcoef_\u001b[0m\u001b[1;33m)\u001b[0m\u001b[1;33m)\u001b[0m\u001b[1;33m\u001b[0m\u001b[0m\n",
      "\u001b[0;32mC:\\Users\\skick\\Anaconda2\\lib\\site-packages\\sklearn\\linear_model\\base.pyc\u001b[0m in \u001b[0;36mfit\u001b[0;34m(self, X, y, sample_weight)\u001b[0m\n\u001b[1;32m    510\u001b[0m         \u001b[0mn_jobs_\u001b[0m \u001b[1;33m=\u001b[0m \u001b[0mself\u001b[0m\u001b[1;33m.\u001b[0m\u001b[0mn_jobs\u001b[0m\u001b[1;33m\u001b[0m\u001b[0m\n\u001b[1;32m    511\u001b[0m         X, y = check_X_y(X, y, accept_sparse=['csr', 'csc', 'coo'],\n\u001b[0;32m--> 512\u001b[0;31m                          y_numeric=True, multi_output=True)\n\u001b[0m\u001b[1;32m    513\u001b[0m \u001b[1;33m\u001b[0m\u001b[0m\n\u001b[1;32m    514\u001b[0m         \u001b[1;32mif\u001b[0m \u001b[0msample_weight\u001b[0m \u001b[1;32mis\u001b[0m \u001b[1;32mnot\u001b[0m \u001b[0mNone\u001b[0m \u001b[1;32mand\u001b[0m \u001b[0mnp\u001b[0m\u001b[1;33m.\u001b[0m\u001b[0matleast_1d\u001b[0m\u001b[1;33m(\u001b[0m\u001b[0msample_weight\u001b[0m\u001b[1;33m)\u001b[0m\u001b[1;33m.\u001b[0m\u001b[0mndim\u001b[0m \u001b[1;33m>\u001b[0m \u001b[1;36m1\u001b[0m\u001b[1;33m:\u001b[0m\u001b[1;33m\u001b[0m\u001b[0m\n",
      "\u001b[0;32mC:\\Users\\skick\\Anaconda2\\lib\\site-packages\\sklearn\\utils\\validation.pyc\u001b[0m in \u001b[0;36mcheck_X_y\u001b[0;34m(X, y, accept_sparse, dtype, order, copy, force_all_finite, ensure_2d, allow_nd, multi_output, ensure_min_samples, ensure_min_features, y_numeric, warn_on_dtype, estimator)\u001b[0m\n\u001b[1;32m    529\u001b[0m         \u001b[0my\u001b[0m \u001b[1;33m=\u001b[0m \u001b[0my\u001b[0m\u001b[1;33m.\u001b[0m\u001b[0mastype\u001b[0m\u001b[1;33m(\u001b[0m\u001b[0mnp\u001b[0m\u001b[1;33m.\u001b[0m\u001b[0mfloat64\u001b[0m\u001b[1;33m)\u001b[0m\u001b[1;33m\u001b[0m\u001b[0m\n\u001b[1;32m    530\u001b[0m \u001b[1;33m\u001b[0m\u001b[0m\n\u001b[0;32m--> 531\u001b[0;31m     \u001b[0mcheck_consistent_length\u001b[0m\u001b[1;33m(\u001b[0m\u001b[0mX\u001b[0m\u001b[1;33m,\u001b[0m \u001b[0my\u001b[0m\u001b[1;33m)\u001b[0m\u001b[1;33m\u001b[0m\u001b[0m\n\u001b[0m\u001b[1;32m    532\u001b[0m \u001b[1;33m\u001b[0m\u001b[0m\n\u001b[1;32m    533\u001b[0m     \u001b[1;32mreturn\u001b[0m \u001b[0mX\u001b[0m\u001b[1;33m,\u001b[0m \u001b[0my\u001b[0m\u001b[1;33m\u001b[0m\u001b[0m\n",
      "\u001b[0;32mC:\\Users\\skick\\Anaconda2\\lib\\site-packages\\sklearn\\utils\\validation.pyc\u001b[0m in \u001b[0;36mcheck_consistent_length\u001b[0;34m(*arrays)\u001b[0m\n\u001b[1;32m    179\u001b[0m     \u001b[1;32mif\u001b[0m \u001b[0mlen\u001b[0m\u001b[1;33m(\u001b[0m\u001b[0muniques\u001b[0m\u001b[1;33m)\u001b[0m \u001b[1;33m>\u001b[0m \u001b[1;36m1\u001b[0m\u001b[1;33m:\u001b[0m\u001b[1;33m\u001b[0m\u001b[0m\n\u001b[1;32m    180\u001b[0m         raise ValueError(\"Found input variables with inconsistent numbers of\"\n\u001b[0;32m--> 181\u001b[0;31m                          \" samples: %r\" % [int(l) for l in lengths])\n\u001b[0m\u001b[1;32m    182\u001b[0m \u001b[1;33m\u001b[0m\u001b[0m\n\u001b[1;32m    183\u001b[0m \u001b[1;33m\u001b[0m\u001b[0m\n",
      "\u001b[0;31mValueError\u001b[0m: Found input variables with inconsistent numbers of samples: [17190, 30471]"
     ]
    }
   ],
   "source": [
    "x_cafe_price = train[cafe_price]\n",
    "x_cafe_price = x_cafe_price.dropna()\n",
    "y = train[['price_doc_log']]\n",
    "\n",
    "ols.fit(x_cafe_price, y)\n",
    "\n",
    "print('Coeffs are ' + str(ols.coef_))\n",
    "print('R^2 is ' + str(ols.score(x_cafe_price,y)))"
   ]
  },
  {
   "cell_type": "code",
   "execution_count": 110,
   "metadata": {
    "collapsed": false
   },
   "outputs": [
    {
     "name": "stdout",
     "output_type": "stream",
     "text": [
      "Coeffs are [[  2.06039331e-02  -2.21250425e-07   7.37546198e-03  -3.58712147e-07\n",
      "    1.14825424e-02  -9.88531878e-08  -9.35343898e-03   1.07443211e-07\n",
      "   -7.04803335e-04   1.31691570e-08  -8.05433926e-04   1.35316761e-07]]\n",
      "R^2 is 0.0646285767276\n"
     ]
    }
   ],
   "source": [
    "x_office = train[office]\n",
    "x_office = x_office.dropna()\n",
    "y = train[['price_doc_log']]\n",
    "\n",
    "ols.fit(x_office, y)\n",
    "\n",
    "print('Coeffs are ' + str(ols.coef_))\n",
    "print('R^2 is ' + str(ols.score(x_office,y))) # 0.06"
   ]
  },
  {
   "cell_type": "code",
   "execution_count": 112,
   "metadata": {
    "collapsed": false
   },
   "outputs": [
    {
     "name": "stdout",
     "output_type": "stream",
     "text": [
      "Coeffs are [[ 0.022364   -0.05036055 -0.14571221  0.03528865 -0.01173266  0.15301492\n",
      "   0.00110367  0.00212856  0.04093205  0.00027564 -0.00134871 -0.02354261\n",
      "  -0.00368676  0.00646323  0.05961167 -0.01251535  0.00133001  0.04313117]]\n",
      "R^2 is 0.0559264588909\n"
     ]
    }
   ],
   "source": [
    "x_sport = train[church]\n",
    "x_sport = x_sport.dropna()\n",
    "y = train[['price_doc_log']]\n",
    "\n",
    "ols.fit(x_sport, y)\n",
    "\n",
    "print('Coeffs are ' + str(ols.coef_))\n",
    "print('R^2 is ' + str(ols.score(x_sport,y))) # 0.05"
   ]
  },
  {
   "cell_type": "code",
   "execution_count": 113,
   "metadata": {
    "collapsed": false
   },
   "outputs": [
    {
     "name": "stdout",
     "output_type": "stream",
     "text": [
      "Coeffs are [[ 0.022364   -0.05036055 -0.14571221  0.03528865 -0.01173266  0.15301492\n",
      "   0.00110367  0.00212856  0.04093205  0.00027564 -0.00134871 -0.02354261\n",
      "  -0.00368676  0.00646323  0.05961167 -0.01251535  0.00133001  0.04313117]]\n",
      "R^2 is 0.0559264588909\n"
     ]
    }
   ],
   "source": [
    "x_leisure = train[church]\n",
    "x_leisure = x_leisure.dropna()\n",
    "y = train[['price_doc_log']]\n",
    "\n",
    "ols.fit(x_leisure, y)\n",
    "\n",
    "print('Coeffs are ' + str(ols.coef_))\n",
    "print('R^2 is ' + str(ols.score(x_leisure,y)))   # 0.05"
   ]
  },
  {
   "cell_type": "code",
   "execution_count": 114,
   "metadata": {
    "collapsed": false
   },
   "outputs": [
    {
     "name": "stdout",
     "output_type": "stream",
     "text": [
      "Coeffs are [[ 0.022364   -0.05036055 -0.14571221  0.03528865 -0.01173266  0.15301492\n",
      "   0.00110367  0.00212856  0.04093205  0.00027564 -0.00134871 -0.02354261\n",
      "  -0.00368676  0.00646323  0.05961167 -0.01251535  0.00133001  0.04313117]]\n",
      "R^2 is 0.0559264588909\n"
     ]
    }
   ],
   "source": [
    "x_market = train[church]\n",
    "x_market = x_market.dropna()\n",
    "y = train[['price_doc_log']]\n",
    "\n",
    "ols.fit(x_market, y)\n",
    "\n",
    "print('Coeffs are ' + str(ols.coef_))\n",
    "print('R^2 is ' + str(ols.score(x_market,y))) # 0.05"
   ]
  },
  {
   "cell_type": "markdown",
   "metadata": {},
   "source": [
    "# More"
   ]
  },
  {
   "cell_type": "code",
   "execution_count": 121,
   "metadata": {
    "collapsed": true
   },
   "outputs": [],
   "source": [
    "important_features = ['id', 'full_sq', 'life_sq', 'floor',\n",
    "                      'max_floor', 'material', 'build_year',\n",
    "                      'num_room', 'kitch_sq', 'state', 'area_m',\n",
    "                      'price_doc', 'gdp_quart', 'deposits_value', \n",
    "                      'deposits_growth', 'deposits_rate', 'mortgage_value',\n",
    "                      'mortgage_growth', 'mortgage_rate', 'salary',\n",
    "                      'unemployment', 'employment',  'oil_urals',\n",
    "                      'stadium_km', 'floor', 'max_floor', 'metro_min_avto',\n",
    "                      'build_year', 'cafe_count_5000_price_high', 'num_room',\n",
    "                      'radiation_km',\n",
    "                      'green_zone_km', 'industrial_km', 'indust_part',\n",
    "                      'cpi', 'cafe_count_5000', 'cafe_count_1500_price_high',\n",
    "                      'cafe_count_5000_price_500', 'cafe_count_2000_price_2500',\n",
    "                      'kitch_sq', 'max_floor', 'trc_sqm_5000', \n",
    "                      'office_sqm_1000', 'trc_sqm_1500', 'office_sqm_500', 'cpi', \n",
    "                      'office_sqm_5000', 'ID_railroad_terminal', 'office_sqm_1500', \n",
    "                      'ekder_male', 'raion_popul', 'price_doc']\n",
    "\n",
    "important_features = list(set(important_features))\n",
    "# 'month', 'day',\n",
    "#                       'year', 'month_year', 'week_year', 'oil_chemistry_raion_yes',"
   ]
  },
  {
   "cell_type": "code",
   "execution_count": 119,
   "metadata": {
    "collapsed": false
   },
   "outputs": [
    {
     "ename": "KeyError",
     "evalue": "\"['unemployment' 'month_yearweek_year' 'month' 'oil_chemistry_raion_yes'\\n 'year' 'mortgage_rate' 'employment' 'oil_urals' 'deposits_rate' 'day'\\n 'mortgage_growth' 'salary' 'cpi' 'gdp_quart' 'mortgage_value'\\n 'deposits_value' 'deposits_growth'] not in index\"",
     "output_type": "error",
     "traceback": [
      "\u001b[0;31m---------------------------------------------------------------------------\u001b[0m",
      "\u001b[0;31mKeyError\u001b[0m                                  Traceback (most recent call last)",
      "\u001b[0;32m<ipython-input-119-1e6602b04db9>\u001b[0m in \u001b[0;36m<module>\u001b[0;34m()\u001b[0m\n\u001b[0;32m----> 1\u001b[0;31m \u001b[0mx_imp\u001b[0m \u001b[1;33m=\u001b[0m \u001b[0mtrain\u001b[0m\u001b[1;33m[\u001b[0m\u001b[0mimportant_features\u001b[0m\u001b[1;33m]\u001b[0m\u001b[1;33m\u001b[0m\u001b[0m\n\u001b[0m\u001b[1;32m      2\u001b[0m \u001b[0mx_imp\u001b[0m \u001b[1;33m=\u001b[0m \u001b[0mx_imp\u001b[0m\u001b[1;33m.\u001b[0m\u001b[0mdropna\u001b[0m\u001b[1;33m(\u001b[0m\u001b[1;33m)\u001b[0m\u001b[1;33m\u001b[0m\u001b[0m\n\u001b[1;32m      3\u001b[0m \u001b[0my\u001b[0m \u001b[1;33m=\u001b[0m \u001b[0mtrain\u001b[0m\u001b[1;33m[\u001b[0m\u001b[1;33m[\u001b[0m\u001b[1;34m'price_doc_log'\u001b[0m\u001b[1;33m]\u001b[0m\u001b[1;33m]\u001b[0m\u001b[1;33m\u001b[0m\u001b[0m\n\u001b[1;32m      4\u001b[0m \u001b[1;33m\u001b[0m\u001b[0m\n\u001b[1;32m      5\u001b[0m \u001b[0mols\u001b[0m\u001b[1;33m.\u001b[0m\u001b[0mfit\u001b[0m\u001b[1;33m(\u001b[0m\u001b[0mx_imp\u001b[0m\u001b[1;33m,\u001b[0m \u001b[0my\u001b[0m\u001b[1;33m)\u001b[0m\u001b[1;33m\u001b[0m\u001b[0m\n",
      "\u001b[0;32mC:\\Users\\skick\\Anaconda2\\lib\\site-packages\\pandas\\core\\frame.pyc\u001b[0m in \u001b[0;36m__getitem__\u001b[0;34m(self, key)\u001b[0m\n\u001b[1;32m   2054\u001b[0m         \u001b[1;32mif\u001b[0m \u001b[0misinstance\u001b[0m\u001b[1;33m(\u001b[0m\u001b[0mkey\u001b[0m\u001b[1;33m,\u001b[0m \u001b[1;33m(\u001b[0m\u001b[0mSeries\u001b[0m\u001b[1;33m,\u001b[0m \u001b[0mnp\u001b[0m\u001b[1;33m.\u001b[0m\u001b[0mndarray\u001b[0m\u001b[1;33m,\u001b[0m \u001b[0mIndex\u001b[0m\u001b[1;33m,\u001b[0m \u001b[0mlist\u001b[0m\u001b[1;33m)\u001b[0m\u001b[1;33m)\u001b[0m\u001b[1;33m:\u001b[0m\u001b[1;33m\u001b[0m\u001b[0m\n\u001b[1;32m   2055\u001b[0m             \u001b[1;31m# either boolean or fancy integer index\u001b[0m\u001b[1;33m\u001b[0m\u001b[1;33m\u001b[0m\u001b[0m\n\u001b[0;32m-> 2056\u001b[0;31m             \u001b[1;32mreturn\u001b[0m \u001b[0mself\u001b[0m\u001b[1;33m.\u001b[0m\u001b[0m_getitem_array\u001b[0m\u001b[1;33m(\u001b[0m\u001b[0mkey\u001b[0m\u001b[1;33m)\u001b[0m\u001b[1;33m\u001b[0m\u001b[0m\n\u001b[0m\u001b[1;32m   2057\u001b[0m         \u001b[1;32melif\u001b[0m \u001b[0misinstance\u001b[0m\u001b[1;33m(\u001b[0m\u001b[0mkey\u001b[0m\u001b[1;33m,\u001b[0m \u001b[0mDataFrame\u001b[0m\u001b[1;33m)\u001b[0m\u001b[1;33m:\u001b[0m\u001b[1;33m\u001b[0m\u001b[0m\n\u001b[1;32m   2058\u001b[0m             \u001b[1;32mreturn\u001b[0m \u001b[0mself\u001b[0m\u001b[1;33m.\u001b[0m\u001b[0m_getitem_frame\u001b[0m\u001b[1;33m(\u001b[0m\u001b[0mkey\u001b[0m\u001b[1;33m)\u001b[0m\u001b[1;33m\u001b[0m\u001b[0m\n",
      "\u001b[0;32mC:\\Users\\skick\\Anaconda2\\lib\\site-packages\\pandas\\core\\frame.pyc\u001b[0m in \u001b[0;36m_getitem_array\u001b[0;34m(self, key)\u001b[0m\n\u001b[1;32m   2098\u001b[0m             \u001b[1;32mreturn\u001b[0m \u001b[0mself\u001b[0m\u001b[1;33m.\u001b[0m\u001b[0mtake\u001b[0m\u001b[1;33m(\u001b[0m\u001b[0mindexer\u001b[0m\u001b[1;33m,\u001b[0m \u001b[0maxis\u001b[0m\u001b[1;33m=\u001b[0m\u001b[1;36m0\u001b[0m\u001b[1;33m,\u001b[0m \u001b[0mconvert\u001b[0m\u001b[1;33m=\u001b[0m\u001b[0mFalse\u001b[0m\u001b[1;33m)\u001b[0m\u001b[1;33m\u001b[0m\u001b[0m\n\u001b[1;32m   2099\u001b[0m         \u001b[1;32melse\u001b[0m\u001b[1;33m:\u001b[0m\u001b[1;33m\u001b[0m\u001b[0m\n\u001b[0;32m-> 2100\u001b[0;31m             \u001b[0mindexer\u001b[0m \u001b[1;33m=\u001b[0m \u001b[0mself\u001b[0m\u001b[1;33m.\u001b[0m\u001b[0mloc\u001b[0m\u001b[1;33m.\u001b[0m\u001b[0m_convert_to_indexer\u001b[0m\u001b[1;33m(\u001b[0m\u001b[0mkey\u001b[0m\u001b[1;33m,\u001b[0m \u001b[0maxis\u001b[0m\u001b[1;33m=\u001b[0m\u001b[1;36m1\u001b[0m\u001b[1;33m)\u001b[0m\u001b[1;33m\u001b[0m\u001b[0m\n\u001b[0m\u001b[1;32m   2101\u001b[0m             \u001b[1;32mreturn\u001b[0m \u001b[0mself\u001b[0m\u001b[1;33m.\u001b[0m\u001b[0mtake\u001b[0m\u001b[1;33m(\u001b[0m\u001b[0mindexer\u001b[0m\u001b[1;33m,\u001b[0m \u001b[0maxis\u001b[0m\u001b[1;33m=\u001b[0m\u001b[1;36m1\u001b[0m\u001b[1;33m,\u001b[0m \u001b[0mconvert\u001b[0m\u001b[1;33m=\u001b[0m\u001b[0mTrue\u001b[0m\u001b[1;33m)\u001b[0m\u001b[1;33m\u001b[0m\u001b[0m\n\u001b[1;32m   2102\u001b[0m \u001b[1;33m\u001b[0m\u001b[0m\n",
      "\u001b[0;32mC:\\Users\\skick\\Anaconda2\\lib\\site-packages\\pandas\\core\\indexing.pyc\u001b[0m in \u001b[0;36m_convert_to_indexer\u001b[0;34m(self, obj, axis, is_setter)\u001b[0m\n\u001b[1;32m   1229\u001b[0m                 \u001b[0mmask\u001b[0m \u001b[1;33m=\u001b[0m \u001b[0mcheck\u001b[0m \u001b[1;33m==\u001b[0m \u001b[1;33m-\u001b[0m\u001b[1;36m1\u001b[0m\u001b[1;33m\u001b[0m\u001b[0m\n\u001b[1;32m   1230\u001b[0m                 \u001b[1;32mif\u001b[0m \u001b[0mmask\u001b[0m\u001b[1;33m.\u001b[0m\u001b[0many\u001b[0m\u001b[1;33m(\u001b[0m\u001b[1;33m)\u001b[0m\u001b[1;33m:\u001b[0m\u001b[1;33m\u001b[0m\u001b[0m\n\u001b[0;32m-> 1231\u001b[0;31m                     \u001b[1;32mraise\u001b[0m \u001b[0mKeyError\u001b[0m\u001b[1;33m(\u001b[0m\u001b[1;34m'%s not in index'\u001b[0m \u001b[1;33m%\u001b[0m \u001b[0mobjarr\u001b[0m\u001b[1;33m[\u001b[0m\u001b[0mmask\u001b[0m\u001b[1;33m]\u001b[0m\u001b[1;33m)\u001b[0m\u001b[1;33m\u001b[0m\u001b[0m\n\u001b[0m\u001b[1;32m   1232\u001b[0m \u001b[1;33m\u001b[0m\u001b[0m\n\u001b[1;32m   1233\u001b[0m                 \u001b[1;32mreturn\u001b[0m \u001b[0m_values_from_object\u001b[0m\u001b[1;33m(\u001b[0m\u001b[0mindexer\u001b[0m\u001b[1;33m)\u001b[0m\u001b[1;33m\u001b[0m\u001b[0m\n",
      "\u001b[0;31mKeyError\u001b[0m: \"['unemployment' 'month_yearweek_year' 'month' 'oil_chemistry_raion_yes'\\n 'year' 'mortgage_rate' 'employment' 'oil_urals' 'deposits_rate' 'day'\\n 'mortgage_growth' 'salary' 'cpi' 'gdp_quart' 'mortgage_value'\\n 'deposits_value' 'deposits_growth'] not in index\""
     ]
    }
   ],
   "source": [
    "result = pd.concat(, axis=1, join_axes=[df1.index])\n",
    "\n",
    "x_imp = result[important_features]\n",
    "x_imp = x_imp.dropna()\n",
    "y = result[['price_doc_log']]\n",
    "\n",
    "ols.fit(x_imp, y)\n",
    "\n",
    "print('Coeffs are ' + str(ols.coef_))\n",
    "print('R^2 is ' + str(ols.score(x_imp,y))) # 0.05"
   ]
  },
  {
   "cell_type": "code",
   "execution_count": null,
   "metadata": {
    "collapsed": true
   },
   "outputs": [],
   "source": []
  },
  {
   "cell_type": "code",
   "execution_count": null,
   "metadata": {
    "collapsed": true
   },
   "outputs": [],
   "source": []
  },
  {
   "cell_type": "code",
   "execution_count": null,
   "metadata": {
    "collapsed": true
   },
   "outputs": [],
   "source": []
  },
  {
   "cell_type": "code",
   "execution_count": null,
   "metadata": {
    "collapsed": true
   },
   "outputs": [],
   "source": []
  },
  {
   "cell_type": "markdown",
   "metadata": {},
   "source": [
    "possible features to engineer/keep:\n",
    "\n",
    "gdp\n",
    "\n",
    "loans\n",
    "\n",
    "employment\n",
    "\n",
    "cpi\n",
    "\n",
    "\n",
    "\n",
    "building age\n",
    "\n",
    "market sentiment/months behind/economy delay\n",
    "\n",
    "less than five km park yes/no\n",
    "\n",
    "crime?\n",
    "\n",
    "traffic?\n",
    "\n",
    "distances within raion\n",
    "\n",
    "area squared\n",
    "\n",
    "other variables squared"
   ]
  }
 ],
 "metadata": {
  "kernelspec": {
   "display_name": "Python 2",
   "language": "python",
   "name": "python2"
  },
  "language_info": {
   "codemirror_mode": {
    "name": "ipython",
    "version": 2
   },
   "file_extension": ".py",
   "mimetype": "text/x-python",
   "name": "python",
   "nbconvert_exporter": "python",
   "pygments_lexer": "ipython2",
   "version": "2.7.13"
  }
 },
 "nbformat": 4,
 "nbformat_minor": 2
}
