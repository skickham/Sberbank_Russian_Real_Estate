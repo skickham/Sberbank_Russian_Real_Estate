{
 "cells": [
  {
   "cell_type": "code",
   "execution_count": 699,
   "metadata": {
    "collapsed": true,
    "scrolled": true
   },
   "outputs": [],
   "source": [
    "import pandas as pd\n",
    "import numpy as np\n",
    "import scipy as sp\n",
    "from matplotlib.pyplot import * \n",
    "import seaborn as sns\n",
    "from sklearn import model_selection, preprocessing\n",
    "from sklearn.linear_model import Ridge, RidgeCV, LassoCV, LassoLarsCV\n",
    "from sklearn.model_selection import cross_val_score\n",
    "color = sns.color_palette()\n",
    "from scipy.stats import skew\n",
    "%matplotlib inline\n",
    "\n",
    "\n",
    "\n",
    "train_raw = pd.read_csv(\"train.csv\", parse_dates=['timestamp']).drop(['id'],axis=1)\n",
    "test_raw= pd.read_csv(\"test.csv\", parse_dates=['timestamp']).drop(['id'],axis=1)\n",
    "macro= pd.read_csv(\"macro.csv\", parse_dates=['timestamp'])\n",
    "#Getting those macro columns with less than 10% of missing values\n",
    "macro_col_null = macro.isnull().mean(axis=0) < 0.10\n",
    "macro_useful = macro_col_null[macro_col_null.values==True].index\n",
    "macro_imp = macro[macro_useful]\n"
   ]
  },
  {
   "cell_type": "code",
   "execution_count": 700,
   "metadata": {
    "collapsed": false,
    "scrolled": true
   },
   "outputs": [
    {
     "name": "stdout",
     "output_type": "stream",
     "text": [
      "timestamp 2484\n",
      "oil_urals [  29.1125   30.5943   36.6171   36.7805   39.9762   42.3962   43.6614\n",
      "   43.8159   44.3677   45.0185   45.5825   46.3414   46.6518   47.0118\n",
      "   47.3436   54.6423   55.8961   57.863    59.1295   61.2833   61.4105\n",
      "   63.3737   72.97     73.05     73.62     74.05     75.4      76.1      77.03\n",
      "   77.6      78.9665   81.49     82.87     84.9      86.6257   89.56\n",
      "   93.74     93.82     95.6732  100.96    101.4165  101.99    102.62\n",
      "  102.78    103.34    105.6383  106.8776  107.076   107.1991  107.4\n",
      "  107.843   107.9     107.9176  107.988   108.1613  108.24    108.6\n",
      "  108.6204  108.65    109.2     109.31    109.6476  109.91    110.23\n",
      "  110.43    110.622   111.14    111.27    111.29    111.3933  111.54\n",
      "  111.73    111.8138  111.92    113.09    114.51    115.74    117.87\n",
      "  119.03    119.33    122.52  ]\n",
      "gdp_quart [     nan   9995.8  10977.   12086.5  12844.3  13249.3  14313.7  14925.\n",
      "  15663.6  15891.7  16149.   16876.6  17015.1  17138.9  17442.1  18209.7\n",
      "  18410.7  18543.5  18561.3  18884.6  19284.1  19566.5  19979.4  20406.9\n",
      "  21294.4  21514.7  22016.1]\n",
      "gdp_quart_growth [ nan -4.5 -3.8 -3.7 -2.8 -1.2 -0.6  0.4  0.6  0.7  0.9  1.2  1.3  2.   2.1\n",
      "  3.1  3.3  3.8  4.1  4.2  4.7  5.   5.1  5.2]\n",
      "cpi [   nan  315.1  317.7  319.8  320.7  322.3  323.6  324.8  326.6  329.3\n",
      "  330.9  333.6  337.2  345.2  347.9  350.   351.5  353.   353.2  354.\n",
      "  354.7  356.2  357.8  359.5  360.9  363.   364.1  366.   369.2  373.8\n",
      "  374.1  376.2  377.9  379.2  381.2  384.9  387.1  388.5  390.4  393.\n",
      "  394.7  397.9  398.5  399.3  401.6  403.9  405.9  408.3  411.2  415.3\n",
      "  419.1  422.8  425.5  427.5  428.6  431.4  434.9  440.5  452.   469.4\n",
      "  479.8  485.6  487.8  489.5  490.5  494.4  496.1  499.   502.7  506.4\n",
      "  510.3  515.2  518.5  520.9  523.2  525.3  527.2  530.1  531. ]\n",
      "ppi [   nan  337.2  343.9  350.2  359.6  361.3  361.8  368.9  371.1  373.6\n",
      "  377.1  393.7  397.6  406.2  419.8  420.7  425.5  428.5  433.9  434.4\n",
      "  436.5  438.4  440.5  441.9  444.3  444.6  445.4  446.9  449.   450.8\n",
      "  458.7  461.7  462.1  464.   464.6  466.2  466.6  468.3  469.8  472.2\n",
      "  473.4  473.5  479.1  480.6  485.5  485.6  486.7  487.   487.7  487.9\n",
      "  493.6  496.6  500.3  502.4  506.5  510.1  510.8  512.5  513.9  514.7\n",
      "  514.8  520.7  531.7  551.9  560.8  561.   568.7  568.9  569.1  572.8\n",
      "  575.5  575.9  581.2  581.6  581.9  584.   585.5  589.6  597.8  601.9\n",
      "  605.3  606.1]\n",
      "balance_trade [    nan   5.823   7.439   7.507   7.991   8.421   8.481   8.721   9.085\n",
      "   9.618   9.838  10.108  10.501  11.246  11.428  11.81   11.875  11.883\n",
      "  12.029  12.663  12.785  12.794  13.635  13.698  13.738  14.256  14.695\n",
      "  14.788  14.889  15.183  15.317  15.386  15.459  15.602  15.614  15.641\n",
      "  15.654  15.748  15.777  15.818  16.041  16.104  16.416  16.432  16.474\n",
      "  16.494  16.54   16.604  16.65   16.704  16.761  16.889  16.954  17.037\n",
      "  17.19   17.199  17.37   17.629  17.851  17.95   18.076  18.114  18.336\n",
      "  18.363  18.381  18.632  18.968  19.066  19.183  19.27   19.484  19.639\n",
      "  19.978  20.182  20.191  20.634  20.858  21.449  21.583  21.832  21.939]\n",
      "balance_trade_growth [  nan  -4.1  -3.4  -0.9   2.2   2.6   4.6   5.1   7.2   7.6   8.    8.1\n",
      "   9.4  10.1  10.5  14.1  16.8  18.1  18.6  18.7  21.5  27.9  32.9  33.6\n",
      "  34.4  47.5  75.8]\n",
      "usdrub 1754\n",
      "eurrub 1760\n",
      "brent 1474\n",
      "gdp_annual [ 38807.2  46308.5  59698.1  66926.9  71016.7  77945.1  80804.3]\n",
      "gdp_annual_growth [-0.07820858 -0.03726732  0.00706515  0.01279487  0.03517867  0.04264352\n",
      "  0.04503714]\n",
      "average_provision_of_build_contract [ 4.     4.85   4.925  5.     5.65   5.75   5.76   5.8    5.82   5.87   5.91\n",
      "  5.94   5.96   5.97   5.98   5.99   6.01   6.07   6.08   6.14   6.2    6.22\n",
      "  6.29   6.33   6.46 ]\n",
      "rts 1680\n",
      "micex 1656\n",
      "micex_rgbi_tr 1063\n",
      "micex_cbi_tr 1511\n",
      "deposits_value [ 7484970  7502586  7671661  7797699  8037359  8176045  8879272  9080705\n",
      "  9250426  9729658  9818048  9920657 10018028 10230436 10280337 10516464\n",
      " 10618898 10720911 10876079 10920215 11061372 11638442 11793393 11871363\n",
      " 11984283 12259615 12509440 12830586 12833440 13057606 13196495 13434237\n",
      " 14069260 14251046 14396193 14738946 15210054 15227268 15632019 15796827\n",
      " 15945713 16062065 16260794 16563850 16689420 16756486 16847471 16883220\n",
      " 16908024 16957531 17111775 17297538 17685383 18087076 18552682 19077332\n",
      " 19092873 19132819 19328702 19383170 19892300 20402581 21121680 21192815\n",
      " 21214913 21491188 22518876 22673775 22801529 22924700 22970506 23062717\n",
      " 23219077 23453188]\n",
      "deposits_growth [             nan  -2.03556610e-02  -1.96613000e-02  -1.96204090e-02\n",
      "  -1.79829720e-02  -1.58107330e-02  -1.30050120e-02  -1.27559760e-02\n",
      "  -9.00280800e-03  -5.40051400e-03  -4.04167900e-03  -1.04162600e-03\n",
      "  -2.22388000e-04   3.76280000e-06   8.14632000e-04   1.13175100e-03\n",
      "   1.52606800e-03   1.96039600e-03   2.09219400e-03   2.35351600e-03\n",
      "   4.41409000e-03   4.87770000e-03   6.02045000e-03   6.87862900e-03\n",
      "   7.29675700e-03   7.41077500e-03   7.56328000e-03   9.60674100e-03\n",
      "   9.74034600e-03   9.81497500e-03   1.05429760e-02   1.06366360e-02\n",
      "   1.10667500e-02   1.23725690e-02   1.30848990e-02   1.30983580e-02\n",
      "   1.33137240e-02   1.35374060e-02   1.40789700e-02   1.61861820e-02\n",
      "   1.64290370e-02   1.69308330e-02   1.70367460e-02   1.71228910e-02\n",
      "   1.72551710e-02   1.80155410e-02   1.80419160e-02   1.85902110e-02\n",
      "   1.86902890e-02   1.96305970e-02   2.03778830e-02   2.12025760e-02\n",
      "   2.24219770e-02   2.25355630e-02   2.26857560e-02   2.27132770e-02\n",
      "   2.29688000e-02   2.29744240e-02   2.32373980e-02   2.38085860e-02\n",
      "   2.56521870e-02   2.57424690e-02   2.59004400e-02   2.62666010e-02\n",
      "   2.65806710e-02   3.07347080e-02   3.19634800e-02   3.52454920e-02\n",
      "   4.18279150e-02   4.28476620e-02   6.08005500e-02   6.13617150e-02\n",
      "   7.32269920e-02   8.03998830e-02]\n",
      "mortgage_value [   8016   19901   23154   38606   46163   51472   54280   61748   70259\n",
      "   72265   79003   97227  101913  102355  125900  131412  142968  149640\n",
      "  152437  157548  179153  188524  197265  204217  204872  217176  222960\n",
      "  224235  260473  264049  265304  297857  301488  323136  323275  333115\n",
      "  336199  343701  364634  371332  386388  424105  429229  446114  452674\n",
      "  458999  493603  510527  521529  535188  549848  555335  596508  604721\n",
      "  628163  650852  654765  663919  690820  697417  759239  766009  774561\n",
      "  774624  791792  870312  894584  895130  899539  922855  982732 1017316\n",
      " 1029124 1067947 1157760 1160728 1215518 1338731 1379684 1528991 1753294]\n",
      "mortgage_rate [ 11.4   11.57  11.63  11.74  11.83  11.84  11.92  11.93  11.97  12.08\n",
      "  12.09  12.1   12.12  12.16  12.18  12.2   12.22  12.23  12.25  12.26\n",
      "  12.28  12.29  12.3   12.34  12.37  12.41  12.43  12.44  12.45  12.51\n",
      "  12.55  12.61  12.62  12.63  12.66  12.67  12.69  12.7   12.75  12.82\n",
      "  12.83  12.85  12.86  12.88  12.89  12.92  12.94  12.99  13.12  13.16\n",
      "  13.17  13.22  13.29  13.3   13.32  13.41  13.42  13.44  13.46  13.64\n",
      "  13.72  13.93  14.05  14.16  14.7   14.71]\n",
      "fixed_basket [ 11443.63  11524.14  11577.71  11626.99  11702.15  11708.46  11732.33\n",
      "  11814.03  11920.13  12002.06  12094.33  12225.81  12728.09  12790.55\n",
      "  12838.36  12856.97  12882.9   12922.97  12959.49  12988.41  12992.44\n",
      "  12995.37  13040.16  13068.42  13128.84  13166.88  13243.77  13292.33\n",
      "  13350.32  13494.23  13660.59  13726.03  13762.47  13807.34  13872.82\n",
      "  13948.2   14289.4   14377.54  14581.91  14739.33  14983.92  15130.84\n",
      "  15163.82  15215.84  15241.93  15285.65  15367.58  15417.34  15608.27\n",
      "  15730.81  15916.88  16041.58  16134.39  16165.3   16205.25  16251.41\n",
      "  16269.79  16295.    16648.7   16910.54  17817.4   18295.07  18557.88\n",
      "  18642.71  18720.65  18745.28  19042.99  19088.53  19140.87  19156.19\n",
      "  19213.32  19274.42  19461.67  19544.19  19807.43  19904.31  20031.98\n",
      "  20099.15  20354.78  20380.73  20422.5 ]\n"
     ]
    }
   ],
   "source": [
    "# Get rid of observations with high freq observations\n",
    "#observing the useful macro dataset to eliminate features that have very few unique values\n",
    "for column in macro_imp.columns :\n",
    "    if macro_imp[column].nunique() < 100 :\n",
    "        print column, np.array(sorted(macro_imp[column].unique()))\n",
    "    else :\n",
    "        print column, macro_imp[column].nunique()\n",
    "\n",
    "# prints number of unique observations if available, else prints only 100 values"
   ]
  },
  {
   "cell_type": "code",
   "execution_count": 716,
   "metadata": {
    "collapsed": false
   },
   "outputs": [
    {
     "name": "stdout",
     "output_type": "stream",
     "text": [
      "timestamp 2484\n",
      "oil_urals 81\n",
      "gdp_quart 26\n",
      "gdp_quart_growth 23\n",
      "cpi 78\n",
      "ppi 81\n",
      "balance_trade 80\n",
      "balance_trade_growth 26\n",
      "usdrub 1754\n",
      "eurrub 1760\n",
      "brent 1474\n",
      "gdp_annual 7\n",
      "gdp_annual_growth 7\n",
      "average_provision_of_build_contract 25\n",
      "rts 1680\n",
      "micex 1656\n",
      "micex_rgbi_tr 1063\n",
      "micex_cbi_tr 1511\n",
      "deposits_value 74\n",
      "deposits_growth 73\n",
      "mortgage_value 81\n",
      "mortgage_rate 66\n",
      "fixed_basket 81\n"
     ]
    }
   ],
   "source": [
    "# number of unique values \n",
    "for column in macro_imp.columns :\n",
    "    print column, macro_imp[column].nunique()"
   ]
  },
  {
   "cell_type": "code",
   "execution_count": 717,
   "metadata": {
    "collapsed": false
   },
   "outputs": [
    {
     "name": "stdout",
     "output_type": "stream",
     "text": [
      "timestamp 1161\n",
      "full_sq 211\n",
      "life_sq 175\n",
      "floor 41\n",
      "max_floor 49\n",
      "material 6\n",
      "build_year 119\n",
      "num_room 13\n",
      "kitch_sq 74\n",
      "state 5\n",
      "product_type 2\n",
      "sub_area 146\n",
      "area_m 146\n",
      "raion_popul 146\n",
      "green_zone_part 146\n",
      "indust_part 132\n",
      "children_preschool 146\n",
      "preschool_quota 121\n",
      "preschool_education_centers_raion 13\n",
      "children_school 146\n",
      "school_quota 125\n",
      "school_education_centers_raion 14\n",
      "school_education_centers_top_20_raion 3\n",
      "hospital_beds_raion 79\n",
      "healthcare_centers_raion 7\n",
      "university_top_20_raion 4\n",
      "sport_objects_raion 24\n",
      "additional_education_raion 12\n",
      "culture_objects_top_25 2\n",
      "culture_objects_top_25_raion 6\n",
      "shopping_centers_raion 16\n",
      "office_raion 30\n",
      "thermal_power_plant_raion 2\n",
      "incineration_raion 2\n",
      "oil_chemistry_raion 2\n",
      "radiation_raion 2\n",
      "railroad_terminal_raion 2\n",
      "big_market_raion 2\n",
      "nuclear_reactor_raion 2\n",
      "detention_facility_raion 2\n",
      "full_all 146\n",
      "male_f 146\n",
      "female_f 146\n",
      "young_all 146\n",
      "young_male 145\n",
      "young_female 145\n",
      "work_all 145\n",
      "work_male 145\n",
      "work_female 146\n",
      "ekder_all 146\n",
      "ekder_male 146\n",
      "ekder_female 146\n",
      "0_6_all 146\n",
      "0_6_male 144\n",
      "0_6_female 145\n",
      "7_14_all 146\n",
      "7_14_male 142\n",
      "7_14_female 145\n",
      "0_17_all 145\n",
      "0_17_male 146\n",
      "0_17_female 146\n",
      "16_29_all 145\n",
      "16_29_male 145\n",
      "16_29_female 146\n",
      "0_13_all 146\n",
      "0_13_male 144\n",
      "0_13_female 146\n",
      "raion_build_count_with_material_info 112\n",
      "build_count_block 76\n",
      "build_count_wood 34\n",
      "build_count_frame 21\n",
      "build_count_brick 101\n",
      "build_count_monolith 33\n",
      "build_count_panel 91\n",
      "build_count_foam 4\n",
      "build_count_slag 21\n",
      "build_count_mix 9\n",
      "raion_build_count_with_builddate_info 114\n",
      "build_count_before_1920 29\n",
      "build_count_1921-1945 47\n",
      "build_count_1946-1970 100\n",
      "build_count_1971-1995 92\n",
      "build_count_after_1995 69\n",
      "ID_metro 223\n",
      "metro_min_avto 11843\n",
      "metro_km_avto 11843\n",
      "metro_min_walk 11834\n",
      "metro_km_walk 11834\n",
      "kindergarten_km 11852\n",
      "school_km 11825\n",
      "park_km 11852\n",
      "green_zone_km 11735\n",
      "industrial_km 11723\n",
      "water_treatment_km 11828\n",
      "cemetery_km 11828\n",
      "incineration_km 11829\n",
      "railroad_station_walk_km 11834\n",
      "railroad_station_walk_min 11834\n",
      "ID_railroad_station_walk 133\n",
      "railroad_station_avto_km 11843\n",
      "railroad_station_avto_min 11843\n",
      "ID_railroad_station_avto 133\n",
      "public_transport_station_km 11851\n",
      "public_transport_station_min_walk 11852\n",
      "water_km 11851\n",
      "water_1line 2\n",
      "mkad_km 11852\n",
      "ttk_km 11852\n",
      "sadovoe_km 11852\n",
      "bulvar_ring_km 11852\n",
      "kremlin_km 11852\n",
      "big_road1_km 11852\n",
      "ID_big_road1 48\n",
      "big_road1_1line 2\n",
      "big_road2_km 11852\n",
      "ID_big_road2 58\n",
      "railroad_km 11852\n",
      "railroad_1line 2\n",
      "zd_vokzaly_avto_km 11843\n",
      "ID_railroad_terminal 8\n",
      "bus_terminal_avto_km 11843\n",
      "ID_bus_terminal 14\n",
      "oil_chemistry_km 11852\n",
      "nuclear_reactor_km 11852\n",
      "radiation_km 11852\n",
      "power_transmission_line_km 11852\n",
      "thermal_power_plant_km 11852\n",
      "ts_km 11849\n",
      "big_market_km 11843\n",
      "market_shop_km 11843\n",
      "fitness_km 11775\n",
      "swim_pool_km 11843\n",
      "ice_rink_km 11843\n",
      "stadium_km 11843\n",
      "basketball_km 11852\n",
      "hospice_morgue_km 11852\n",
      "detention_facility_km 11843\n",
      "public_healthcare_km 11843\n",
      "university_km 11843\n",
      "workplaces_km 11844\n",
      "shopping_centers_km 11813\n",
      "office_km 11806\n",
      "additional_education_km 11843\n",
      "preschool_km 11828\n",
      "big_church_km 11852\n",
      "church_synagogue_km 11852\n",
      "mosque_km 11852\n",
      "theater_km 11843\n",
      "museum_km 11852\n",
      "exhibition_km 11852\n",
      "catering_km 11852\n",
      "ecology 5\n",
      "green_part_500 3313\n",
      "prom_part_500 2571\n",
      "office_count_500 30\n",
      "office_sqm_500 1070\n",
      "trc_count_500 9\n",
      "trc_sqm_500 500\n",
      "cafe_count_500 95\n",
      "cafe_sum_500_min_price_avg 655\n",
      "cafe_sum_500_max_price_avg 446\n",
      "cafe_avg_price_500 860\n",
      "cafe_count_500_na_price 13\n",
      "cafe_count_500_price_500 33\n",
      "cafe_count_500_price_1000 32\n",
      "cafe_count_500_price_1500 29\n",
      "cafe_count_500_price_2500 21\n",
      "cafe_count_500_price_4000 14\n",
      "cafe_count_500_price_high 4\n",
      "big_church_count_500 11\n",
      "church_count_500 15\n",
      "mosque_count_500 2\n",
      "leisure_count_500 10\n",
      "sport_count_500 12\n",
      "market_count_500 5\n",
      "green_part_1000 3735\n",
      "prom_part_1000 3175\n",
      "office_count_1000 84\n",
      "office_sqm_1000 1942\n",
      "trc_count_1000 19\n",
      "trc_sqm_1000 1063\n",
      "cafe_count_1000 235\n",
      "cafe_sum_1000_min_price_avg 1627\n",
      "cafe_sum_1000_max_price_avg 1054\n",
      "cafe_avg_price_1000 2134\n",
      "cafe_count_1000_na_price 28\n",
      "cafe_count_1000_price_500 82\n",
      "cafe_count_1000_price_1000 83\n",
      "cafe_count_1000_price_1500 84\n",
      "cafe_count_1000_price_2500 57\n",
      "cafe_count_1000_price_4000 29\n",
      "cafe_count_1000_price_high 8\n",
      "big_church_count_1000 24\n",
      "church_count_1000 36\n",
      "mosque_count_1000 2\n",
      "leisure_count_1000 26\n",
      "sport_count_1000 23\n",
      "market_count_1000 7\n",
      "green_part_1500 3934\n",
      "prom_part_1500 3332\n",
      "office_count_1500 154\n",
      "office_sqm_1500 2639\n",
      "trc_count_1500 27\n",
      "trc_sqm_1500 1785\n",
      "cafe_count_1500 374\n",
      "cafe_sum_1500_min_price_avg 2582\n",
      "cafe_sum_1500_max_price_avg 1723\n",
      "cafe_avg_price_1500 3330\n",
      "cafe_count_1500_na_price 48\n",
      "cafe_count_1500_price_500 147\n",
      "cafe_count_1500_price_1000 145\n",
      "cafe_count_1500_price_1500 135\n",
      "cafe_count_1500_price_2500 97\n",
      "cafe_count_1500_price_4000 53\n",
      "cafe_count_1500_price_high 13\n",
      "big_church_count_1500 42\n",
      "church_count_1500 62\n",
      "mosque_count_1500 2\n",
      "leisure_count_1500 41\n",
      "sport_count_1500 34\n",
      "market_count_1500 8\n",
      "green_part_2000 3981\n",
      "prom_part_2000 3348\n",
      "office_count_2000 226\n",
      "office_sqm_2000 3288\n",
      "trc_count_2000 37\n",
      "trc_sqm_2000 2397\n",
      "cafe_count_2000 529\n",
      "cafe_sum_2000_min_price_avg 3537\n",
      "cafe_sum_2000_max_price_avg 2429\n",
      "cafe_avg_price_2000 4505\n",
      "cafe_count_2000_na_price 68\n",
      "cafe_count_2000_price_500 212\n",
      "cafe_count_2000_price_1000 210\n",
      "cafe_count_2000_price_1500 215\n",
      "cafe_count_2000_price_2500 145\n",
      "cafe_count_2000_price_4000 73\n",
      "cafe_count_2000_price_high 17\n",
      "big_church_count_2000 63\n",
      "church_count_2000 95\n",
      "mosque_count_2000 2\n",
      "leisure_count_2000 52\n",
      "sport_count_2000 53\n",
      "market_count_2000 9\n",
      "green_part_3000 3924\n",
      "prom_part_3000 3061\n",
      "office_count_3000 395\n",
      "office_sqm_3000 4281\n",
      "trc_count_3000 65\n",
      "trc_sqm_3000 3419\n",
      "cafe_count_3000 877\n",
      "cafe_sum_3000_min_price_avg 5163\n",
      "cafe_sum_3000_max_price_avg 3885\n",
      "cafe_avg_price_3000 6087\n",
      "cafe_count_3000_na_price 112\n",
      "cafe_count_3000_price_500 360\n",
      "cafe_count_3000_price_1000 358\n",
      "cafe_count_3000_price_1500 343\n",
      "cafe_count_3000_price_2500 244\n",
      "cafe_count_3000_price_4000 112\n",
      "cafe_count_3000_price_high 24\n",
      "big_church_count_3000 101\n",
      "church_count_3000 160\n",
      "mosque_count_3000 3\n",
      "leisure_count_3000 80\n",
      "sport_count_3000 101\n",
      "market_count_3000 11\n",
      "green_part_5000 3514\n",
      "prom_part_5000 2399\n",
      "office_count_5000 725\n",
      "office_sqm_5000 5970\n",
      "trc_count_5000 121\n",
      "trc_sqm_5000 5204\n",
      "cafe_count_5000 1580\n",
      "cafe_sum_5000_min_price_avg 7249\n",
      "cafe_sum_5000_max_price_avg 6305\n",
      "cafe_avg_price_5000 7857\n",
      "cafe_count_5000_na_price 175\n",
      "cafe_count_5000_price_500 610\n",
      "cafe_count_5000_price_1000 603\n",
      "cafe_count_5000_price_1500 599\n",
      "cafe_count_5000_price_2500 375\n",
      "cafe_count_5000_price_4000 148\n",
      "cafe_count_5000_price_high 31\n",
      "big_church_count_5000 152\n",
      "church_count_5000 251\n",
      "mosque_count_5000 3\n",
      "leisure_count_5000 107\n",
      "sport_count_5000 216\n",
      "market_count_5000 22\n",
      "price_doc 9296\n"
     ]
    }
   ],
   "source": [
    "# number of unique values \n",
    "for column in train_raw.columns :\n",
    "    print column, train_raw[column].nunique()"
   ]
  },
  {
   "cell_type": "code",
   "execution_count": 702,
   "metadata": {
    "collapsed": true
   },
   "outputs": [],
   "source": [
    "# Based on the above output, taking a subset of features to join with training\n",
    "macro_feat = ['timestamp', 'oil_urals', 'cpi', 'usdrub', 'rts', 'mortgage_rate', 'balance_trade', 'brent', 'micex', 'micex_cbi_tr', 'micex_rgbi_tr', 'fixed_basket']\n",
    "macro_usefeat = macro[macro_imp2]"
   ]
  },
  {
   "cell_type": "code",
   "execution_count": 703,
   "metadata": {
    "collapsed": false,
    "scrolled": true
   },
   "outputs": [],
   "source": [
    "#concatenating train and test by leaving out price, then merging important features in macro \n",
    "\n",
    "join_df = pd.concat((train_raw.loc[:,:'market_count_5000'],\n",
    "                      test_raw.loc[:,:'market_count_5000']))\n",
    "\n",
    "\n",
    "df = pd.merge(join_df, macro_usefeat, on = 'timestamp', how='left')"
   ]
  },
  {
   "cell_type": "code",
   "execution_count": 704,
   "metadata": {
    "collapsed": false,
    "scrolled": true
   },
   "outputs": [],
   "source": [
    "#log transform skewed data for normality assumption\n",
    "\n",
    "train_raw[\"price_doc\"] = np.log1p(train_raw[\"price_doc\"])\n",
    "\n",
    "#log transform skewed numeric features\n",
    "#get skewed columns\n",
    "get_col = df.dtypes[(df.dtypes == \"int64\") | (df.dtypes == \"float64\")].index\n",
    "\n",
    "get_skews = df[get_col].apply(lambda x: skew(x.dropna()))\n",
    "get_skews = get_skews[get_skews>0.75]\n",
    "get_skews = get_skews.index\n",
    "\n",
    "df = pd.get_dummies(df)\n",
    "#fill na with mean\n",
    "df = df.fillna(df.mean())\n"
   ]
  },
  {
   "cell_type": "code",
   "execution_count": 705,
   "metadata": {
    "collapsed": false,
    "scrolled": true
   },
   "outputs": [],
   "source": [
    "#apply normality to columns in both train and test data\n",
    "df[get_skews] = np.log1p(df[get_skews])"
   ]
  },
  {
   "cell_type": "code",
   "execution_count": 706,
   "metadata": {
    "collapsed": false,
    "scrolled": true
   },
   "outputs": [],
   "source": [
    "\n",
    "train_time = df[:train_raw.shape[0]]\n",
    "test = df[train_raw.shape[0]:]\n",
    "#train_price = train_raw.price_doc\n",
    "\n",
    "train = train_time.drop(['timestamp'], axis=1)\n",
    "\n",
    "train_price = train_raw.price_doc"
   ]
  },
  {
   "cell_type": "code",
   "execution_count": 707,
   "metadata": {
    "collapsed": false,
    "scrolled": true
   },
   "outputs": [],
   "source": [
    "def rmsle_cv(model):\n",
    "    rmsle= np.sqrt(-cross_val_score(model, train, train_price, scoring=\"neg_mean_squared_error\", cv = 5))\n",
    "    return(rmsle)"
   ]
  },
  {
   "cell_type": "code",
   "execution_count": 708,
   "metadata": {
    "collapsed": false,
    "scrolled": true
   },
   "outputs": [],
   "source": [
    "model_ridge = Ridge()\n",
    "\n",
    "alphas = [0.05, 0.1, 0.3, 0.5, 1, 5, 10, 15, 30, 50, 75]\n",
    "cv_ridge = [rmsle_cv(Ridge(alpha = alpha)).mean() \n",
    "            for alpha in alphas]"
   ]
  },
  {
   "cell_type": "code",
   "execution_count": 709,
   "metadata": {
    "collapsed": false,
    "scrolled": true
   },
   "outputs": [
    {
     "data": {
      "text/plain": [
       "<matplotlib.text.Text at 0x1f3b6d68>"
      ]
     },
     "execution_count": 709,
     "metadata": {},
     "output_type": "execute_result"
    },
    {
     "data": {
      "image/png": "[encoded data removed]",
      "text/plain": [
       "<matplotlib.figure.Figure at 0x732ff9e8>"
      ]
     },
     "metadata": {},
     "output_type": "display_data"
    }
   ],
   "source": [
    "cv_ridge = pd.Series(cv_ridge, index = alphas)\n",
    "cv_ridge.plot(title = \"Ridge regression\")\n",
    "plt.xlabel(\"Alpha\")\n",
    "plt.ylabel(\"RMSLE\")"
   ]
  },
  {
   "cell_type": "code",
   "execution_count": 710,
   "metadata": {
    "collapsed": false,
    "scrolled": true
   },
   "outputs": [
    {
     "data": {
      "text/plain": [
       "0.48117238078123548"
      ]
     },
     "execution_count": 710,
     "metadata": {},
     "output_type": "execute_result"
    }
   ],
   "source": [
    "cv_ridge.min() #error in Ridge regression"
   ]
  },
  {
   "cell_type": "code",
   "execution_count": 711,
   "metadata": {
    "collapsed": false,
    "scrolled": true
   },
   "outputs": [],
   "source": [
    "model_lasso = LassoCV(alphas = [0.1,0.3, 0.5,1,2,3,4,5]).fit(train, train_price)"
   ]
  },
  {
   "cell_type": "code",
   "execution_count": 712,
   "metadata": {
    "collapsed": false,
    "scrolled": true
   },
   "outputs": [
    {
     "data": {
      "text/plain": [
       "0.52902010519453213"
      ]
     },
     "execution_count": 712,
     "metadata": {},
     "output_type": "execute_result"
    }
   ],
   "source": [
    "rmsle_cv(model_lasso).min() #error in Lasso regression"
   ]
  },
  {
   "cell_type": "code",
   "execution_count": 713,
   "metadata": {
    "collapsed": false,
    "scrolled": true
   },
   "outputs": [
    {
     "name": "stdout",
     "output_type": "stream",
     "text": [
      "Lasso picked 19 features\n",
      "435 features were removed\n"
     ]
    }
   ],
   "source": [
    "feat = pd.Series(model_lasso.coef_, index = train.columns)\n",
    "print(\"Lasso picked \" + str(sum(feat != 0)) + \" features\")\n",
    "print (str(sum(feat == 0)) + \" features were removed\")"
   ]
  },
  {
   "cell_type": "code",
   "execution_count": 714,
   "metadata": {
    "collapsed": false
   },
   "outputs": [
    {
     "data": {
      "text/plain": [
       "<matplotlib.text.Text at 0x75483860>"
      ]
     },
     "execution_count": 714,
     "metadata": {},
     "output_type": "execute_result"
    },
    {
     "data": {
      "image/png": "[encoded data removed]",
      "text/plain": [
       "<matplotlib.figure.Figure at 0x6fa5aef0>"
      ]
     },
     "metadata": {},
     "output_type": "display_data"
    }
   ],
   "source": [
    "features = pd.concat([feat.sort_values().head(11), feat.sort_values().tail(11)])\n",
    "matplotlib.rcParams['figure.figsize'] = (10, 12)\n",
    "features.plot(kind = \"barh\")\n",
    "plt.title(\"Lasso output\")"
   ]
  },
  {
   "cell_type": "code",
   "execution_count": 718,
   "metadata": {
    "collapsed": false
   },
   "outputs": [
    {
     "data": {
      "text/plain": [
       "<matplotlib.text.Text at 0x7134f908>"
      ]
     },
     "execution_count": 718,
     "metadata": {},
     "output_type": "execute_result"
    },
    {
     "data": {
      "image/png": "[encoded data removed]",
      "text/plain": [
       "<matplotlib.figure.Figure at 0x77836198>"
      ]
     },
     "metadata": {},
     "output_type": "display_data"
    }
   ],
   "source": [
    "logprice = pd.DataFrame({\"logprice\":model_lasso.predict(train), \"true\":train_price})\n",
    "logprice[\"residuals\"] = logprice[\"true\"] - logprice[\"logprice\"]\n",
    "logprice.plot(x = \"logprice\", y = \"residuals\",kind = \"scatter\")\n",
    "plt.title(\"residual plot\")"
   ]
  }
 ],
 "metadata": {
  "kernelspec": {
   "display_name": "Python 2",
   "language": "python",
   "name": "python2"
  },
  "language_info": {
   "codemirror_mode": {
    "name": "ipython",
    "version": 2
   },
   "file_extension": ".py",
   "mimetype": "text/x-python",
   "name": "python",
   "nbconvert_exporter": "python",
   "pygments_lexer": "ipython2",
   "version": "2.7.13"
  }
 },
 "nbformat": 4,
 "nbformat_minor": 2
}
