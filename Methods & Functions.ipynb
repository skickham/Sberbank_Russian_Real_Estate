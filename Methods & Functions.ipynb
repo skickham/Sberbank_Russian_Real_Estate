{
 "cells": [
  {
   "cell_type": "markdown",
   "metadata": {},
   "source": [
    "## Repository for reusable methods we create:"
   ]
  },
  {
   "cell_type": "code",
   "execution_count": 176,
   "metadata": {
    "collapsed": true
   },
   "outputs": [],
   "source": [
    "import pandas as pd\n",
    "import numpy as np\n",
    "from matplotlib import pyplot as plt\n",
    "import seaborn as sns\n",
    "from scipy import stats\n",
    "from sklearn.pipeline import Pipeline as pipeline\n",
    "from sklearn import preprocessing\n",
    "\n",
    "%matplotlib inline\n",
    "\n",
    "# load datasets\n",
    "train = pd.read_csv('./Sberbank/train.csv')\n",
    "test = pd.read_csv('./Sberbank/test.csv')\n",
    "macro = pd.read_csv('./Sberbank/macro.csv')"
   ]
  },
  {
   "cell_type": "markdown",
   "metadata": {},
   "source": [
    "### Feature Selection:"
   ]
  },
  {
   "cell_type": "markdown",
   "metadata": {},
   "source": [
    "##### Return feature desription (similar to describe but with more pertinant information for our project)"
   ]
  },
  {
   "cell_type": "code",
   "execution_count": 162,
   "metadata": {
    "collapsed": true
   },
   "outputs": [],
   "source": [
    "# find correlation between features\n",
    "def feature_correlation(df, cutoff):\n",
    "    corr_df = df.corr()\n",
    "    return corr_df[((corr_df > cutoff) | (corr_df < -cutoff)) & (corr_df < 0.98)].stack()\n"
   ]
  },
  {
   "cell_type": "markdown",
   "metadata": {},
   "source": [
    "**Example:**"
   ]
  },
  {
   "cell_type": "code",
   "execution_count": 168,
   "metadata": {
    "collapsed": false,
    "scrolled": true
   },
   "outputs": [
    {
     "data": {
      "text/plain": [
       "raion_popul                        children_preschool                0.952975\n",
       "                                   children_school                   0.955978\n",
       "                                   young_all                         0.958948\n",
       "                                   young_male                        0.958096\n",
       "                                   young_female                      0.957795\n",
       "                                   ekder_all                         0.949845\n",
       "                                   ekder_male                        0.921398\n",
       "                                   ekder_female                      0.957663\n",
       "                                   0_6_all                           0.952975\n",
       "                                   0_6_male                          0.952835\n",
       "                                   0_6_female                        0.951102\n",
       "                                   7_14_all                          0.955978\n",
       "                                   7_14_male                         0.955663\n",
       "                                   7_14_female                       0.952884\n",
       "                                   0_17_all                          0.961233\n",
       "                                   0_17_male                         0.960061\n",
       "                                   0_17_female                       0.960591\n",
       "                                   0_13_all                          0.957944\n",
       "                                   0_13_male                         0.957151\n",
       "                                   0_13_female                       0.956529\n",
       "children_preschool                 raion_popul                       0.952975\n",
       "                                   work_all                          0.952759\n",
       "                                   work_male                         0.945963\n",
       "                                   work_female                       0.954086\n",
       "                                   7_14_female                       0.979125\n",
       "preschool_quota                    school_quota                      0.933860\n",
       "preschool_education_centers_raion  school_education_centers_raion    0.952942\n",
       "children_school                    raion_popul                       0.955978\n",
       "                                   work_all                          0.951614\n",
       "                                   work_male                         0.943334\n",
       "                                                                       ...   \n",
       "church_count_5000                  cafe_count_5000                   0.979156\n",
       "                                   cafe_count_5000_na_price          0.968435\n",
       "                                   cafe_count_5000_price_500         0.978989\n",
       "                                   cafe_count_5000_price_2500        0.968185\n",
       "                                   cafe_count_5000_price_4000        0.937698\n",
       "                                   leisure_count_5000                0.975933\n",
       "leisure_count_5000                 office_raion                      0.906302\n",
       "                                   office_count_1000                 0.919760\n",
       "                                   office_count_1500                 0.944056\n",
       "                                   office_count_2000                 0.947149\n",
       "                                   office_count_3000                 0.962232\n",
       "                                   office_sqm_3000                   0.924407\n",
       "                                   cafe_count_3000                   0.931783\n",
       "                                   cafe_count_3000_na_price          0.926026\n",
       "                                   cafe_count_3000_price_500         0.928618\n",
       "                                   cafe_count_3000_price_1000        0.934309\n",
       "                                   cafe_count_3000_price_1500        0.928993\n",
       "                                   cafe_count_3000_price_2500        0.928776\n",
       "                                   big_church_count_3000             0.927218\n",
       "                                   church_count_3000                 0.929618\n",
       "                                   leisure_count_3000                0.900241\n",
       "                                   office_sqm_5000                   0.916109\n",
       "                                   cafe_count_5000_na_price          0.970695\n",
       "                                   cafe_count_5000_price_1000        0.979710\n",
       "                                   cafe_count_5000_price_4000        0.970298\n",
       "                                   cafe_count_5000_price_high        0.938094\n",
       "                                   big_church_count_5000             0.968887\n",
       "                                   church_count_5000                 0.975933\n",
       "sport_count_5000                   sport_count_3000                  0.950149\n",
       "                                   trc_count_5000                    0.919160\n",
       "Length: 2870, dtype: float64"
      ]
     },
     "execution_count": 168,
     "metadata": {},
     "output_type": "execute_result"
    }
   ],
   "source": [
    "feature_correlation(test, 0.9)"
   ]
  },
  {
   "cell_type": "code",
   "execution_count": 172,
   "metadata": {
    "collapsed": false
   },
   "outputs": [],
   "source": [
    "transformations = [np.log1p, np.log10, \n",
    "                       np.log, np.sqrt, np.square]\n",
    "def feature_transform(df, feature, transformations):\n",
    "    plot_df = pd.DataFrame({})\n",
    "    for transformation in transformations:\n",
    "#         plot_df['{0}'.format(transformation)] = transformation(df[feature]) \n",
    "        sns.distplot(transformation(df[feature]))\n",
    "    return sns.distplot(plot_df, hist=False, color=list(plot_df.columns))"
   ]
  },
  {
   "cell_type": "markdown",
   "metadata": {},
   "source": [
    "##### Features by Region"
   ]
  },
  {
   "cell_type": "markdown",
   "metadata": {},
   "source": [
    "##### Merge train and test dataframes to compare with different plots "
   ]
  },
  {
   "cell_type": "code",
   "execution_count": 9,
   "metadata": {
    "collapsed": true
   },
   "outputs": [],
   "source": [
    "def df_compare(test, train, feature):\n",
    "    \n",
    "    merged = {'test' : test[feature],\n",
    "             'train' : train[feature]}\n",
    "\n",
    "    return pd.DataFrame(merged)"
   ]
  },
  {
   "cell_type": "markdown",
   "metadata": {},
   "source": [
    "**Example:**"
   ]
  },
  {
   "cell_type": "code",
   "execution_count": 173,
   "metadata": {
    "collapsed": false
   },
   "outputs": [],
   "source": [
    "# by sub_area function for feature \n",
    "\n",
    "# per raion, which feature has the highest correlation to price\n",
    "# group raions into groups based on geolocation\n",
    "# into groups based on similar correlation patterns\n",
    "# investment vs. owner (correlations comparing the two)\n",
    "\n",
    "# input list of transformations, output normality \n",
    "    # box-cox, for interpretability, round each optimal lambda to the nearest tenth to prevent overfitting\n",
    "# log1p, log10, log, sqrt, ^2, "
   ]
  },
  {
   "cell_type": "code",
   "execution_count": 174,
   "metadata": {
    "collapsed": true
   },
   "outputs": [],
   "source": [
    "def df_log(df, feature):\n",
    "    merged = {feature : df[feature],\n",
    "             'log' : np.log1p(df[feature])}\n",
    "    return pd.DataFrame(merged)"
   ]
  },
  {
   "cell_type": "code",
   "execution_count": 175,
   "metadata": {
    "collapsed": false
   },
   "outputs": [],
   "source": [
    "transformations = [np.log1p, np.log10, np.log, np.sqrt, np.square]\n",
    "        \n"
   ]
  },
  {
   "cell_type": "code",
   "execution_count": null,
   "metadata": {
    "collapsed": true
   },
   "outputs": [],
   "source": []
  }
 ],
 "metadata": {
  "kernelspec": {
   "display_name": "Python 2",
   "language": "python",
   "name": "python2"
  },
  "language_info": {
   "codemirror_mode": {
    "name": "ipython",
    "version": 2
   },
   "file_extension": ".py",
   "mimetype": "text/x-python",
   "name": "python",
   "nbconvert_exporter": "python",
   "pygments_lexer": "ipython2",
   "version": "2.7.13"
  }
 },
 "nbformat": 4,
 "nbformat_minor": 2
}
